{
  "cells": [
    {
      "cell_type": "markdown",
      "metadata": {
        "id": "view-in-github",
        "colab_type": "text"
      },
      "source": [
        "<a href=\"https://colab.research.google.com/github/igorswiezy/Camden_Council_Python/blob/main/Swiezy_Igor_1_Camden_Tree_JupyterNotebook_07112023.ipynb\" target=\"_parent\"><img src=\"https://colab.research.google.com/assets/colab-badge.svg\" alt=\"Open In Colab\"/></a>"
      ]
    },
    {
      "cell_type": "markdown",
      "id": "38bcec7a-f9ab-48e8-9553-e9ded639a576",
      "metadata": {
        "id": "38bcec7a-f9ab-48e8-9553-e9ded639a576"
      },
      "source": [
        "# Trees in Camden\n",
        "project by Igor Swiezy for Camden Borough Council."
      ]
    },
    {
      "cell_type": "code",
      "execution_count": null,
      "id": "26c7393c-3a3f-4224-8c88-10aa58310351",
      "metadata": {
        "id": "26c7393c-3a3f-4224-8c88-10aa58310351"
      },
      "outputs": [],
      "source": [
        "import pandas as pd"
      ]
    },
    {
      "cell_type": "markdown",
      "id": "3dd0dd30-406d-4635-888b-4157fa5e3f37",
      "metadata": {
        "id": "3dd0dd30-406d-4635-888b-4157fa5e3f37"
      },
      "source": [
        "**Site Name**"
      ]
    },
    {
      "cell_type": "code",
      "execution_count": null,
      "id": "3a4a0915-8d0e-45a2-a919-6b9fd49160da",
      "metadata": {
        "id": "3a4a0915-8d0e-45a2-a919-6b9fd49160da",
        "colab": {
          "base_uri": "https://localhost:8080/"
        },
        "outputId": "02e5e66d-5ff8-4604-caac-16b07a853121"
      },
      "outputs": [
        {
          "output_type": "execute_result",
          "data": {
            "text/plain": [
              "WATERLOW PARK (LS)                         920\n",
              "Alexandra & Ainsworth Estate               289\n",
              "Belsize nature reserve, Russell Nursery    278\n",
              "Holly Lodge Estate                         272\n",
              "LINCOLN'S INN FIELDS, GARDENS (LS)         193\n",
              "                                          ... \n",
              "GOLDINGTON CRESCENT                          1\n",
              "ALLCROFT ROAD                                1\n",
              "WOBURN WALK, LAND BEHIND 4-18                1\n",
              "KILBURN PRIORY                               1\n",
              "GOODGE PLACE                                 1\n",
              "Name: Site Name, Length: 1135, dtype: int64"
            ]
          },
          "metadata": {},
          "execution_count": 25
        }
      ],
      "source": [
        "# List of values in Site Name column and their counts\n",
        "df3[\"Site Name\"].value_counts()"
      ]
    },
    {
      "cell_type": "code",
      "execution_count": null,
      "id": "30f79dcc-0c78-407e-9479-131db91b2400",
      "metadata": {
        "colab": {
          "base_uri": "https://localhost:8080/"
        },
        "id": "30f79dcc-0c78-407e-9479-131db91b2400",
        "outputId": "b0365fe8-f9dd-4789-a6cb-a53fb188c1c0"
      },
      "outputs": [
        {
          "output_type": "execute_result",
          "data": {
            "text/plain": [
              "Highways              10062\n",
              "Housing                7500\n",
              "Parks                  4330\n",
              "Education              1288\n",
              "Corporate Landlord      264\n",
              "Name: Contract Area, dtype: int64"
            ]
          },
          "metadata": {},
          "execution_count": 26
        }
      ],
      "source": [
        "df3[\"Contract Area\"].value_counts()"
      ]
    },
    {
      "cell_type": "markdown",
      "source": [
        "Contract Area is **Quantitative discrete**."
      ],
      "metadata": {
        "id": "ORjfw8Lj4-Fe"
      },
      "id": "ORjfw8Lj4-Fe"
    },
    {
      "cell_type": "code",
      "execution_count": null,
      "id": "90a2c62b-fb2c-492d-a529-06cc6066802d",
      "metadata": {
        "id": "90a2c62b-fb2c-492d-a529-06cc6066802d",
        "colab": {
          "base_uri": "https://localhost:8080/"
        },
        "outputId": "09c9e557-5c3e-46d0-b87d-c60f989137b3"
      },
      "outputs": [
        {
          "output_type": "execute_result",
          "data": {
            "text/plain": [
              "Platanus x hispanica                                 3340\n",
              "Tilia europaea                                       1468\n",
              "Acer pseudoplatanus                                   941\n",
              "Betula pendula                                        765\n",
              "Fraxinus excelsior                                    754\n",
              "                                                     ... \n",
              "Vacant Tree Pit (planned: Populus tremula)              1\n",
              "Liriodendron fastigiata                                 1\n",
              "Sequoia sempervirens                                    1\n",
              "Sorbus x hybrida                                        1\n",
              "Vacant Tree Pit (planned: Acer rubrum 'Amstrong')       1\n",
              "Name: Scientific Name, Length: 543, dtype: int64"
            ]
          },
          "metadata": {},
          "execution_count": 27
        }
      ],
      "source": [
        "df3[\"Scientific Name\"].value_counts()"
      ]
    },
    {
      "cell_type": "markdown",
      "source": [
        "Scientific Name is **Quantitative discrete**."
      ],
      "metadata": {
        "id": "BfDabJI__Nzl"
      },
      "id": "BfDabJI__Nzl"
    },
    {
      "cell_type": "code",
      "execution_count": null,
      "id": "1f38b812-f955-481d-8964-55ce58be0290",
      "metadata": {
        "id": "1f38b812-f955-481d-8964-55ce58be0290",
        "colab": {
          "base_uri": "https://localhost:8080/"
        },
        "outputId": "5b54675d-07e2-475b-d8de-3ffff6b61ad5"
      },
      "outputs": [
        {
          "output_type": "execute_result",
          "data": {
            "text/plain": [
              "2017-10-07    259\n",
              "2018-08-29    224\n",
              "2019-06-25    190\n",
              "2019-10-30    188\n",
              "2017-06-13    187\n",
              "             ... \n",
              "2017-02-10      1\n",
              "2015-10-20      1\n",
              "2010-01-22      1\n",
              "2018-08-23      1\n",
              "2016-03-17      1\n",
              "Name: Inspection Date, Length: 414, dtype: int64"
            ]
          },
          "metadata": {},
          "execution_count": 28
        }
      ],
      "source": [
        "df3[\"Inspection Date\"].value_counts()"
      ]
    },
    {
      "cell_type": "markdown",
      "source": [
        "Inspection Date is **Quantitative discrete**.\n",
        "\n"
      ],
      "metadata": {
        "id": "ms1iNVX4_bas"
      },
      "id": "ms1iNVX4_bas"
    },
    {
      "cell_type": "code",
      "execution_count": null,
      "id": "128fc054-89ec-494f-b651-2e01a5e95442",
      "metadata": {
        "id": "128fc054-89ec-494f-b651-2e01a5e95442",
        "colab": {
          "base_uri": "https://localhost:8080/"
        },
        "outputId": "573a7102-98ab-4e98-9911-e72137e0ea07"
      },
      "outputs": [
        {
          "output_type": "execute_result",
          "data": {
            "text/plain": [
              "2022/2023    7921\n",
              "2021/2022    7353\n",
              "2020/2021    6577\n",
              "2019/2020    1157\n",
              "2018/2019      16\n",
              "2017/2018       5\n",
              "2016/2017       4\n",
              "2001/2002       4\n",
              "2003/2004       2\n",
              "2006/2007       1\n",
              "2012/2013       1\n",
              "2013/2014       1\n",
              "2011/2012       1\n",
              "Name: Inspection Due Date, dtype: int64"
            ]
          },
          "metadata": {},
          "execution_count": 29
        }
      ],
      "source": [
        "df3[\"Inspection Due Date\"].value_counts()"
      ]
    },
    {
      "cell_type": "markdown",
      "source": [
        "Inspection Due Date is **Quantitative discrete**."
      ],
      "metadata": {
        "id": "hh_rLtZ2_nSv"
      },
      "id": "hh_rLtZ2_nSv"
    },
    {
      "cell_type": "code",
      "source": [
        "df3[\"Height In Metres\"].value_counts()"
      ],
      "metadata": {
        "colab": {
          "base_uri": "https://localhost:8080/"
        },
        "id": "wmDKleE0_yvX",
        "outputId": "493b72ea-2862-4c70-d9e3-f29a8371625b"
      },
      "id": "wmDKleE0_yvX",
      "execution_count": null,
      "outputs": [
        {
          "output_type": "execute_result",
          "data": {
            "text/plain": [
              "6.0     1898\n",
              "5.0     1817\n",
              "3.0     1750\n",
              "4.0     1596\n",
              "7.0     1458\n",
              "        ... \n",
              "15.7       1\n",
              "22.3       1\n",
              "9.3        1\n",
              "9.4        1\n",
              "96.0       1\n",
              "Name: Height In Metres, Length: 97, dtype: int64"
            ]
          },
          "metadata": {},
          "execution_count": 30
        }
      ]
    },
    {
      "cell_type": "markdown",
      "source": [
        "Height In Metres is **Quantitative discrete**."
      ],
      "metadata": {
        "id": "_DPiTUgE_826"
      },
      "id": "_DPiTUgE_826"
    },
    {
      "cell_type": "code",
      "source": [
        "df3[\"Spread In Metres\"].value_counts()"
      ],
      "metadata": {
        "colab": {
          "base_uri": "https://localhost:8080/"
        },
        "id": "y4Sj_AL1Ajc_",
        "outputId": "daf6f722-8115-4812-a1b2-b1ddd7cc0035"
      },
      "id": "y4Sj_AL1Ajc_",
      "execution_count": null,
      "outputs": [
        {
          "output_type": "execute_result",
          "data": {
            "text/plain": [
              "4.00     2541\n",
              "5.00     2429\n",
              "6.00     2307\n",
              "3.00     2305\n",
              "2.00     2290\n",
              "7.00     1619\n",
              "8.00     1586\n",
              "1.00     1557\n",
              "9.00     1174\n",
              "10.00    1148\n",
              "12.00     738\n",
              "1.50      662\n",
              "11.00     532\n",
              "14.00     344\n",
              "13.00     315\n",
              "15.00     302\n",
              "0.00      277\n",
              "16.00     222\n",
              "18.00     162\n",
              "17.00     107\n",
              "20.00      82\n",
              "19.00      49\n",
              "2.50       46\n",
              "21.00      32\n",
              "0.50       32\n",
              "22.00      22\n",
              "1.80       19\n",
              "3.50       19\n",
              "24.00      13\n",
              "1.60       10\n",
              "23.00       9\n",
              "25.00       7\n",
              "26.00       7\n",
              "1.20        5\n",
              "1.30        5\n",
              "4.50        4\n",
              "28.00       3\n",
              "6.50        3\n",
              "30.00       2\n",
              "0.80        2\n",
              "27.00       2\n",
              "1.40        2\n",
              "0.30        2\n",
              "29.00       1\n",
              "1.65        1\n",
              "2.80        1\n",
              "2.20        1\n",
              "31.00       1\n",
              "0.60        1\n",
              "1.70        1\n",
              "5.50        1\n",
              "0.70        1\n",
              "11.02       1\n",
              "4.20        1\n",
              "88.00       1\n",
              "Name: Spread In Metres, dtype: int64"
            ]
          },
          "metadata": {},
          "execution_count": 31
        }
      ]
    },
    {
      "cell_type": "markdown",
      "source": [
        "Spread In Metres is **Quantitative Discrete.**"
      ],
      "metadata": {
        "id": "8uXIMAXuAo6u"
      },
      "id": "8uXIMAXuAo6u"
    },
    {
      "cell_type": "code",
      "source": [
        "df3[\"Diameter In Centimetres At Breast Height\"].value_counts()"
      ],
      "metadata": {
        "colab": {
          "base_uri": "https://localhost:8080/"
        },
        "id": "RnBYCanKAzsm",
        "outputId": "ddbc4b20-05e2-4aad-ee48-9c939a4647da"
      },
      "id": "RnBYCanKAzsm",
      "execution_count": null,
      "outputs": [
        {
          "output_type": "execute_result",
          "data": {
            "text/plain": [
              "4.0      1286\n",
              "5.0       920\n",
              "6.0       586\n",
              "15.0      532\n",
              "10.0      523\n",
              "         ... \n",
              "177.0       1\n",
              "156.0       1\n",
              "17.5        1\n",
              "162.0       1\n",
              "185.0       1\n",
              "Name: Diameter In Centimetres At Breast Height, Length: 187, dtype: int64"
            ]
          },
          "metadata": {},
          "execution_count": 32
        }
      ]
    },
    {
      "cell_type": "markdown",
      "source": [
        "Diameter In Centimetres At Breast Height is **Quantitative Discrete.**"
      ],
      "metadata": {
        "id": "XG5nECIbA4Av"
      },
      "id": "XG5nECIbA4Av"
    },
    {
      "cell_type": "code",
      "source": [
        "df3[\"Ward Code\"].value_counts()"
      ],
      "metadata": {
        "colab": {
          "base_uri": "https://localhost:8080/"
        },
        "id": "hNEXQUv9A9lX",
        "outputId": "3316e6fa-1109-46b8-8ca2-7853d49e9a2d"
      },
      "id": "hNEXQUv9A9lX",
      "execution_count": null,
      "outputs": [
        {
          "output_type": "execute_result",
          "data": {
            "text/plain": [
              "E05000137    2799\n",
              "E05000143    1832\n",
              "E05000134    1541\n",
              "E05000140    1540\n",
              "E05000139    1463\n",
              "E05000136    1424\n",
              "E05000135    1340\n",
              "E05000138    1293\n",
              "E05000132    1284\n",
              "E05000131    1231\n",
              "E05000133    1229\n",
              "E05000129    1008\n",
              "E05000142     989\n",
              "E05000144     978\n",
              "E05000130     899\n",
              "E05000145     853\n",
              "E05000141     824\n",
              "E05000128     691\n",
              "Name: Ward Code, dtype: int64"
            ]
          },
          "metadata": {},
          "execution_count": 33
        }
      ]
    },
    {
      "cell_type": "markdown",
      "source": [
        "Ward Code is **Quantitative Discrete.**"
      ],
      "metadata": {
        "id": "y-hjan46BF-n"
      },
      "id": "y-hjan46BF-n"
    },
    {
      "cell_type": "code",
      "source": [
        "df3[\"Ward Name\"].value_counts()"
      ],
      "metadata": {
        "colab": {
          "base_uri": "https://localhost:8080/"
        },
        "id": "vHbVL0GUBIT3",
        "outputId": "bdabf115-f29a-49de-eaa1-157ceb9a3478"
      },
      "id": "vHbVL0GUBIT3",
      "execution_count": null,
      "outputs": [
        {
          "output_type": "execute_result",
          "data": {
            "text/plain": [
              "Highgate                          2799\n",
              "St Pancras and Somers Town        1832\n",
              "Gospel Oak                        1541\n",
              "Kilburn                           1540\n",
              "Kentish Town                      1463\n",
              "Haverstock                        1424\n",
              "Hampstead Town                    1340\n",
              "Holborn and Covent Garden         1293\n",
              "Fortune Green                     1284\n",
              "Cantelowes                        1231\n",
              "Frognal and Fitzjohns             1229\n",
              "Bloomsbury                        1008\n",
              "Regent's Park                      989\n",
              "Swiss Cottage                      978\n",
              "Camden Town with Primrose Hill     899\n",
              "West Hampstead                     853\n",
              "King's Cross                       824\n",
              "Belsize                            691\n",
              "Name: Ward Name, dtype: int64"
            ]
          },
          "metadata": {},
          "execution_count": 34
        }
      ]
    },
    {
      "cell_type": "markdown",
      "source": [
        "Ward Name is **Quantitative Discrete.**"
      ],
      "metadata": {
        "id": "ulXtzr5sBP7J"
      },
      "id": "ulXtzr5sBP7J"
    },
    {
      "cell_type": "code",
      "source": [
        "df3[\"Easting\"].value_counts()"
      ],
      "metadata": {
        "colab": {
          "base_uri": "https://localhost:8080/"
        },
        "id": "EM_s1ITXBYdX",
        "outputId": "f6b601db-1dce-4fa9-ed04-fec74dd7fa54"
      },
      "id": "EM_s1ITXBYdX",
      "execution_count": null,
      "outputs": [
        {
          "output_type": "execute_result",
          "data": {
            "text/plain": [
              "0         56\n",
              "528911    18\n",
              "528604    17\n",
              "527490    16\n",
              "529748    16\n",
              "          ..\n",
              "524775     1\n",
              "530476     1\n",
              "524897     1\n",
              "524276     1\n",
              "525944     1\n",
              "Name: Easting, Length: 6365, dtype: int64"
            ]
          },
          "metadata": {},
          "execution_count": 35
        }
      ]
    },
    {
      "cell_type": "markdown",
      "source": [
        "Easting is **Quantitative Discrete.**"
      ],
      "metadata": {
        "id": "KFZcp7E8Bgbk"
      },
      "id": "KFZcp7E8Bgbk"
    },
    {
      "cell_type": "code",
      "source": [
        "df3[\"Northing\"].value_counts()"
      ],
      "metadata": {
        "colab": {
          "base_uri": "https://localhost:8080/"
        },
        "id": "X_lgVt6IBiGy",
        "outputId": "92117102-2128-4627-c873-15a46bd3910a"
      },
      "id": "X_lgVt6IBiGy",
      "execution_count": null,
      "outputs": [
        {
          "output_type": "execute_result",
          "data": {
            "text/plain": [
              "0         56\n",
              "185198    24\n",
              "184776    20\n",
              "185234    19\n",
              "185250    18\n",
              "          ..\n",
              "187339     1\n",
              "181794     1\n",
              "181447     1\n",
              "181314     1\n",
              "187313     1\n",
              "Name: Northing, Length: 5615, dtype: int64"
            ]
          },
          "metadata": {},
          "execution_count": 36
        }
      ]
    },
    {
      "cell_type": "markdown",
      "source": [
        "Northing is **Quantitative Discrete.**"
      ],
      "metadata": {
        "id": "BkLp7CZKBoSw"
      },
      "id": "BkLp7CZKBoSw"
    },
    {
      "cell_type": "code",
      "source": [
        "df3[\"Longitude\"].value_counts()"
      ],
      "metadata": {
        "colab": {
          "base_uri": "https://localhost:8080/"
        },
        "id": "ACPOfL30BsCa",
        "outputId": "c041e7bc-21b8-4da4-f5a0-61e4c228a193"
      },
      "id": "ACPOfL30BsCa",
      "execution_count": null,
      "outputs": [
        {
          "output_type": "execute_result",
          "data": {
            "text/plain": [
              "-0.139903    5\n",
              "-0.143904    5\n",
              "-0.143140    4\n",
              "-0.146263    4\n",
              "-0.154765    4\n",
              "            ..\n",
              "-0.123594    1\n",
              "-0.154851    1\n",
              "-0.142667    1\n",
              "-0.191286    1\n",
              "-0.173397    1\n",
              "Name: Longitude, Length: 20000, dtype: int64"
            ]
          },
          "metadata": {},
          "execution_count": 37
        }
      ]
    },
    {
      "cell_type": "markdown",
      "source": [
        "Longitude is **Quantitative Discrete.**"
      ],
      "metadata": {
        "id": "m1ZFcwBcBwh4"
      },
      "id": "m1ZFcwBcBwh4"
    },
    {
      "cell_type": "code",
      "source": [
        "df3[\"Latitude\"].value_counts()"
      ],
      "metadata": {
        "colab": {
          "base_uri": "https://localhost:8080/"
        },
        "id": "DXT0_mLkB0lo",
        "outputId": "f9b96c4c-2317-41da-f695-e54f76e87b80"
      },
      "id": "DXT0_mLkB0lo",
      "execution_count": null,
      "outputs": [
        {
          "output_type": "execute_result",
          "data": {
            "text/plain": [
              "51.551714    8\n",
              "51.548629    6\n",
              "51.551747    6\n",
              "51.537483    6\n",
              "51.551588    6\n",
              "            ..\n",
              "51.569492    1\n",
              "51.552647    1\n",
              "51.540107    1\n",
              "51.527601    1\n",
              "51.531863    1\n",
              "Name: Latitude, Length: 17905, dtype: int64"
            ]
          },
          "metadata": {},
          "execution_count": 38
        }
      ]
    },
    {
      "cell_type": "markdown",
      "source": [
        "Latitude is **Quantitative Discrete.**"
      ],
      "metadata": {
        "id": "tcTVMZGTB7O8"
      },
      "id": "tcTVMZGTB7O8"
    },
    {
      "cell_type": "code",
      "source": [
        "df3[\"Location\"].value_counts()"
      ],
      "metadata": {
        "colab": {
          "base_uri": "https://localhost:8080/"
        },
        "id": "85jDP4WgB88Y",
        "outputId": "33579c3b-dff8-4699-ec9a-0dc96e67894d"
      },
      "id": "85jDP4WgB88Y",
      "execution_count": null,
      "outputs": [
        {
          "output_type": "execute_result",
          "data": {
            "text/plain": [
              "(51.556205, -0.173776)    3\n",
              "(51.553475, -0.152668)    3\n",
              "(51.548133, -0.144922)    2\n",
              "(51.544482, -0.144465)    2\n",
              "(51.55468, -0.164744)     2\n",
              "                         ..\n",
              "(51.525312, -0.128846)    1\n",
              "(51.540297, -0.181512)    1\n",
              "(51.556013, -0.211326)    1\n",
              "(51.55969, -0.182457)     1\n",
              "(51.552397, -0.173397)    1\n",
              "Name: Location, Length: 23262, dtype: int64"
            ]
          },
          "metadata": {},
          "execution_count": 39
        }
      ]
    },
    {
      "cell_type": "markdown",
      "source": [
        "Location is **Quantitative Discrete.**"
      ],
      "metadata": {
        "id": "9CQBJ5HACGOz"
      },
      "id": "9CQBJ5HACGOz"
    },
    {
      "cell_type": "markdown",
      "id": "098f1891-aa39-4304-9845-13cf7041d27f",
      "metadata": {
        "id": "098f1891-aa39-4304-9845-13cf7041d27f"
      },
      "source": [
        "<hr/>"
      ]
    },
    {
      "cell_type": "code",
      "execution_count": null,
      "id": "0f449063-a7c5-4526-a057-fd20bd17ba6f",
      "metadata": {
        "id": "0f449063-a7c5-4526-a057-fd20bd17ba6f",
        "colab": {
          "base_uri": "https://localhost:8080/",
          "height": 297
        },
        "outputId": "8b1ed482-460c-4177-e9a0-0ecf1e19cf22"
      },
      "outputs": [
        {
          "output_type": "execute_result",
          "data": {
            "text/plain": [
              "       Number Of Trees  Height In Metres  Spread In Metres  \\\n",
              "count     23422.000000      23006.000000      23006.000000   \n",
              "mean          1.100034         10.307029          5.997612   \n",
              "std           1.288041          6.325293          4.132379   \n",
              "min           0.000000          0.000000          0.000000   \n",
              "25%           1.000000          5.000000          3.000000   \n",
              "50%           1.000000          9.000000          5.000000   \n",
              "75%           1.000000         15.000000          8.000000   \n",
              "max          67.000000        127.000000         88.000000   \n",
              "\n",
              "       Diameter In Centimetres At Breast Height        Easting       Northing  \\\n",
              "count                              23005.000000   23444.000000   23444.000000   \n",
              "mean                                  32.595262  526762.518171  184085.188662   \n",
              "std                                   26.149994   25835.857212    9121.059755   \n",
              "min                                    0.000000       0.000000       0.000000   \n",
              "25%                                   12.000000  526583.750000  183665.000000   \n",
              "50%                                   27.000000  528456.500000  184690.000000   \n",
              "75%                                   46.000000  529369.000000  185481.000000   \n",
              "max                                  228.000000  531514.000000  196188.000000   \n",
              "\n",
              "          Longitude      Latitude  \n",
              "count  23388.000000  23388.000000  \n",
              "mean      -0.155145     51.545115  \n",
              "std        0.025058      0.013067  \n",
              "min       -0.261719     51.512858  \n",
              "25%       -0.175734     51.537472  \n",
              "50%       -0.148478     51.546669  \n",
              "75%       -0.135978     51.554032  \n",
              "max       -0.105858     51.650843  "
            ],
            "text/html": [
              "\n",
              "  <div id=\"df-d003bfb6-b6a5-4ba3-808c-7afe8d1ae636\">\n",
              "    <div class=\"colab-df-container\">\n",
              "      <div>\n",
              "<style scoped>\n",
              "    .dataframe tbody tr th:only-of-type {\n",
              "        vertical-align: middle;\n",
              "    }\n",
              "\n",
              "    .dataframe tbody tr th {\n",
              "        vertical-align: top;\n",
              "    }\n",
              "\n",
              "    .dataframe thead th {\n",
              "        text-align: right;\n",
              "    }\n",
              "</style>\n",
              "<table border=\"1\" class=\"dataframe\">\n",
              "  <thead>\n",
              "    <tr style=\"text-align: right;\">\n",
              "      <th></th>\n",
              "      <th>Number Of Trees</th>\n",
              "      <th>Height In Metres</th>\n",
              "      <th>Spread In Metres</th>\n",
              "      <th>Diameter In Centimetres At Breast Height</th>\n",
              "      <th>Easting</th>\n",
              "      <th>Northing</th>\n",
              "      <th>Longitude</th>\n",
              "      <th>Latitude</th>\n",
              "    </tr>\n",
              "  </thead>\n",
              "  <tbody>\n",
              "    <tr>\n",
              "      <th>count</th>\n",
              "      <td>23422.000000</td>\n",
              "      <td>23006.000000</td>\n",
              "      <td>23006.000000</td>\n",
              "      <td>23005.000000</td>\n",
              "      <td>23444.000000</td>\n",
              "      <td>23444.000000</td>\n",
              "      <td>23388.000000</td>\n",
              "      <td>23388.000000</td>\n",
              "    </tr>\n",
              "    <tr>\n",
              "      <th>mean</th>\n",
              "      <td>1.100034</td>\n",
              "      <td>10.307029</td>\n",
              "      <td>5.997612</td>\n",
              "      <td>32.595262</td>\n",
              "      <td>526762.518171</td>\n",
              "      <td>184085.188662</td>\n",
              "      <td>-0.155145</td>\n",
              "      <td>51.545115</td>\n",
              "    </tr>\n",
              "    <tr>\n",
              "      <th>std</th>\n",
              "      <td>1.288041</td>\n",
              "      <td>6.325293</td>\n",
              "      <td>4.132379</td>\n",
              "      <td>26.149994</td>\n",
              "      <td>25835.857212</td>\n",
              "      <td>9121.059755</td>\n",
              "      <td>0.025058</td>\n",
              "      <td>0.013067</td>\n",
              "    </tr>\n",
              "    <tr>\n",
              "      <th>min</th>\n",
              "      <td>0.000000</td>\n",
              "      <td>0.000000</td>\n",
              "      <td>0.000000</td>\n",
              "      <td>0.000000</td>\n",
              "      <td>0.000000</td>\n",
              "      <td>0.000000</td>\n",
              "      <td>-0.261719</td>\n",
              "      <td>51.512858</td>\n",
              "    </tr>\n",
              "    <tr>\n",
              "      <th>25%</th>\n",
              "      <td>1.000000</td>\n",
              "      <td>5.000000</td>\n",
              "      <td>3.000000</td>\n",
              "      <td>12.000000</td>\n",
              "      <td>526583.750000</td>\n",
              "      <td>183665.000000</td>\n",
              "      <td>-0.175734</td>\n",
              "      <td>51.537472</td>\n",
              "    </tr>\n",
              "    <tr>\n",
              "      <th>50%</th>\n",
              "      <td>1.000000</td>\n",
              "      <td>9.000000</td>\n",
              "      <td>5.000000</td>\n",
              "      <td>27.000000</td>\n",
              "      <td>528456.500000</td>\n",
              "      <td>184690.000000</td>\n",
              "      <td>-0.148478</td>\n",
              "      <td>51.546669</td>\n",
              "    </tr>\n",
              "    <tr>\n",
              "      <th>75%</th>\n",
              "      <td>1.000000</td>\n",
              "      <td>15.000000</td>\n",
              "      <td>8.000000</td>\n",
              "      <td>46.000000</td>\n",
              "      <td>529369.000000</td>\n",
              "      <td>185481.000000</td>\n",
              "      <td>-0.135978</td>\n",
              "      <td>51.554032</td>\n",
              "    </tr>\n",
              "    <tr>\n",
              "      <th>max</th>\n",
              "      <td>67.000000</td>\n",
              "      <td>127.000000</td>\n",
              "      <td>88.000000</td>\n",
              "      <td>228.000000</td>\n",
              "      <td>531514.000000</td>\n",
              "      <td>196188.000000</td>\n",
              "      <td>-0.105858</td>\n",
              "      <td>51.650843</td>\n",
              "    </tr>\n",
              "  </tbody>\n",
              "</table>\n",
              "</div>\n",
              "      <button class=\"colab-df-convert\" onclick=\"convertToInteractive('df-d003bfb6-b6a5-4ba3-808c-7afe8d1ae636')\"\n",
              "              title=\"Convert this dataframe to an interactive table.\"\n",
              "              style=\"display:none;\">\n",
              "        \n",
              "  <svg xmlns=\"http://www.w3.org/2000/svg\" height=\"24px\"viewBox=\"0 0 24 24\"\n",
              "       width=\"24px\">\n",
              "    <path d=\"M0 0h24v24H0V0z\" fill=\"none\"/>\n",
              "    <path d=\"M18.56 5.44l.94 2.06.94-2.06 2.06-.94-2.06-.94-.94-2.06-.94 2.06-2.06.94zm-11 1L8.5 8.5l.94-2.06 2.06-.94-2.06-.94L8.5 2.5l-.94 2.06-2.06.94zm10 10l.94 2.06.94-2.06 2.06-.94-2.06-.94-.94-2.06-.94 2.06-2.06.94z\"/><path d=\"M17.41 7.96l-1.37-1.37c-.4-.4-.92-.59-1.43-.59-.52 0-1.04.2-1.43.59L10.3 9.45l-7.72 7.72c-.78.78-.78 2.05 0 2.83L4 21.41c.39.39.9.59 1.41.59.51 0 1.02-.2 1.41-.59l7.78-7.78 2.81-2.81c.8-.78.8-2.07 0-2.86zM5.41 20L4 18.59l7.72-7.72 1.47 1.35L5.41 20z\"/>\n",
              "  </svg>\n",
              "      </button>\n",
              "      \n",
              "  <style>\n",
              "    .colab-df-container {\n",
              "      display:flex;\n",
              "      flex-wrap:wrap;\n",
              "      gap: 12px;\n",
              "    }\n",
              "\n",
              "    .colab-df-convert {\n",
              "      background-color: #E8F0FE;\n",
              "      border: none;\n",
              "      border-radius: 50%;\n",
              "      cursor: pointer;\n",
              "      display: none;\n",
              "      fill: #1967D2;\n",
              "      height: 32px;\n",
              "      padding: 0 0 0 0;\n",
              "      width: 32px;\n",
              "    }\n",
              "\n",
              "    .colab-df-convert:hover {\n",
              "      background-color: #E2EBFA;\n",
              "      box-shadow: 0px 1px 2px rgba(60, 64, 67, 0.3), 0px 1px 3px 1px rgba(60, 64, 67, 0.15);\n",
              "      fill: #174EA6;\n",
              "    }\n",
              "\n",
              "    [theme=dark] .colab-df-convert {\n",
              "      background-color: #3B4455;\n",
              "      fill: #D2E3FC;\n",
              "    }\n",
              "\n",
              "    [theme=dark] .colab-df-convert:hover {\n",
              "      background-color: #434B5C;\n",
              "      box-shadow: 0px 1px 3px 1px rgba(0, 0, 0, 0.15);\n",
              "      filter: drop-shadow(0px 1px 2px rgba(0, 0, 0, 0.3));\n",
              "      fill: #FFFFFF;\n",
              "    }\n",
              "  </style>\n",
              "\n",
              "      <script>\n",
              "        const buttonEl =\n",
              "          document.querySelector('#df-d003bfb6-b6a5-4ba3-808c-7afe8d1ae636 button.colab-df-convert');\n",
              "        buttonEl.style.display =\n",
              "          google.colab.kernel.accessAllowed ? 'block' : 'none';\n",
              "\n",
              "        async function convertToInteractive(key) {\n",
              "          const element = document.querySelector('#df-d003bfb6-b6a5-4ba3-808c-7afe8d1ae636');\n",
              "          const dataTable =\n",
              "            await google.colab.kernel.invokeFunction('convertToInteractive',\n",
              "                                                     [key], {});\n",
              "          if (!dataTable) return;\n",
              "\n",
              "          const docLinkHtml = 'Like what you see? Visit the ' +\n",
              "            '<a target=\"_blank\" href=https://colab.research.google.com/notebooks/data_table.ipynb>data table notebook</a>'\n",
              "            + ' to learn more about interactive tables.';\n",
              "          element.innerHTML = '';\n",
              "          dataTable['output_type'] = 'display_data';\n",
              "          await google.colab.output.renderOutput(dataTable, element);\n",
              "          const docLink = document.createElement('div');\n",
              "          docLink.innerHTML = docLinkHtml;\n",
              "          element.appendChild(docLink);\n",
              "        }\n",
              "      </script>\n",
              "    </div>\n",
              "  </div>\n",
              "  "
            ]
          },
          "metadata": {},
          "execution_count": 18
        }
      ],
      "source": [
        "# Get the descriptive stats for the numeric columns\n",
        "\n",
        "df3.describe()\n"
      ]
    },
    {
      "cell_type": "code",
      "execution_count": null,
      "id": "9b793f70-5799-4eb0-aa11-4cb38f86baba",
      "metadata": {
        "id": "9b793f70-5799-4eb0-aa11-4cb38f86baba",
        "colab": {
          "base_uri": "https://localhost:8080/"
        },
        "outputId": "0db6c78d-2f97-4483-b84c-eae3969a7789"
      },
      "outputs": [
        {
          "output_type": "execute_result",
          "data": {
            "text/plain": [
              "Identifier                                          object\n",
              "Number Of Trees                                    float64\n",
              "Site Name                                           object\n",
              "Contract Area                                       object\n",
              "Scientific Name                                     object\n",
              "Inspection Date                             datetime64[ns]\n",
              "Inspection Due Date                                 object\n",
              "Height In Metres                                   float64\n",
              "Spread In Metres                                   float64\n",
              "Diameter In Centimetres At Breast Height           float64\n",
              "Ward Code                                           object\n",
              "Ward Name                                           object\n",
              "Easting                                              int64\n",
              "Northing                                             int64\n",
              "Longitude                                          float64\n",
              "Latitude                                           float64\n",
              "Location                                            object\n",
              "dtype: object"
            ]
          },
          "metadata": {},
          "execution_count": 19
        }
      ],
      "source": [
        "# Remind ourselves of the data types\n",
        "\n",
        "df3.dtypes"
      ]
    },
    {
      "cell_type": "code",
      "execution_count": null,
      "id": "d1b425fc-edd1-4bfd-9766-6bd300bd2968",
      "metadata": {
        "id": "d1b425fc-edd1-4bfd-9766-6bd300bd2968",
        "colab": {
          "base_uri": "https://localhost:8080/"
        },
        "outputId": "bdb26284-8497-4424-dab6-568fbdecfbf7"
      },
      "outputs": [
        {
          "output_type": "execute_result",
          "data": {
            "text/plain": [
              "array([ 1.,  2.,  3.,  0., nan,  5.,  6.,  7., 18.,  8., 65.,  4., 10.,\n",
              "        9., 11., 50., 12., 15., 52., 40., 33., 13., 20., 67., 21., 32.,\n",
              "       24., 26., 16., 25., 51.])"
            ]
          },
          "metadata": {},
          "execution_count": 20
        }
      ],
      "source": [
        "df3['Number Of Trees'].unique()"
      ]
    },
    {
      "cell_type": "code",
      "source": [
        "df3['Height In Metres'].unique()"
      ],
      "metadata": {
        "colab": {
          "base_uri": "https://localhost:8080/"
        },
        "id": "gIngR-QIv2Wq",
        "outputId": "2239d323-7aee-478f-987e-4bf854ca662f"
      },
      "id": "gIngR-QIv2Wq",
      "execution_count": null,
      "outputs": [
        {
          "output_type": "execute_result",
          "data": {
            "text/plain": [
              "array([  nan,   5. ,   4. ,  14. ,   9. ,   0. ,   2. ,   2.5,   8. ,\n",
              "        13. ,  17. ,  10. ,   3. ,  19. ,   7. ,   6. ,   1.8,  15. ,\n",
              "        12. ,   1.5,  16. ,  20. ,  21. ,  24. ,  25. ,   2.7,  18. ,\n",
              "        11. ,  26. ,  22. ,   0.5,  16.1,  27. ,  28. ,   2.3,  22.3,\n",
              "        38. ,  15.5,  29. ,  23. ,  34. ,   3.5,   2.6,   1. ,   5.5,\n",
              "        22.5,   2.2,  36. ,  31. ,  96. ,  13.6, 127. ,  14.7,   4.5,\n",
              "        30. ,  35. ,  32. ,   9.4,  11.8,  33. ,  40. ,   2.1,   6.5,\n",
              "        41. ,  23.1,  37. ,  39. ,  12.5,   7.5,  13.7,  31.6,  23.8,\n",
              "         0.2,  12.3,  15.7,   6.8,   9.3,   3.8,  24.9,  17.4,   2.8,\n",
              "         3.2,  13.9,  12.4,  10.2,  10.8,  24.5,  30.4,   9.8,  11.4,\n",
              "        23.4,   3.7,  11.6,   7.7,   8.3,   3.6,  17.5,  19.5])"
            ]
          },
          "metadata": {},
          "execution_count": 21
        }
      ]
    },
    {
      "cell_type": "code",
      "source": [
        "df3['Spread In Metres'].unique()"
      ],
      "metadata": {
        "colab": {
          "base_uri": "https://localhost:8080/"
        },
        "id": "115G_xlsOsDw",
        "outputId": "153c531c-6b36-48a7-a0c3-2978cefbb974"
      },
      "id": "115G_xlsOsDw",
      "execution_count": null,
      "outputs": [
        {
          "output_type": "execute_result",
          "data": {
            "text/plain": [
              "array([  nan,  4.  ,  1.  ,  6.  ,  7.  ,  0.  ,  1.5 ,  5.  ,  9.  ,\n",
              "       10.  ,  3.  ,  2.  , 13.  ,  2.5 , 12.  , 15.  , 14.  ,  8.  ,\n",
              "       11.  ,  0.6 ,  1.8 , 17.  , 20.  , 18.  , 16.  , 22.  , 19.  ,\n",
              "        5.5 , 26.  ,  1.4 , 23.  , 21.  , 28.  ,  1.2 ,  0.5 ,  3.5 ,\n",
              "       24.  ,  1.3 ,  1.6 , 30.  ,  1.7 , 27.  ,  4.2 , 11.02,  0.7 ,\n",
              "        6.5 ,  4.5 , 31.  , 25.  ,  0.8 ,  0.3 ,  2.2 ,  2.8 ,  1.65,\n",
              "       29.  , 88.  ])"
            ]
          },
          "metadata": {},
          "execution_count": 6
        }
      ]
    },
    {
      "cell_type": "code",
      "source": [
        "df3['Diameter In Centimetres At Breast Height'].unique()"
      ],
      "metadata": {
        "colab": {
          "base_uri": "https://localhost:8080/"
        },
        "id": "nFFQgFoLPE4o",
        "outputId": "e5d6ff52-af1d-4763-b35a-2dfdc992e7e5"
      },
      "id": "nFFQgFoLPE4o",
      "execution_count": null,
      "outputs": [
        {
          "output_type": "execute_result",
          "data": {
            "text/plain": [
              "array([  nan,  10. ,   6. ,  26. ,  29. ,   5. ,   0. ,   4. ,  12. ,\n",
              "        59. ,  52. ,  23. ,  50. ,  63. ,  15. ,   3. ,  49. ,  42. ,\n",
              "        14. ,  19. ,   9. ,  70. ,  32. ,  28. ,  34. ,  20. ,  17. ,\n",
              "        27. ,  37. ,   8. ,  45. ,  18. , 119. ,   7. ,  38. ,  55. ,\n",
              "        41. ,  75. ,  31. ,  25. ,  11. ,  30. ,  43. ,  68. ,  92. ,\n",
              "        16. ,  35. ,  58. ,  72. ,  64. ,  13. ,  61. ,  69. ,  33. ,\n",
              "        47. ,  67. , 109. , 106. ,  24. ,  51. ,  40. ,  22. ,  60. ,\n",
              "        39. ,  46. ,  57. ,  21. ,  54. , 117. ,  44. ,  82. , 114. ,\n",
              "        65. ,  84. , 118. ,   1. ,  89. ,  53. ,  36. ,  93. ,  88. ,\n",
              "        86. , 163. ,  66. ,  81. ,  74. , 100. ,  48. ,  73. ,  95. ,\n",
              "       129. ,  62. ,  85. ,  56. ,   3.5, 161. ,  71. , 105. , 102. ,\n",
              "        80. ,  87. , 101. ,  76. , 113. , 108. , 160. , 132. ,  90. ,\n",
              "       145. , 130. ,  79. , 228. , 110. ,  83. ,  78. , 122. , 170. ,\n",
              "       115. ,   2. ,  77. , 107. ,  96. , 126. ,  91. , 104. , 158. ,\n",
              "        99. ,  94. ,  16.5, 127. , 151. , 103. , 112. ,  98. ,  97. ,\n",
              "       136. , 125. , 111. , 124. , 139. , 156. , 120. , 148. , 144. ,\n",
              "       140. , 121. , 143. ,  17.5, 154. , 159. , 142. , 197. , 123. ,\n",
              "       149. , 155. , 191. , 131. , 147. , 162. , 116. , 152. , 153. ,\n",
              "       165. , 137. , 200. , 177. , 133. , 128. , 134. ,  11.5, 135. ,\n",
              "       150. , 187. , 210. , 166. , 138. ,  10.5, 206. , 141. , 209. ,\n",
              "       184. , 173. , 192. ,   7.5, 194. , 157. , 146. , 185. ])"
            ]
          },
          "metadata": {},
          "execution_count": 8
        }
      ]
    },
    {
      "cell_type": "code",
      "execution_count": null,
      "id": "81ec49ca-b8dc-4c4f-ae1f-2fd3368330e8",
      "metadata": {
        "id": "81ec49ca-b8dc-4c4f-ae1f-2fd3368330e8",
        "colab": {
          "base_uri": "https://localhost:8080/"
        },
        "outputId": "392f4c8a-8587-4006-846c-ff388f1fc6c7"
      },
      "outputs": [
        {
          "output_type": "stream",
          "name": "stdout",
          "text": [
            "Column Type: Continuous\n"
          ]
        }
      ],
      "source": [
        "if pd.api.types.is_numeric_dtype(df3[column]):\n",
        "\n",
        "            dtype = df3[column].dtype\n",
        "\n",
        "\n",
        "            if pd.api.types.is_float_dtype(df3[column]):\n",
        "\n",
        "                unique_values = df3[column].dropna().unique()\n",
        "\n",
        "\n",
        "                if len(unique_values) > 2:\n",
        "                    print(\"Column Type: Continuous\")\n",
        "                else:\n",
        "                    print(\"Column Type: Discrete (possibly integer with null values)\")"
      ]
    },
    {
      "cell_type": "code",
      "source": [
        "for df in dataframes:\n",
        "    print(\"DataFrame:\", df3)\n",
        "    print(\"Column Names:\", df3.columns)\n",
        "    print()"
      ],
      "metadata": {
        "colab": {
          "base_uri": "https://localhost:8080/"
        },
        "id": "zj7G4sPSSsLJ",
        "outputId": "9802d5a6-762f-461f-95c4-01e5269d1bb7"
      },
      "id": "zj7G4sPSSsLJ",
      "execution_count": null,
      "outputs": [
        {
          "output_type": "stream",
          "name": "stdout",
          "text": [
            "DataFrame:       Identifier  Number Of Trees                         Site Name  \\\n",
            "0       00060053              1.0          Russell Nurseries Estate   \n",
            "1       00057855              1.0                 BRECKNOCK JMI (E)   \n",
            "2       00059953              1.0        Estate 51 Ravenshaw Street   \n",
            "3       00059915              1.0                 ROSARY RC JMI (E)   \n",
            "4       00010762              1.0                Holly Lodge Estate   \n",
            "...          ...              ...                               ...   \n",
            "23439   00057455              1.0  KILBURN GRANGE, MESSINA AVE (LS)   \n",
            "23440   00015494              1.0                  OSSULSTON STREET   \n",
            "23441   00001693              1.0                    BELMONT STREET   \n",
            "23442   00020342              1.0              Templar House Estate   \n",
            "23443   00013369              1.0                    LYNDHURST ROAD   \n",
            "\n",
            "      Contract Area          Scientific Name Inspection Date  \\\n",
            "0           Housing          Vacant Tree Pit             NaT   \n",
            "1         Education          Vacant Tree Pit      2019-07-17   \n",
            "2           Housing             Ficus carica             NaT   \n",
            "3         Education      Betula jacquemontii             NaT   \n",
            "4           Housing     Ilex x altaclarensis      2017-06-14   \n",
            "...             ...                      ...             ...   \n",
            "23439         Parks              Sorbus aria      2017-03-28   \n",
            "23440      Highways  Sorbus aria 'Majestica'      2019-10-28   \n",
            "23441      Highways     Platanus x hispanica      2017-07-31   \n",
            "23442       Housing           Tilia europaea      2018-11-05   \n",
            "23443      Highways           Tilia europaea      2018-06-08   \n",
            "\n",
            "      Inspection Due Date  Height In Metres  Spread In Metres  \\\n",
            "0                     NaN               NaN               NaN   \n",
            "1               2022/2023               NaN               NaN   \n",
            "2                     NaN               5.0               4.0   \n",
            "3                     NaN               4.0               1.0   \n",
            "4               2020/2021              14.0               6.0   \n",
            "...                   ...               ...               ...   \n",
            "23439           2019/2020               2.0               1.0   \n",
            "23440           2022/2023              12.0               6.0   \n",
            "23441           2020/2021              18.0              10.0   \n",
            "23442           2021/2022              20.0               8.0   \n",
            "23443           2021/2022              15.0               6.0   \n",
            "\n",
            "       Diameter In Centimetres At Breast Height  Ward Code  \\\n",
            "0                                           NaN  E05000135   \n",
            "1                                           NaN  E05000131   \n",
            "2                                          10.0        NaN   \n",
            "3                                           6.0  E05000135   \n",
            "4                                          26.0  E05000137   \n",
            "...                                         ...        ...   \n",
            "23439                                       6.0  E05000140   \n",
            "23440                                      48.0  E05000143   \n",
            "23441                                      57.0  E05000136   \n",
            "23442                                      40.0  E05000132   \n",
            "23443                                      77.0  E05000135   \n",
            "\n",
            "                        Ward Name  Easting  Northing  Longitude   Latitude  \\\n",
            "0                  Hampstead Town   527305    185240  -0.165240  51.551693   \n",
            "1                      Cantelowes   529923    184782  -0.127681  51.546984   \n",
            "2                             NaN        0         0        NaN        NaN   \n",
            "3                  Hampstead Town   527249    185261  -0.166051  51.551901   \n",
            "4                        Highgate   528414    186770  -0.148704  51.565198   \n",
            "...                           ...      ...       ...        ...        ...   \n",
            "23439                     Kilburn   525130    184418  -0.196884  51.544796   \n",
            "23440  St Pancras and Somers Town   529758    183095  -0.130667  51.531863   \n",
            "23441                  Haverstock   528302    184457  -0.151163  51.544432   \n",
            "23442               Fortune Green   524615    184714  -0.204206  51.547573   \n",
            "23443              Hampstead Town   526738    185304  -0.173397  51.552397   \n",
            "\n",
            "                     Location  \n",
            "0       (51.551693, -0.16524)  \n",
            "1      (51.546984, -0.127681)  \n",
            "2                         NaN  \n",
            "3      (51.551901, -0.166051)  \n",
            "4      (51.565198, -0.148704)  \n",
            "...                       ...  \n",
            "23439  (51.544796, -0.196884)  \n",
            "23440  (51.531863, -0.130667)  \n",
            "23441  (51.544432, -0.151163)  \n",
            "23442  (51.547573, -0.204206)  \n",
            "23443  (51.552397, -0.173397)  \n",
            "\n",
            "[23444 rows x 17 columns]\n",
            "Column Names: Index(['Identifier', 'Number Of Trees', 'Site Name', 'Contract Area',\n",
            "       'Scientific Name', 'Inspection Date', 'Inspection Due Date',\n",
            "       'Height In Metres', 'Spread In Metres',\n",
            "       'Diameter In Centimetres At Breast Height', 'Ward Code', 'Ward Name',\n",
            "       'Easting', 'Northing', 'Longitude', 'Latitude', 'Location'],\n",
            "      dtype='object')\n",
            "\n"
          ]
        }
      ]
    },
    {
      "cell_type": "markdown",
      "id": "4ee2e405-e35f-49d7-bcd6-00c12d31fa8d",
      "metadata": {
        "id": "4ee2e405-e35f-49d7-bcd6-00c12d31fa8d"
      },
      "source": [
        "<hr/>"
      ]
    },
    {
      "cell_type": "markdown",
      "id": "90c6e10d-2f2e-4003-b983-f60870b6fc1a",
      "metadata": {
        "id": "90c6e10d-2f2e-4003-b983-f60870b6fc1a"
      },
      "source": [
        "### Counts of Values for String Type Columns\n",
        "For each string column in the environmental dataset show the counts of the unique values."
      ]
    },
    {
      "cell_type": "code",
      "execution_count": null,
      "id": "044f2b73-aa4b-4a10-8546-e3149d39d817",
      "metadata": {
        "id": "044f2b73-aa4b-4a10-8546-e3149d39d817",
        "colab": {
          "base_uri": "https://localhost:8080/"
        },
        "outputId": "7bc7f652-bc29-4f02-dea0-cebe8fdb4b4b"
      },
      "outputs": [
        {
          "output_type": "execute_result",
          "data": {
            "text/plain": [
              "Mature            10225\n",
              "Middle aged        7779\n",
              "Juvenile           4393\n",
              "Not Applicable      377\n",
              "Over Mature         191\n",
              "Veteran              41\n",
              "Name: Maturity, dtype: int64"
            ]
          },
          "metadata": {},
          "execution_count": 23
        }
      ],
      "source": [
        "df2['Maturity'].value_counts()"
      ]
    },
    {
      "cell_type": "code",
      "source": [
        "df2['Identifier'].value_counts()"
      ],
      "metadata": {
        "colab": {
          "base_uri": "https://localhost:8080/"
        },
        "id": "Xm8oKOLYxSIi",
        "outputId": "49380152-cd9e-414f-baf7-be53cf6136f3"
      },
      "id": "Xm8oKOLYxSIi",
      "execution_count": null,
      "outputs": [
        {
          "output_type": "execute_result",
          "data": {
            "text/plain": [
              "00055125    1\n",
              "00001681    1\n",
              "00008539    1\n",
              "00019552    1\n",
              "00032062    1\n",
              "           ..\n",
              "00013724    1\n",
              "00005978    1\n",
              "00017336    1\n",
              "00014229    1\n",
              "00001786    1\n",
              "Name: Identifier, Length: 23415, dtype: int64"
            ]
          },
          "metadata": {},
          "execution_count": 27
        }
      ]
    },
    {
      "cell_type": "code",
      "source": [
        "df2['Physiological Condition'].value_counts()"
      ],
      "metadata": {
        "colab": {
          "base_uri": "https://localhost:8080/"
        },
        "id": "Z2NQjYu0PUBW",
        "outputId": "a1f05d72-047e-4d8e-8d17-8f32975b7bbe"
      },
      "id": "Z2NQjYu0PUBW",
      "execution_count": null,
      "outputs": [
        {
          "output_type": "execute_result",
          "data": {
            "text/plain": [
              "Good              12910\n",
              "Fair               9183\n",
              "Poor                357\n",
              "Not applicable      249\n",
              "Dead                236\n",
              "Excellent             8\n",
              "Name: Physiological Condition, dtype: int64"
            ]
          },
          "metadata": {},
          "execution_count": 10
        }
      ]
    },
    {
      "cell_type": "code",
      "source": [
        "df2['Tree Set To Be Removed'].value_counts()"
      ],
      "metadata": {
        "colab": {
          "base_uri": "https://localhost:8080/"
        },
        "id": "oEdZaR1BPQOH",
        "outputId": "ded05c3b-80b9-41a3-8ab2-fd9e779ee4fc"
      },
      "id": "oEdZaR1BPQOH",
      "execution_count": null,
      "outputs": [
        {
          "output_type": "execute_result",
          "data": {
            "text/plain": [
              "No     23331\n",
              "Yes       84\n",
              "Name: Tree Set To Be Removed, dtype: int64"
            ]
          },
          "metadata": {},
          "execution_count": 11
        }
      ]
    },
    {
      "cell_type": "code",
      "source": [
        "df2['Removal Reason'].value_counts()"
      ],
      "metadata": {
        "colab": {
          "base_uri": "https://localhost:8080/"
        },
        "id": "BgdoLrrGPqFd",
        "outputId": "90727826-4993-4be3-d426-0666ef0cde19"
      },
      "id": "BgdoLrrGPqFd",
      "execution_count": null,
      "outputs": [
        {
          "output_type": "execute_result",
          "data": {
            "text/plain": [
              "Dead, dying                    30\n",
              "Basal decay                    17\n",
              "Trunk decay                    10\n",
              "Tree defect                     5\n",
              "Crown die-back                  5\n",
              "Dog damage                      3\n",
              "Unsuitable location             3\n",
              "Newly planted tree failure      2\n",
              "Coppiced stump                  1\n",
              "Touching building/structure     1\n",
              "Crown decay                     1\n",
              "Split trunk                     1\n",
              "Broken/split branch             1\n",
              "Climber                         1\n",
              "No defects - work required      1\n",
              "Suppressed                      1\n",
              "ATRD                            1\n",
              "Name: Removal Reason, dtype: int64"
            ]
          },
          "metadata": {},
          "execution_count": 12
        }
      ]
    },
    {
      "cell_type": "code",
      "source": [
        "df2.columns\n",
        "df2.dtypes"
      ],
      "metadata": {
        "colab": {
          "base_uri": "https://localhost:8080/"
        },
        "id": "u1pADB6lxC_J",
        "outputId": "6b78713f-fabb-491f-b1cb-57455116a354"
      },
      "id": "u1pADB6lxC_J",
      "execution_count": null,
      "outputs": [
        {
          "output_type": "execute_result",
          "data": {
            "text/plain": [
              "Identifier                                           object\n",
              "Maturity                                             object\n",
              "Physiological Condition                              object\n",
              "Tree Set To Be Removed                               object\n",
              "Removal Reason                                       object\n",
              "Capital Asset Value For Amenity Trees               float64\n",
              "Carbon Storage In Kilograms                         float64\n",
              "Gross Carbon Sequestration Per Year In Kilograms    float64\n",
              "Pollution Removal Per Year In Grams                 float64\n",
              "dtype: object"
            ]
          },
          "metadata": {},
          "execution_count": 26
        }
      ]
    },
    {
      "cell_type": "markdown",
      "id": "fa84e8d1-57aa-483b-bb38-e54a07e6aff8",
      "metadata": {
        "id": "fa84e8d1-57aa-483b-bb38-e54a07e6aff8"
      },
      "source": [
        "<hr/>"
      ]
    },
    {
      "cell_type": "markdown",
      "id": "5c9ae370-ab1f-43f3-ba17-5dd062a2cbf1",
      "metadata": {
        "id": "5c9ae370-ab1f-43f3-ba17-5dd062a2cbf1"
      },
      "source": [
        "#### Descriptive Stats for Numeric Type Columns"
      ]
    },
    {
      "cell_type": "code",
      "execution_count": null,
      "id": "4380cd76-3b4c-4488-8b5d-b8429c747228",
      "metadata": {
        "id": "4380cd76-3b4c-4488-8b5d-b8429c747228",
        "colab": {
          "base_uri": "https://localhost:8080/",
          "height": 297
        },
        "outputId": "3d27377a-4d5d-486a-a60c-575950040f9f"
      },
      "outputs": [
        {
          "output_type": "execute_result",
          "data": {
            "text/plain": [
              "       Capital Asset Value For Amenity Trees  Carbon Storage In Kilograms  \\\n",
              "count                           22982.000000                 20555.000000   \n",
              "mean                            14056.393047                   467.465454   \n",
              "std                             24803.806595                   844.926555   \n",
              "min                                 0.000000                     0.500000   \n",
              "25%                              1035.650000                    24.800000   \n",
              "50%                              5443.660000                   163.900000   \n",
              "75%                             16781.420000                   497.300000   \n",
              "max                            504725.720000                  6000.000000   \n",
              "\n",
              "       Gross Carbon Sequestration Per Year In Kilograms  \\\n",
              "count                                      20555.000000   \n",
              "mean                                           8.675057   \n",
              "std                                            8.681446   \n",
              "min                                            0.000000   \n",
              "25%                                            2.200000   \n",
              "50%                                            6.100000   \n",
              "75%                                           11.700000   \n",
              "max                                           53.800000   \n",
              "\n",
              "       Pollution Removal Per Year In Grams  \n",
              "count                         20555.000000  \n",
              "mean                            217.740316  \n",
              "std                             306.751920  \n",
              "min                               0.300000  \n",
              "25%                              29.300000  \n",
              "50%                             108.100000  \n",
              "75%                             297.600000  \n",
              "max                            8223.700000  "
            ],
            "text/html": [
              "\n",
              "  <div id=\"df-b35dbc74-1c95-4b4b-910c-cabed15276fa\">\n",
              "    <div class=\"colab-df-container\">\n",
              "      <div>\n",
              "<style scoped>\n",
              "    .dataframe tbody tr th:only-of-type {\n",
              "        vertical-align: middle;\n",
              "    }\n",
              "\n",
              "    .dataframe tbody tr th {\n",
              "        vertical-align: top;\n",
              "    }\n",
              "\n",
              "    .dataframe thead th {\n",
              "        text-align: right;\n",
              "    }\n",
              "</style>\n",
              "<table border=\"1\" class=\"dataframe\">\n",
              "  <thead>\n",
              "    <tr style=\"text-align: right;\">\n",
              "      <th></th>\n",
              "      <th>Capital Asset Value For Amenity Trees</th>\n",
              "      <th>Carbon Storage In Kilograms</th>\n",
              "      <th>Gross Carbon Sequestration Per Year In Kilograms</th>\n",
              "      <th>Pollution Removal Per Year In Grams</th>\n",
              "    </tr>\n",
              "  </thead>\n",
              "  <tbody>\n",
              "    <tr>\n",
              "      <th>count</th>\n",
              "      <td>22982.000000</td>\n",
              "      <td>20555.000000</td>\n",
              "      <td>20555.000000</td>\n",
              "      <td>20555.000000</td>\n",
              "    </tr>\n",
              "    <tr>\n",
              "      <th>mean</th>\n",
              "      <td>14056.393047</td>\n",
              "      <td>467.465454</td>\n",
              "      <td>8.675057</td>\n",
              "      <td>217.740316</td>\n",
              "    </tr>\n",
              "    <tr>\n",
              "      <th>std</th>\n",
              "      <td>24803.806595</td>\n",
              "      <td>844.926555</td>\n",
              "      <td>8.681446</td>\n",
              "      <td>306.751920</td>\n",
              "    </tr>\n",
              "    <tr>\n",
              "      <th>min</th>\n",
              "      <td>0.000000</td>\n",
              "      <td>0.500000</td>\n",
              "      <td>0.000000</td>\n",
              "      <td>0.300000</td>\n",
              "    </tr>\n",
              "    <tr>\n",
              "      <th>25%</th>\n",
              "      <td>1035.650000</td>\n",
              "      <td>24.800000</td>\n",
              "      <td>2.200000</td>\n",
              "      <td>29.300000</td>\n",
              "    </tr>\n",
              "    <tr>\n",
              "      <th>50%</th>\n",
              "      <td>5443.660000</td>\n",
              "      <td>163.900000</td>\n",
              "      <td>6.100000</td>\n",
              "      <td>108.100000</td>\n",
              "    </tr>\n",
              "    <tr>\n",
              "      <th>75%</th>\n",
              "      <td>16781.420000</td>\n",
              "      <td>497.300000</td>\n",
              "      <td>11.700000</td>\n",
              "      <td>297.600000</td>\n",
              "    </tr>\n",
              "    <tr>\n",
              "      <th>max</th>\n",
              "      <td>504725.720000</td>\n",
              "      <td>6000.000000</td>\n",
              "      <td>53.800000</td>\n",
              "      <td>8223.700000</td>\n",
              "    </tr>\n",
              "  </tbody>\n",
              "</table>\n",
              "</div>\n",
              "      <button class=\"colab-df-convert\" onclick=\"convertToInteractive('df-b35dbc74-1c95-4b4b-910c-cabed15276fa')\"\n",
              "              title=\"Convert this dataframe to an interactive table.\"\n",
              "              style=\"display:none;\">\n",
              "        \n",
              "  <svg xmlns=\"http://www.w3.org/2000/svg\" height=\"24px\"viewBox=\"0 0 24 24\"\n",
              "       width=\"24px\">\n",
              "    <path d=\"M0 0h24v24H0V0z\" fill=\"none\"/>\n",
              "    <path d=\"M18.56 5.44l.94 2.06.94-2.06 2.06-.94-2.06-.94-.94-2.06-.94 2.06-2.06.94zm-11 1L8.5 8.5l.94-2.06 2.06-.94-2.06-.94L8.5 2.5l-.94 2.06-2.06.94zm10 10l.94 2.06.94-2.06 2.06-.94-2.06-.94-.94-2.06-.94 2.06-2.06.94z\"/><path d=\"M17.41 7.96l-1.37-1.37c-.4-.4-.92-.59-1.43-.59-.52 0-1.04.2-1.43.59L10.3 9.45l-7.72 7.72c-.78.78-.78 2.05 0 2.83L4 21.41c.39.39.9.59 1.41.59.51 0 1.02-.2 1.41-.59l7.78-7.78 2.81-2.81c.8-.78.8-2.07 0-2.86zM5.41 20L4 18.59l7.72-7.72 1.47 1.35L5.41 20z\"/>\n",
              "  </svg>\n",
              "      </button>\n",
              "      \n",
              "  <style>\n",
              "    .colab-df-container {\n",
              "      display:flex;\n",
              "      flex-wrap:wrap;\n",
              "      gap: 12px;\n",
              "    }\n",
              "\n",
              "    .colab-df-convert {\n",
              "      background-color: #E8F0FE;\n",
              "      border: none;\n",
              "      border-radius: 50%;\n",
              "      cursor: pointer;\n",
              "      display: none;\n",
              "      fill: #1967D2;\n",
              "      height: 32px;\n",
              "      padding: 0 0 0 0;\n",
              "      width: 32px;\n",
              "    }\n",
              "\n",
              "    .colab-df-convert:hover {\n",
              "      background-color: #E2EBFA;\n",
              "      box-shadow: 0px 1px 2px rgba(60, 64, 67, 0.3), 0px 1px 3px 1px rgba(60, 64, 67, 0.15);\n",
              "      fill: #174EA6;\n",
              "    }\n",
              "\n",
              "    [theme=dark] .colab-df-convert {\n",
              "      background-color: #3B4455;\n",
              "      fill: #D2E3FC;\n",
              "    }\n",
              "\n",
              "    [theme=dark] .colab-df-convert:hover {\n",
              "      background-color: #434B5C;\n",
              "      box-shadow: 0px 1px 3px 1px rgba(0, 0, 0, 0.15);\n",
              "      filter: drop-shadow(0px 1px 2px rgba(0, 0, 0, 0.3));\n",
              "      fill: #FFFFFF;\n",
              "    }\n",
              "  </style>\n",
              "\n",
              "      <script>\n",
              "        const buttonEl =\n",
              "          document.querySelector('#df-b35dbc74-1c95-4b4b-910c-cabed15276fa button.colab-df-convert');\n",
              "        buttonEl.style.display =\n",
              "          google.colab.kernel.accessAllowed ? 'block' : 'none';\n",
              "\n",
              "        async function convertToInteractive(key) {\n",
              "          const element = document.querySelector('#df-b35dbc74-1c95-4b4b-910c-cabed15276fa');\n",
              "          const dataTable =\n",
              "            await google.colab.kernel.invokeFunction('convertToInteractive',\n",
              "                                                     [key], {});\n",
              "          if (!dataTable) return;\n",
              "\n",
              "          const docLinkHtml = 'Like what you see? Visit the ' +\n",
              "            '<a target=\"_blank\" href=https://colab.research.google.com/notebooks/data_table.ipynb>data table notebook</a>'\n",
              "            + ' to learn more about interactive tables.';\n",
              "          element.innerHTML = '';\n",
              "          dataTable['output_type'] = 'display_data';\n",
              "          await google.colab.output.renderOutput(dataTable, element);\n",
              "          const docLink = document.createElement('div');\n",
              "          docLink.innerHTML = docLinkHtml;\n",
              "          element.appendChild(docLink);\n",
              "        }\n",
              "      </script>\n",
              "    </div>\n",
              "  </div>\n",
              "  "
            ]
          },
          "metadata": {},
          "execution_count": 29
        }
      ],
      "source": [
        "# Get the descriptive stats for all numeric columns\n",
        "\n",
        "df2.describe()"
      ]
    },
    {
      "cell_type": "code",
      "source": [
        "df2.dtypes"
      ],
      "metadata": {
        "colab": {
          "base_uri": "https://localhost:8080/"
        },
        "id": "usZVXNtNx3-U",
        "outputId": "bf1d1268-eea6-43f8-cbaf-0e6cff3df455"
      },
      "id": "usZVXNtNx3-U",
      "execution_count": null,
      "outputs": [
        {
          "output_type": "execute_result",
          "data": {
            "text/plain": [
              "Identifier                                           object\n",
              "Maturity                                             object\n",
              "Physiological Condition                              object\n",
              "Tree Set To Be Removed                               object\n",
              "Removal Reason                                       object\n",
              "Capital Asset Value For Amenity Trees               float64\n",
              "Carbon Storage In Kilograms                         float64\n",
              "Gross Carbon Sequestration Per Year In Kilograms    float64\n",
              "Pollution Removal Per Year In Grams                 float64\n",
              "dtype: object"
            ]
          },
          "metadata": {},
          "execution_count": 30
        }
      ]
    },
    {
      "cell_type": "markdown",
      "id": "eb227586-d79a-46b9-a665-854b330a4c72",
      "metadata": {
        "id": "eb227586-d79a-46b9-a665-854b330a4c72"
      },
      "source": [
        "<hr/>\n",
        "\n",
        "Find out if floats are really floats or ints with nulls.\n"
      ]
    },
    {
      "cell_type": "code",
      "source": [
        "df2['Capital Asset Value For Amenity Trees'].unique()"
      ],
      "metadata": {
        "colab": {
          "base_uri": "https://localhost:8080/"
        },
        "id": "9U6qmdlDx-B7",
        "outputId": "b17aa72b-aec7-45d4-fec2-f61e52b0ecfa"
      },
      "id": "9U6qmdlDx-B7",
      "execution_count": null,
      "outputs": [
        {
          "output_type": "execute_result",
          "data": {
            "text/plain": [
              "array([1.1507000e+02, 7.5180800e+03, 2.0419630e+04, ..., 3.3664130e+04,\n",
              "       3.6269450e+04, 1.4801215e+05])"
            ]
          },
          "metadata": {},
          "execution_count": 31
        }
      ]
    },
    {
      "cell_type": "code",
      "source": [
        "df2['Carbon Storage In Kilograms'].unique()"
      ],
      "metadata": {
        "colab": {
          "base_uri": "https://localhost:8080/"
        },
        "id": "vQhItGqVyEn7",
        "outputId": "7e23fbe6-35bd-4e3b-bde2-604e380009df"
      },
      "id": "vQhItGqVyEn7",
      "execution_count": null,
      "outputs": [
        {
          "output_type": "execute_result",
          "data": {
            "text/plain": [
              "array([1.6000e+00,        nan, 4.2640e+02, ..., 4.7233e+03, 3.7305e+03,\n",
              "       4.8100e+02])"
            ]
          },
          "metadata": {},
          "execution_count": 32
        }
      ]
    },
    {
      "cell_type": "code",
      "source": [
        "df2['Gross Carbon Sequestration Per Year In Kilograms'].unique()"
      ],
      "metadata": {
        "colab": {
          "base_uri": "https://localhost:8080/"
        },
        "id": "9Isr47wNyJR4",
        "outputId": "8d3eda92-2793-4ec2-fff2-40798587d0fc"
      },
      "id": "9Isr47wNyJR4",
      "execution_count": null,
      "outputs": [
        {
          "output_type": "execute_result",
          "data": {
            "text/plain": [
              "array([ 0.5,  nan,  8.8,  9.6,  1.4, 10.1,  0.8,  7.9, 24.2,  2.4,  0.9,\n",
              "        3. , 14.6,  8.1,  4.1,  1.8, 18.8, 24.4, 13.4,  4.3,  6.5,  1.3,\n",
              "        0.6,  2.5, 13.1,  2.1,  3.9, 15.9,  1. ,  6.6,  0.4,  3.4,  2.9,\n",
              "       28.7,  0.7,  1.5, 12.5, 25.4, 11.2,  9. , 23.9,  4.4, 11.5, 11. ,\n",
              "        8.4, 10.9, 10.7,  6.9,  7. ,  3.8,  3.2,  6.1,  8.6, 30.2,  3.7,\n",
              "       15. , 30.4,  7.6, 20.1, 10.2,  8.3, 39.9,  0.3,  4.9, 14.3, 13.5,\n",
              "       16.7,  8.9,  1.6,  4.2,  3.6,  4. ,  6.7,  0.1, 19.7, 24.6,  6.4,\n",
              "        5.4,  5.9, 12.2,  7.3, 13. ,  7.1, 36.9,  9.3, 18.2, 10. ,  4.7,\n",
              "        5. , 29.8, 17.8, 18.5, 17.6,  7.2,  4.8,  5.6,  5.3, 10.5, 12.9,\n",
              "        9.4,  7.8,  1.1, 19.2, 37.3,  2.7, 12.8, 17. , 15.5, 27.6, 34.2,\n",
              "        5.7,  5.8, 17.3, 20.4,  9.9, 15.6,  7.4, 11.8,  9.2,  2.6, 21.7,\n",
              "       11.3, 10.8, 29.4, 23.1, 26.5,  1.2, 10.6, 33.6, 23.6, 11.7, 17.4,\n",
              "       15.1, 16.6,  2.3, 13.3, 16.3, 18.3, 10.4, 19. ,  1.7,  3.3, 14.1,\n",
              "        5.5, 12.6, 14.5,  3.5,  8.7, 36.6, 17.7,  5.1, 21.1, 20.2,  7.7,\n",
              "       15.2,  7.5, 30.5, 13.8,  4.6, 39.2, 37.8, 13.2, 51. , 11.6,  6.8,\n",
              "       21. ,  5.2,  8. ,  4.5, 15.3, 13.7, 18. ,  6.3,  2. ,  2.8,  9.1,\n",
              "        6. , 12.4, 11.4, 18.6,  1.9, 23.5, 18.9, 26.2, 12.1, 41.7,  2.2,\n",
              "       14.7, 14.4,  9.7, 23. , 22.1, 15.7, 12. , 14.8, 19.9, 29.7, 11.1,\n",
              "       19.6, 12.7, 31.9, 33.2, 19.1,  6.2, 28.4, 27. , 17.5, 16.4, 27.7,\n",
              "       38.4, 43.9, 35.4,  8.2, 37.1, 29.5, 22.2, 17.1, 26.3, 21.2, 20.5,\n",
              "       11.9, 31.3, 14.2,  8.5, 26.8,  0.2, 16.8, 35.6, 20.8, 22.3, 19.4,\n",
              "       20. , 14. , 36.1, 20.9, 15.8, 14.9,  9.5, 28.3, 16.9,  3.1, 37.6,\n",
              "       34.7, 17.9, 35.3,  9.8, 16.5, 21.4, 19.3, 28.5, 29. , 33.5, 40.7,\n",
              "       28.6, 13.6, 27.1, 26.7, 13.9, 21.3, 23.8, 35.1, 40.5, 32.9, 18.1,\n",
              "       37. , 20.6, 35.2, 12.3, 41.8, 22.7, 21.5, 35.7, 32.4, 16.1, 31.1,\n",
              "       25.3, 26. , 23.4, 30.1, 42.1, 36.5, 10.3, 44.3, 16. , 23.2, 28.8,\n",
              "       21.9, 32. , 30.3, 15.4, 24.3, 26.9, 25.8, 28.2, 22.8, 42.3, 33.9,\n",
              "       25.6, 38.6, 18.4, 31.2, 32.7, 28. , 30.6, 42. , 27.3, 33.8, 21.6,\n",
              "       33.3, 35.9, 24. , 40.6, 42.7, 31.5, 22.5, 20.7, 33.1, 35.5, 27.5,\n",
              "       24.8, 26.4, 22.6, 18.7, 32.6, 36.4, 16.2, 38.5, 22.4, 22.9, 29.2,\n",
              "       25.9, 19.5, 24.5, 20.3, 27.9, 29.6, 25. , 27.4, 30.7, 25.1, 34.6,\n",
              "       38. , 34.4, 36.7, 34.1, 32.5, 27.8, 32.8, 43.1, 17.2, 37.5, 39.3,\n",
              "       29.1, 30.8, 34.8, 29.9, 38.3, 23.3, 21.8, 41.3, 38.7, 36.3, 30. ,\n",
              "       41.5, 37.2, 24.9, 19.8, 28.9, 42.2, 39.5, 31.8, 37.4, 24.1,  0. ,\n",
              "       37.7, 32.3, 36.8, 27.2, 24.7, 36.2, 39.7, 42.9, 49.5, 31.6, 38.9,\n",
              "       40.9, 44.2, 32.1, 42.5, 25.7, 35.8, 38.2, 40.8, 35. , 34. , 31.7,\n",
              "       40.1, 26.1, 25.2, 39. , 41.1, 33.4, 32.2, 43.3, 33.7, 26.6, 39.1,\n",
              "       41.4, 43.2, 31. , 41.9, 41. , 42.4, 43. , 40.3, 40.2, 29.3, 31.4,\n",
              "       22. , 42.8, 43.7, 23.7, 34.5, 41.6, 39.6, 39.8, 37.9, 43.8, 42.6,\n",
              "       41.2, 43.6, 36. , 39.4, 43.5, 25.5, 38.1, 34.9, 28.1, 43.4, 53.8,\n",
              "       30.9, 40.4, 34.3, 45.5, 52.7, 40. , 38.8, 44.9, 33. ])"
            ]
          },
          "metadata": {},
          "execution_count": 33
        }
      ]
    },
    {
      "cell_type": "markdown",
      "id": "1467aacd-ee75-46c9-b1d9-753c78869723",
      "metadata": {
        "id": "1467aacd-ee75-46c9-b1d9-753c78869723"
      },
      "source": [
        "<hr/>"
      ]
    },
    {
      "cell_type": "code",
      "execution_count": null,
      "id": "0c83c5e3-e84a-4e29-a05c-2c10b7d5dfb0",
      "metadata": {
        "id": "0c83c5e3-e84a-4e29-a05c-2c10b7d5dfb0",
        "colab": {
          "base_uri": "https://localhost:8080/"
        },
        "outputId": "b628a58e-bedf-4f47-eefe-5a1a20684d15"
      },
      "outputs": [
        {
          "output_type": "stream",
          "name": "stdout",
          "text": [
            "DataFrame:                 Scientific Name          Common Name\n",
            "0        Carpinus betulus Lucas  Hornbeam - European\n",
            "1              Prunus 'Pandora'  Cherry - Ornamental\n",
            "2    Tilia unidentified species                 Lime\n",
            "3     Rosa unidentified species                 None\n",
            "4                 Cedrus libani     Cedar of Lebanon\n",
            "..                          ...                  ...\n",
            "584               Taxus baccata                  Yew\n",
            "585               Thuja plicata    Western red cedar\n",
            "586          Tsuga heterophylla      Western Hemlock\n",
            "587   Cupressocyparis leylandii      Leylandii green\n",
            "588   Cupressocyparis leylandii    Castlewellan gold\n",
            "\n",
            "[589 rows x 2 columns]\n"
          ]
        }
      ],
      "source": [
        "dataframes = [df1]\n",
        "\n",
        "for df1 in dataframes:\n",
        "    print(\"DataFrame:\", df1)\n",
        "\n",
        "\n",
        "    for column in df1.columns:\n",
        "\n",
        "        if pd.api.types.is_numeric_dtype(df1[column]):\n",
        "\n",
        "            stats = df1[column].describe()\n",
        "            print(\"Column:\", column)\n",
        "            print(\"Descriptive Statistics:\")\n",
        "            print(stats)\n",
        "            print()"
      ]
    },
    {
      "cell_type": "code",
      "execution_count": null,
      "id": "ca5c98b7-a9c5-4ece-bb76-ed03a804525e",
      "metadata": {
        "id": "ca5c98b7-a9c5-4ece-bb76-ed03a804525e",
        "colab": {
          "base_uri": "https://localhost:8080/"
        },
        "outputId": "bf466df5-74f2-4cd5-b941-5fc5ac699540"
      },
      "outputs": [
        {
          "output_type": "stream",
          "name": "stdout",
          "text": [
            "DataFrame:                 Scientific Name          Common Name\n",
            "0        Carpinus betulus Lucas  Hornbeam - European\n",
            "1              Prunus 'Pandora'  Cherry - Ornamental\n",
            "2    Tilia unidentified species                 Lime\n",
            "3     Rosa unidentified species                 None\n",
            "4                 Cedrus libani     Cedar of Lebanon\n",
            "..                          ...                  ...\n",
            "584               Taxus baccata                  Yew\n",
            "585               Thuja plicata    Western red cedar\n",
            "586          Tsuga heterophylla      Western Hemlock\n",
            "587   Cupressocyparis leylandii      Leylandii green\n",
            "588   Cupressocyparis leylandii    Castlewellan gold\n",
            "\n",
            "[589 rows x 2 columns]\n"
          ]
        }
      ],
      "source": [
        "for df1 in dataframes:\n",
        "    print(\"DataFrame:\", df1)"
      ]
    },
    {
      "cell_type": "code",
      "execution_count": null,
      "id": "6e144307-026e-45ee-b0d2-025b7b5f3d9c",
      "metadata": {
        "id": "6e144307-026e-45ee-b0d2-025b7b5f3d9c",
        "colab": {
          "base_uri": "https://localhost:8080/"
        },
        "outputId": "8a105c68-7543-4870-e766-8729bdaed81d"
      },
      "outputs": [
        {
          "output_type": "stream",
          "name": "stdout",
          "text": [
            "Column: Scientific Name\n",
            "Column: Common Name\n"
          ]
        }
      ],
      "source": [
        "for column in df1.columns:\n",
        "        print(\"Column:\", column)"
      ]
    },
    {
      "cell_type": "markdown",
      "id": "2778e230-5042-42eb-b51a-022a1c9710cc",
      "metadata": {
        "id": "2778e230-5042-42eb-b51a-022a1c9710cc"
      },
      "source": [
        "<hr/>\n"
      ]
    },
    {
      "cell_type": "markdown",
      "id": "8641574f-7ee8-4cac-98d9-4c33a54891af",
      "metadata": {
        "tags": [],
        "id": "8641574f-7ee8-4cac-98d9-4c33a54891af"
      },
      "source": [
        "### Identifying Missing Values"
      ]
    },
    {
      "cell_type": "code",
      "execution_count": null,
      "id": "0bd1e712-9211-44f8-a22c-fb1df46c1961",
      "metadata": {
        "id": "0bd1e712-9211-44f8-a22c-fb1df46c1961",
        "colab": {
          "base_uri": "https://localhost:8080/"
        },
        "outputId": "96d9b618-3556-45cd-bcd9-47ab1d97382a"
      },
      "outputs": [
        {
          "output_type": "execute_result",
          "data": {
            "text/plain": [
              "Identifier                                  0.000000\n",
              "Number Of Trees                             0.093841\n",
              "Site Name                                   0.000000\n",
              "Contract Area                               0.000000\n",
              "Scientific Name                             0.000000\n",
              "Inspection Date                             1.710459\n",
              "Inspection Due Date                         1.710459\n",
              "Height In Metres                            1.868282\n",
              "Spread In Metres                            1.868282\n",
              "Diameter In Centimetres At Breast Height    1.872547\n",
              "Ward Code                                   0.963999\n",
              "Ward Name                                   0.963999\n",
              "Easting                                     0.000000\n",
              "Northing                                    0.000000\n",
              "Longitude                                   0.238867\n",
              "Latitude                                    0.238867\n",
              "Location                                    0.238867\n",
              "dtype: float64"
            ]
          },
          "metadata": {},
          "execution_count": 10
        }
      ],
      "source": [
        "# Percentage of null values\n",
        "df3.isnull().mean()*100"
      ]
    },
    {
      "cell_type": "code",
      "execution_count": null,
      "id": "afbf5093-5716-440a-8f89-eeb6a5d66662",
      "metadata": {
        "id": "afbf5093-5716-440a-8f89-eeb6a5d66662",
        "colab": {
          "base_uri": "https://localhost:8080/"
        },
        "outputId": "b91ba30b-bca6-4cb7-f10a-251eb57a5b30"
      },
      "outputs": [
        {
          "output_type": "execute_result",
          "data": {
            "text/plain": [
              "Identifier                                    0\n",
              "Number Of Trees                              22\n",
              "Site Name                                     0\n",
              "Contract Area                                 0\n",
              "Scientific Name                               0\n",
              "Inspection Date                             401\n",
              "Inspection Due Date                         401\n",
              "Height In Metres                            438\n",
              "Spread In Metres                            438\n",
              "Diameter In Centimetres At Breast Height    439\n",
              "Ward Code                                   226\n",
              "Ward Name                                   226\n",
              "Easting                                       0\n",
              "Northing                                      0\n",
              "Longitude                                    56\n",
              "Latitude                                     56\n",
              "Location                                     56\n",
              "dtype: int64"
            ]
          },
          "metadata": {},
          "execution_count": 11
        }
      ],
      "source": [
        "# Number of null values\n",
        "df3.isnull().sum()"
      ]
    },
    {
      "cell_type": "code",
      "execution_count": null,
      "id": "cde99d54-297d-41d8-954d-94ba2e08a2c5",
      "metadata": {
        "id": "cde99d54-297d-41d8-954d-94ba2e08a2c5",
        "colab": {
          "base_uri": "https://localhost:8080/"
        },
        "outputId": "affeafea-28bc-4b42-dd10-42ea987f9900"
      },
      "outputs": [
        {
          "output_type": "execute_result",
          "data": {
            "text/plain": [
              "Identifier                                  0.000000\n",
              "Number Of Trees                             0.396690\n",
              "Site Name                                   0.000000\n",
              "Contract Area                               0.000000\n",
              "Scientific Name                             0.000000\n",
              "Inspection Date                             0.000000\n",
              "Inspection Due Date                         0.000000\n",
              "Height In Metres                            0.733663\n",
              "Spread In Metres                            1.181539\n",
              "Diameter In Centimetres At Breast Height    1.164477\n",
              "Ward Code                                   0.000000\n",
              "Ward Name                                   0.000000\n",
              "Easting                                     0.238867\n",
              "Northing                                    0.238867\n",
              "Longitude                                   0.000000\n",
              "Latitude                                    0.000000\n",
              "Location                                    0.000000\n",
              "dtype: float64"
            ]
          },
          "metadata": {},
          "execution_count": 12
        }
      ],
      "source": [
        "# Percentage of zero values\n",
        "df3.isin([0]).mean()*100"
      ]
    },
    {
      "cell_type": "code",
      "execution_count": null,
      "id": "d0947b5d-8978-46d8-8d57-252d29c25ca8",
      "metadata": {
        "id": "d0947b5d-8978-46d8-8d57-252d29c25ca8",
        "colab": {
          "base_uri": "https://localhost:8080/"
        },
        "outputId": "73853fb3-1a80-4467-c396-53a98a51c56b"
      },
      "outputs": [
        {
          "output_type": "execute_result",
          "data": {
            "text/plain": [
              "Identifier                                    0\n",
              "Number Of Trees                              93\n",
              "Site Name                                     0\n",
              "Contract Area                                 0\n",
              "Scientific Name                               0\n",
              "Inspection Date                               0\n",
              "Inspection Due Date                           0\n",
              "Height In Metres                            172\n",
              "Spread In Metres                            277\n",
              "Diameter In Centimetres At Breast Height    273\n",
              "Ward Code                                     0\n",
              "Ward Name                                     0\n",
              "Easting                                      56\n",
              "Northing                                     56\n",
              "Longitude                                     0\n",
              "Latitude                                      0\n",
              "Location                                      0\n",
              "dtype: int64"
            ]
          },
          "metadata": {},
          "execution_count": 13
        }
      ],
      "source": [
        "# Number of zero values\n",
        "df3.isin([0]).sum()"
      ]
    },
    {
      "cell_type": "code",
      "execution_count": null,
      "id": "de03ea2b-8ea2-48ff-b620-d9fd16290c7b",
      "metadata": {
        "id": "de03ea2b-8ea2-48ff-b620-d9fd16290c7b",
        "colab": {
          "base_uri": "https://localhost:8080/"
        },
        "outputId": "dd20b4f4-d8c1-4955-eb84-39864e0675cd"
      },
      "outputs": [
        {
          "output_type": "execute_result",
          "data": {
            "text/plain": [
              "Identifier                                  0.000000\n",
              "Number Of Trees                             0.004905\n",
              "Site Name                                   0.000000\n",
              "Contract Area                               0.000000\n",
              "Scientific Name                             0.000000\n",
              "Inspection Date                             0.017105\n",
              "Inspection Due Date                         0.017105\n",
              "Height In Metres                            0.026019\n",
              "Spread In Metres                            0.030498\n",
              "Diameter In Centimetres At Breast Height    0.030370\n",
              "Ward Code                                   0.009640\n",
              "Ward Name                                   0.009640\n",
              "Easting                                     0.002389\n",
              "Northing                                    0.002389\n",
              "Longitude                                   0.002389\n",
              "Latitude                                    0.002389\n",
              "Location                                    0.002389\n",
              "dtype: float64"
            ]
          },
          "metadata": {},
          "execution_count": 35
        }
      ],
      "source": [
        "# Percentage of null and zero values\n",
        "(df3.isnull().sum() + df3.isin([0]).sum())/df3.shape[0]"
      ]
    },
    {
      "cell_type": "code",
      "execution_count": null,
      "id": "f43e38e0-00c6-4ebd-9899-8f91557becb7",
      "metadata": {
        "id": "f43e38e0-00c6-4ebd-9899-8f91557becb7",
        "colab": {
          "base_uri": "https://localhost:8080/"
        },
        "outputId": "35d17b15-f2ff-4f6c-9cc7-dff19c84dff5"
      },
      "outputs": [
        {
          "output_type": "execute_result",
          "data": {
            "text/plain": [
              "Identifier                                    0\n",
              "Number Of Trees                             115\n",
              "Site Name                                     0\n",
              "Contract Area                                 0\n",
              "Scientific Name                               0\n",
              "Inspection Date                             401\n",
              "Inspection Due Date                         401\n",
              "Height In Metres                            610\n",
              "Spread In Metres                            715\n",
              "Diameter In Centimetres At Breast Height    712\n",
              "Ward Code                                   226\n",
              "Ward Name                                   226\n",
              "Easting                                      56\n",
              "Northing                                     56\n",
              "Longitude                                    56\n",
              "Latitude                                     56\n",
              "Location                                     56\n",
              "dtype: int64"
            ]
          },
          "metadata": {},
          "execution_count": 15
        }
      ],
      "source": [
        "# Number of null and zero values\n",
        "(df3.isnull().sum() + df3.isin([0]).sum())"
      ]
    },
    {
      "cell_type": "code",
      "execution_count": null,
      "id": "45971fda-0b80-4652-bc63-ed8baeaad087",
      "metadata": {
        "id": "45971fda-0b80-4652-bc63-ed8baeaad087",
        "colab": {
          "base_uri": "https://localhost:8080/"
        },
        "outputId": "5f92af85-2616-4262-c5ab-a861f0809a20"
      },
      "outputs": [
        {
          "output_type": "execute_result",
          "data": {
            "text/plain": [
              "Identifier                                           0.000000\n",
              "Maturity                                             1.746744\n",
              "Physiological Condition                              2.015802\n",
              "Tree Set To Be Removed                               0.000000\n",
              "Removal Reason                                      99.641256\n",
              "Capital Asset Value For Amenity Trees                1.849242\n",
              "Carbon Storage In Kilograms                         12.214392\n",
              "Gross Carbon Sequestration Per Year In Kilograms    12.214392\n",
              "Pollution Removal Per Year In Grams                 12.214392\n",
              "dtype: float64"
            ]
          },
          "metadata": {},
          "execution_count": 16
        }
      ],
      "source": [
        "# Percentage of null values\n",
        "# TODO\n",
        "df2.isnull().mean()*100"
      ]
    },
    {
      "cell_type": "code",
      "execution_count": null,
      "id": "35471141-aca6-453d-afc8-babde8975f14",
      "metadata": {
        "id": "35471141-aca6-453d-afc8-babde8975f14",
        "colab": {
          "base_uri": "https://localhost:8080/"
        },
        "outputId": "077b0fee-e535-4ef6-bf5a-3c10eb497c9c"
      },
      "outputs": [
        {
          "output_type": "execute_result",
          "data": {
            "text/plain": [
              "Identifier                                              0\n",
              "Maturity                                              409\n",
              "Physiological Condition                               472\n",
              "Tree Set To Be Removed                                  0\n",
              "Removal Reason                                      23331\n",
              "Capital Asset Value For Amenity Trees                 433\n",
              "Carbon Storage In Kilograms                          2860\n",
              "Gross Carbon Sequestration Per Year In Kilograms     2860\n",
              "Pollution Removal Per Year In Grams                  2860\n",
              "dtype: int64"
            ]
          },
          "metadata": {},
          "execution_count": 17
        }
      ],
      "source": [
        "# Number of null values\n",
        "# TODO\n",
        "df2.isnull().sum()"
      ]
    },
    {
      "cell_type": "code",
      "execution_count": null,
      "id": "333f86d0-8443-48b5-ba17-6bb91cfd1190",
      "metadata": {
        "id": "333f86d0-8443-48b5-ba17-6bb91cfd1190",
        "colab": {
          "base_uri": "https://localhost:8080/"
        },
        "outputId": "092e2410-8a68-459f-fff9-3c49e27eb88a"
      },
      "outputs": [
        {
          "output_type": "execute_result",
          "data": {
            "text/plain": [
              "Identifier                                          0.000000\n",
              "Maturity                                            0.000000\n",
              "Physiological Condition                             0.000000\n",
              "Tree Set To Be Removed                              0.000000\n",
              "Removal Reason                                      0.000000\n",
              "Capital Asset Value For Amenity Trees               1.183002\n",
              "Carbon Storage In Kilograms                         0.000000\n",
              "Gross Carbon Sequestration Per Year In Kilograms    0.025625\n",
              "Pollution Removal Per Year In Grams                 0.000000\n",
              "dtype: float64"
            ]
          },
          "metadata": {},
          "execution_count": 19
        }
      ],
      "source": [
        "# Percentage of zero values\n",
        "# TODO\n",
        "df2.isin([0]).mean()*100"
      ]
    },
    {
      "cell_type": "code",
      "execution_count": null,
      "id": "809d3c20-113f-4665-b18d-cbdaa07b613c",
      "metadata": {
        "id": "809d3c20-113f-4665-b18d-cbdaa07b613c",
        "colab": {
          "base_uri": "https://localhost:8080/"
        },
        "outputId": "552183d2-095a-4ed2-e9ef-8fd4b4c8bc9d"
      },
      "outputs": [
        {
          "output_type": "execute_result",
          "data": {
            "text/plain": [
              "Identifier                                            0\n",
              "Maturity                                              0\n",
              "Physiological Condition                               0\n",
              "Tree Set To Be Removed                                0\n",
              "Removal Reason                                        0\n",
              "Capital Asset Value For Amenity Trees               277\n",
              "Carbon Storage In Kilograms                           0\n",
              "Gross Carbon Sequestration Per Year In Kilograms      6\n",
              "Pollution Removal Per Year In Grams                   0\n",
              "dtype: int64"
            ]
          },
          "metadata": {},
          "execution_count": 20
        }
      ],
      "source": [
        "# Number of zero values\n",
        "# TODO\n",
        "df2.isin([0]).sum()"
      ]
    },
    {
      "cell_type": "code",
      "execution_count": null,
      "id": "bbada47a-e7aa-43be-bfca-624feda60cb7",
      "metadata": {
        "id": "bbada47a-e7aa-43be-bfca-624feda60cb7",
        "colab": {
          "base_uri": "https://localhost:8080/"
        },
        "outputId": "b476f4cb-dac1-4461-dde2-8a295a8e8e68"
      },
      "outputs": [
        {
          "output_type": "execute_result",
          "data": {
            "text/plain": [
              "Identifier                                          0.000000\n",
              "Maturity                                            0.017467\n",
              "Physiological Condition                             0.020158\n",
              "Tree Set To Be Removed                              0.000000\n",
              "Removal Reason                                      0.996413\n",
              "Capital Asset Value For Amenity Trees               0.030322\n",
              "Carbon Storage In Kilograms                         0.122144\n",
              "Gross Carbon Sequestration Per Year In Kilograms    0.122400\n",
              "Pollution Removal Per Year In Grams                 0.122144\n",
              "dtype: float64"
            ]
          },
          "metadata": {},
          "execution_count": 21
        }
      ],
      "source": [
        "# Percentage of null and zero values\n",
        "# TODO\n",
        "(df2.isnull().sum() + df2.isin([0]).sum())/df2.shape[0]"
      ]
    },
    {
      "cell_type": "code",
      "execution_count": null,
      "id": "27dcd851-d4a3-4014-9167-9330c033738d",
      "metadata": {
        "id": "27dcd851-d4a3-4014-9167-9330c033738d",
        "colab": {
          "base_uri": "https://localhost:8080/"
        },
        "outputId": "be02e2cd-b46d-4402-d3d3-b3823969a144"
      },
      "outputs": [
        {
          "output_type": "execute_result",
          "data": {
            "text/plain": [
              "Identifier                                              0\n",
              "Maturity                                              409\n",
              "Physiological Condition                               472\n",
              "Tree Set To Be Removed                                  0\n",
              "Removal Reason                                      23331\n",
              "Capital Asset Value For Amenity Trees                 710\n",
              "Carbon Storage In Kilograms                          2860\n",
              "Gross Carbon Sequestration Per Year In Kilograms     2866\n",
              "Pollution Removal Per Year In Grams                  2860\n",
              "dtype: int64"
            ]
          },
          "metadata": {},
          "execution_count": 22
        }
      ],
      "source": [
        "# Number of null and zero values\n",
        "# TODO\n",
        "(df2.isnull().sum() + df2.isin([0]).sum())"
      ]
    },
    {
      "cell_type": "markdown",
      "id": "cc5e09d4-fc27-454c-8462-f918e46a241e",
      "metadata": {
        "id": "cc5e09d4-fc27-454c-8462-f918e46a241e"
      },
      "source": [
        "<hr/>"
      ]
    },
    {
      "cell_type": "code",
      "execution_count": null,
      "id": "84581b31-98a4-4b20-a7b3-af1685cf0131",
      "metadata": {
        "id": "84581b31-98a4-4b20-a7b3-af1685cf0131",
        "colab": {
          "base_uri": "https://localhost:8080/"
        },
        "outputId": "80f4605a-4624-41f2-c927-9231cecf1f3e"
      },
      "outputs": [
        {
          "output_type": "execute_result",
          "data": {
            "text/plain": [
              "Scientific Name    0.000000\n",
              "Common Name        4.074703\n",
              "dtype: float64"
            ]
          },
          "metadata": {},
          "execution_count": 23
        }
      ],
      "source": [
        "df1.isnull().mean()*100"
      ]
    },
    {
      "cell_type": "code",
      "execution_count": null,
      "id": "b881b1d4-661d-46f6-943a-a5037f98facb",
      "metadata": {
        "id": "b881b1d4-661d-46f6-943a-a5037f98facb",
        "colab": {
          "base_uri": "https://localhost:8080/"
        },
        "outputId": "1af16611-5668-4ea3-8249-d64083dbb3f6"
      },
      "outputs": [
        {
          "output_type": "execute_result",
          "data": {
            "text/plain": [
              "Scientific Name     0\n",
              "Common Name        24\n",
              "dtype: int64"
            ]
          },
          "metadata": {},
          "execution_count": 24
        }
      ],
      "source": [
        "df1.isnull().sum()"
      ]
    },
    {
      "cell_type": "code",
      "source": [
        "df1.isin([0]).mean()*100"
      ],
      "metadata": {
        "colab": {
          "base_uri": "https://localhost:8080/"
        },
        "id": "IyAdEbXrlGI-",
        "outputId": "cee4836c-6449-48e7-ddca-a4bd271adc40"
      },
      "id": "IyAdEbXrlGI-",
      "execution_count": null,
      "outputs": [
        {
          "output_type": "execute_result",
          "data": {
            "text/plain": [
              "Scientific Name    0.0\n",
              "Common Name        0.0\n",
              "dtype: float64"
            ]
          },
          "metadata": {},
          "execution_count": 25
        }
      ]
    },
    {
      "cell_type": "code",
      "source": [
        "df1.isin([0]).sum()"
      ],
      "metadata": {
        "colab": {
          "base_uri": "https://localhost:8080/"
        },
        "id": "jL9uzZ3slGDJ",
        "outputId": "d799a2c5-71ee-468d-aee3-625e8aa564ad"
      },
      "id": "jL9uzZ3slGDJ",
      "execution_count": null,
      "outputs": [
        {
          "output_type": "execute_result",
          "data": {
            "text/plain": [
              "Scientific Name    0\n",
              "Common Name        0\n",
              "dtype: int64"
            ]
          },
          "metadata": {},
          "execution_count": 26
        }
      ]
    },
    {
      "cell_type": "code",
      "source": [
        "(df1.isnull().sum() + df1.isin([0]).sum())/df1.shape[0]"
      ],
      "metadata": {
        "colab": {
          "base_uri": "https://localhost:8080/"
        },
        "id": "u872n0z9lF5W",
        "outputId": "86f179b2-2e3a-43b0-bf57-f0c422918a73"
      },
      "id": "u872n0z9lF5W",
      "execution_count": null,
      "outputs": [
        {
          "output_type": "execute_result",
          "data": {
            "text/plain": [
              "Scientific Name    0.000000\n",
              "Common Name        0.040747\n",
              "dtype: float64"
            ]
          },
          "metadata": {},
          "execution_count": 27
        }
      ]
    },
    {
      "cell_type": "code",
      "source": [
        "(df1.isnull().sum() + df1.isin([0]).sum())"
      ],
      "metadata": {
        "colab": {
          "base_uri": "https://localhost:8080/"
        },
        "id": "MqqZHHs0lFs2",
        "outputId": "38c98da8-1308-4877-c568-b9ae8e9dc1b0"
      },
      "id": "MqqZHHs0lFs2",
      "execution_count": null,
      "outputs": [
        {
          "output_type": "execute_result",
          "data": {
            "text/plain": [
              "Scientific Name     0\n",
              "Common Name        24\n",
              "dtype: int64"
            ]
          },
          "metadata": {},
          "execution_count": 28
        }
      ]
    },
    {
      "cell_type": "markdown",
      "id": "fe30f689-88b0-4526-abae-1e19a320acf9",
      "metadata": {
        "id": "fe30f689-88b0-4526-abae-1e19a320acf9"
      },
      "source": [
        "<hr/>\n",
        "\n",
        "### Observations\n",
        "\n"
      ]
    },
    {
      "cell_type": "markdown",
      "id": "ec7ce6ee-8fd6-446a-a63a-08babd1e0390",
      "metadata": {
        "id": "ec7ce6ee-8fd6-446a-a63a-08babd1e0390"
      },
      "source": [
        "In **Trees Dataset** we are missing a lot of *Height In Metres*, *Spread In Metres* and *Diameter In Centimetres At Breast Height* which will cause some issues for people of their Borough that wants to\n",
        "really follow the data provided. Also there's some location data missing when it comes to exact locations of trees.\n",
        "\n",
        "In **Environmental Dataset** we are missing mainly Removal Reason, it's 99,5% which is nearly 24,000 values missing.\n",
        "That might be a problem when it comes to transparency of Borough's actions with trees and environment."
      ]
    },
    {
      "cell_type": "markdown",
      "id": "a4094437-06e3-4376-9c94-14e30a910c36",
      "metadata": {
        "id": "a4094437-06e3-4376-9c94-14e30a910c36"
      },
      "source": [
        "\n",
        "<hr/>"
      ]
    },
    {
      "cell_type": "markdown",
      "id": "33d42c68-e660-4892-b2de-0552a062c7ff",
      "metadata": {
        "tags": [],
        "id": "33d42c68-e660-4892-b2de-0552a062c7ff"
      },
      "source": [
        "## Identifying Outliers in the Trees Dimensions"
      ]
    },
    {
      "cell_type": "markdown",
      "id": "52de8466-d0ed-4c29-af9a-bf7c79b80c09",
      "metadata": {
        "id": "52de8466-d0ed-4c29-af9a-bf7c79b80c09"
      },
      "source": [
        "### Outliers for Height"
      ]
    },
    {
      "cell_type": "code",
      "source": [
        "import pandas as pd\n",
        "import matplotlib.pyplot as plt"
      ],
      "metadata": {
        "id": "PS_qJo69whaz"
      },
      "id": "PS_qJo69whaz",
      "execution_count": null,
      "outputs": []
    },
    {
      "cell_type": "code",
      "source": [
        "# Use a boxplot to find the outliers\n",
        "# TODO\n",
        "height_column = df3['Height In Metres']\n",
        "height_column.plot.box(title='Box Plot - Height In Metres', ylabel='Height')\n",
        "plt.show()"
      ],
      "metadata": {
        "colab": {
          "base_uri": "https://localhost:8080/",
          "height": 452
        },
        "id": "07zJrUO4z0Jm",
        "outputId": "2a0e198d-3429-4fe7-be5a-7b96ec877f05"
      },
      "id": "07zJrUO4z0Jm",
      "execution_count": null,
      "outputs": [
        {
          "output_type": "display_data",
          "data": {
            "text/plain": [
              "<Figure size 640x480 with 1 Axes>"
            ],
            "image/png": "[encoded data removed]"
          },
          "metadata": {}
        }
      ]
    },
    {
      "cell_type": "code",
      "source": [
        "mask = df3['Height In Metres'] > 60"
      ],
      "metadata": {
        "id": "ISz8KByg0eKG"
      },
      "id": "ISz8KByg0eKG",
      "execution_count": null,
      "outputs": []
    },
    {
      "cell_type": "code",
      "execution_count": null,
      "id": "7a614957-0a50-41f2-bebd-ca48e3660674",
      "metadata": {
        "id": "7a614957-0a50-41f2-bebd-ca48e3660674",
        "colab": {
          "base_uri": "https://localhost:8080/",
          "height": 298
        },
        "outputId": "bc215165-2ec9-4b94-a170-53e2ebaf7d87"
      },
      "outputs": [
        {
          "output_type": "execute_result",
          "data": {
            "text/plain": [
              "     Identifier  Number Of Trees               Site Name Contract Area  \\\n",
              "1356   00001547              1.0    Beaumont Walk Estate       Housing   \n",
              "1863   00013862              1.0  Maitland Park Estate 1       Housing   \n",
              "\n",
              "           Scientific Name Inspection Date Inspection Due Date  \\\n",
              "1356  Robinia pseudoacacia      2017-05-23           2020/2021   \n",
              "1863          Prunus avium      2017-05-16           2020/2021   \n",
              "\n",
              "      Height In Metres  Spread In Metres  \\\n",
              "1356              96.0              10.0   \n",
              "1863             127.0               9.0   \n",
              "\n",
              "      Diameter In Centimetres At Breast Height  Ward Code   Ward Name  \\\n",
              "1356                                      63.0  E05000136  Haverstock   \n",
              "1863                                      34.0  E05000136  Haverstock   \n",
              "\n",
              "      Easting  Northing  Longitude   Latitude                Location  \n",
              "1356   527847    184391  -0.157739  51.543941  (51.543941, -0.157739)  \n",
              "1863   527987    184901  -0.155534  51.548497  (51.548497, -0.155534)  "
            ],
            "text/html": [
              "\n",
              "  <div id=\"df-807d5c95-ab8e-4e9c-b61a-58181aa365d3\">\n",
              "    <div class=\"colab-df-container\">\n",
              "      <div>\n",
              "<style scoped>\n",
              "    .dataframe tbody tr th:only-of-type {\n",
              "        vertical-align: middle;\n",
              "    }\n",
              "\n",
              "    .dataframe tbody tr th {\n",
              "        vertical-align: top;\n",
              "    }\n",
              "\n",
              "    .dataframe thead th {\n",
              "        text-align: right;\n",
              "    }\n",
              "</style>\n",
              "<table border=\"1\" class=\"dataframe\">\n",
              "  <thead>\n",
              "    <tr style=\"text-align: right;\">\n",
              "      <th></th>\n",
              "      <th>Identifier</th>\n",
              "      <th>Number Of Trees</th>\n",
              "      <th>Site Name</th>\n",
              "      <th>Contract Area</th>\n",
              "      <th>Scientific Name</th>\n",
              "      <th>Inspection Date</th>\n",
              "      <th>Inspection Due Date</th>\n",
              "      <th>Height In Metres</th>\n",
              "      <th>Spread In Metres</th>\n",
              "      <th>Diameter In Centimetres At Breast Height</th>\n",
              "      <th>Ward Code</th>\n",
              "      <th>Ward Name</th>\n",
              "      <th>Easting</th>\n",
              "      <th>Northing</th>\n",
              "      <th>Longitude</th>\n",
              "      <th>Latitude</th>\n",
              "      <th>Location</th>\n",
              "    </tr>\n",
              "  </thead>\n",
              "  <tbody>\n",
              "    <tr>\n",
              "      <th>1356</th>\n",
              "      <td>00001547</td>\n",
              "      <td>1.0</td>\n",
              "      <td>Beaumont Walk Estate</td>\n",
              "      <td>Housing</td>\n",
              "      <td>Robinia pseudoacacia</td>\n",
              "      <td>2017-05-23</td>\n",
              "      <td>2020/2021</td>\n",
              "      <td>96.0</td>\n",
              "      <td>10.0</td>\n",
              "      <td>63.0</td>\n",
              "      <td>E05000136</td>\n",
              "      <td>Haverstock</td>\n",
              "      <td>527847</td>\n",
              "      <td>184391</td>\n",
              "      <td>-0.157739</td>\n",
              "      <td>51.543941</td>\n",
              "      <td>(51.543941, -0.157739)</td>\n",
              "    </tr>\n",
              "    <tr>\n",
              "      <th>1863</th>\n",
              "      <td>00013862</td>\n",
              "      <td>1.0</td>\n",
              "      <td>Maitland Park Estate 1</td>\n",
              "      <td>Housing</td>\n",
              "      <td>Prunus avium</td>\n",
              "      <td>2017-05-16</td>\n",
              "      <td>2020/2021</td>\n",
              "      <td>127.0</td>\n",
              "      <td>9.0</td>\n",
              "      <td>34.0</td>\n",
              "      <td>E05000136</td>\n",
              "      <td>Haverstock</td>\n",
              "      <td>527987</td>\n",
              "      <td>184901</td>\n",
              "      <td>-0.155534</td>\n",
              "      <td>51.548497</td>\n",
              "      <td>(51.548497, -0.155534)</td>\n",
              "    </tr>\n",
              "  </tbody>\n",
              "</table>\n",
              "</div>\n",
              "      <button class=\"colab-df-convert\" onclick=\"convertToInteractive('df-807d5c95-ab8e-4e9c-b61a-58181aa365d3')\"\n",
              "              title=\"Convert this dataframe to an interactive table.\"\n",
              "              style=\"display:none;\">\n",
              "        \n",
              "  <svg xmlns=\"http://www.w3.org/2000/svg\" height=\"24px\"viewBox=\"0 0 24 24\"\n",
              "       width=\"24px\">\n",
              "    <path d=\"M0 0h24v24H0V0z\" fill=\"none\"/>\n",
              "    <path d=\"M18.56 5.44l.94 2.06.94-2.06 2.06-.94-2.06-.94-.94-2.06-.94 2.06-2.06.94zm-11 1L8.5 8.5l.94-2.06 2.06-.94-2.06-.94L8.5 2.5l-.94 2.06-2.06.94zm10 10l.94 2.06.94-2.06 2.06-.94-2.06-.94-.94-2.06-.94 2.06-2.06.94z\"/><path d=\"M17.41 7.96l-1.37-1.37c-.4-.4-.92-.59-1.43-.59-.52 0-1.04.2-1.43.59L10.3 9.45l-7.72 7.72c-.78.78-.78 2.05 0 2.83L4 21.41c.39.39.9.59 1.41.59.51 0 1.02-.2 1.41-.59l7.78-7.78 2.81-2.81c.8-.78.8-2.07 0-2.86zM5.41 20L4 18.59l7.72-7.72 1.47 1.35L5.41 20z\"/>\n",
              "  </svg>\n",
              "      </button>\n",
              "      \n",
              "  <style>\n",
              "    .colab-df-container {\n",
              "      display:flex;\n",
              "      flex-wrap:wrap;\n",
              "      gap: 12px;\n",
              "    }\n",
              "\n",
              "    .colab-df-convert {\n",
              "      background-color: #E8F0FE;\n",
              "      border: none;\n",
              "      border-radius: 50%;\n",
              "      cursor: pointer;\n",
              "      display: none;\n",
              "      fill: #1967D2;\n",
              "      height: 32px;\n",
              "      padding: 0 0 0 0;\n",
              "      width: 32px;\n",
              "    }\n",
              "\n",
              "    .colab-df-convert:hover {\n",
              "      background-color: #E2EBFA;\n",
              "      box-shadow: 0px 1px 2px rgba(60, 64, 67, 0.3), 0px 1px 3px 1px rgba(60, 64, 67, 0.15);\n",
              "      fill: #174EA6;\n",
              "    }\n",
              "\n",
              "    [theme=dark] .colab-df-convert {\n",
              "      background-color: #3B4455;\n",
              "      fill: #D2E3FC;\n",
              "    }\n",
              "\n",
              "    [theme=dark] .colab-df-convert:hover {\n",
              "      background-color: #434B5C;\n",
              "      box-shadow: 0px 1px 3px 1px rgba(0, 0, 0, 0.15);\n",
              "      filter: drop-shadow(0px 1px 2px rgba(0, 0, 0, 0.3));\n",
              "      fill: #FFFFFF;\n",
              "    }\n",
              "  </style>\n",
              "\n",
              "      <script>\n",
              "        const buttonEl =\n",
              "          document.querySelector('#df-807d5c95-ab8e-4e9c-b61a-58181aa365d3 button.colab-df-convert');\n",
              "        buttonEl.style.display =\n",
              "          google.colab.kernel.accessAllowed ? 'block' : 'none';\n",
              "\n",
              "        async function convertToInteractive(key) {\n",
              "          const element = document.querySelector('#df-807d5c95-ab8e-4e9c-b61a-58181aa365d3');\n",
              "          const dataTable =\n",
              "            await google.colab.kernel.invokeFunction('convertToInteractive',\n",
              "                                                     [key], {});\n",
              "          if (!dataTable) return;\n",
              "\n",
              "          const docLinkHtml = 'Like what you see? Visit the ' +\n",
              "            '<a target=\"_blank\" href=https://colab.research.google.com/notebooks/data_table.ipynb>data table notebook</a>'\n",
              "            + ' to learn more about interactive tables.';\n",
              "          element.innerHTML = '';\n",
              "          dataTable['output_type'] = 'display_data';\n",
              "          await google.colab.output.renderOutput(dataTable, element);\n",
              "          const docLink = document.createElement('div');\n",
              "          docLink.innerHTML = docLinkHtml;\n",
              "          element.appendChild(docLink);\n",
              "        }\n",
              "      </script>\n",
              "    </div>\n",
              "  </div>\n",
              "  "
            ]
          },
          "metadata": {},
          "execution_count": 44
        }
      ],
      "source": [
        "# Crazy outlier rows\n",
        "\n",
        "df3[mask]"
      ]
    },
    {
      "cell_type": "markdown",
      "id": "c3e7ff2b-b69c-4095-a20d-bd6d2df1e68a",
      "metadata": {
        "id": "c3e7ff2b-b69c-4095-a20d-bd6d2df1e68a"
      },
      "source": [
        "<hr/>"
      ]
    },
    {
      "cell_type": "markdown",
      "id": "f4d3025c-4a29-42e3-8821-8df2d8daa5e0",
      "metadata": {
        "id": "f4d3025c-4a29-42e3-8821-8df2d8daa5e0"
      },
      "source": [
        "### Outliers for Spread"
      ]
    },
    {
      "cell_type": "code",
      "execution_count": null,
      "id": "ce6760cf-78d0-465d-b4a3-f199596983fa",
      "metadata": {
        "id": "ce6760cf-78d0-465d-b4a3-f199596983fa",
        "colab": {
          "base_uri": "https://localhost:8080/",
          "height": 452
        },
        "outputId": "eea9183a-aced-4006-96ec-944ca90cdf48"
      },
      "outputs": [
        {
          "output_type": "display_data",
          "data": {
            "text/plain": [
              "<Figure size 640x480 with 1 Axes>"
            ],
            "image/png": "[encoded data removed]"
          },
          "metadata": {}
        }
      ],
      "source": [
        "height_column = df3['Spread In Metres']\n",
        "height_column.plot.box(title='Box Plot - Spread In Metres', ylabel='Spread')\n",
        "plt.show()"
      ]
    },
    {
      "cell_type": "code",
      "source": [
        "mask = df3['Spread In Metres'] > 40"
      ],
      "metadata": {
        "id": "iv6Ocgcn05km"
      },
      "id": "iv6Ocgcn05km",
      "execution_count": null,
      "outputs": []
    },
    {
      "cell_type": "code",
      "execution_count": null,
      "id": "6ab3697f-02f9-4e35-acd7-520ac7a1aa83",
      "metadata": {
        "id": "6ab3697f-02f9-4e35-acd7-520ac7a1aa83",
        "colab": {
          "base_uri": "https://localhost:8080/",
          "height": 214
        },
        "outputId": "5fec9200-5cb0-4aaa-c164-f31ca8904ae0"
      },
      "outputs": [
        {
          "output_type": "execute_result",
          "data": {
            "text/plain": [
              "      Identifier  Number Of Trees            Site Name Contract Area  \\\n",
              "18567   00045515              1.0  Broadfield Estate 1       Housing   \n",
              "\n",
              "      Scientific Name Inspection Date Inspection Due Date  Height In Metres  \\\n",
              "18567   Quercus robur      2018-04-26           2021/2022               8.0   \n",
              "\n",
              "       Spread In Metres  Diameter In Centimetres At Breast Height  Ward Code  \\\n",
              "18567              88.0                                      17.0  E05000144   \n",
              "\n",
              "           Ward Name  Easting  Northing  Longitude   Latitude  \\\n",
              "18567  Swiss Cottage   525993    184693  -0.184348  51.547074   \n",
              "\n",
              "                     Location  \n",
              "18567  (51.547074, -0.184348)  "
            ],
            "text/html": [
              "\n",
              "  <div id=\"df-09c7e51d-77be-4a36-95fc-867cf1b7c427\">\n",
              "    <div class=\"colab-df-container\">\n",
              "      <div>\n",
              "<style scoped>\n",
              "    .dataframe tbody tr th:only-of-type {\n",
              "        vertical-align: middle;\n",
              "    }\n",
              "\n",
              "    .dataframe tbody tr th {\n",
              "        vertical-align: top;\n",
              "    }\n",
              "\n",
              "    .dataframe thead th {\n",
              "        text-align: right;\n",
              "    }\n",
              "</style>\n",
              "<table border=\"1\" class=\"dataframe\">\n",
              "  <thead>\n",
              "    <tr style=\"text-align: right;\">\n",
              "      <th></th>\n",
              "      <th>Identifier</th>\n",
              "      <th>Number Of Trees</th>\n",
              "      <th>Site Name</th>\n",
              "      <th>Contract Area</th>\n",
              "      <th>Scientific Name</th>\n",
              "      <th>Inspection Date</th>\n",
              "      <th>Inspection Due Date</th>\n",
              "      <th>Height In Metres</th>\n",
              "      <th>Spread In Metres</th>\n",
              "      <th>Diameter In Centimetres At Breast Height</th>\n",
              "      <th>Ward Code</th>\n",
              "      <th>Ward Name</th>\n",
              "      <th>Easting</th>\n",
              "      <th>Northing</th>\n",
              "      <th>Longitude</th>\n",
              "      <th>Latitude</th>\n",
              "      <th>Location</th>\n",
              "    </tr>\n",
              "  </thead>\n",
              "  <tbody>\n",
              "    <tr>\n",
              "      <th>18567</th>\n",
              "      <td>00045515</td>\n",
              "      <td>1.0</td>\n",
              "      <td>Broadfield Estate 1</td>\n",
              "      <td>Housing</td>\n",
              "      <td>Quercus robur</td>\n",
              "      <td>2018-04-26</td>\n",
              "      <td>2021/2022</td>\n",
              "      <td>8.0</td>\n",
              "      <td>88.0</td>\n",
              "      <td>17.0</td>\n",
              "      <td>E05000144</td>\n",
              "      <td>Swiss Cottage</td>\n",
              "      <td>525993</td>\n",
              "      <td>184693</td>\n",
              "      <td>-0.184348</td>\n",
              "      <td>51.547074</td>\n",
              "      <td>(51.547074, -0.184348)</td>\n",
              "    </tr>\n",
              "  </tbody>\n",
              "</table>\n",
              "</div>\n",
              "      <button class=\"colab-df-convert\" onclick=\"convertToInteractive('df-09c7e51d-77be-4a36-95fc-867cf1b7c427')\"\n",
              "              title=\"Convert this dataframe to an interactive table.\"\n",
              "              style=\"display:none;\">\n",
              "        \n",
              "  <svg xmlns=\"http://www.w3.org/2000/svg\" height=\"24px\"viewBox=\"0 0 24 24\"\n",
              "       width=\"24px\">\n",
              "    <path d=\"M0 0h24v24H0V0z\" fill=\"none\"/>\n",
              "    <path d=\"M18.56 5.44l.94 2.06.94-2.06 2.06-.94-2.06-.94-.94-2.06-.94 2.06-2.06.94zm-11 1L8.5 8.5l.94-2.06 2.06-.94-2.06-.94L8.5 2.5l-.94 2.06-2.06.94zm10 10l.94 2.06.94-2.06 2.06-.94-2.06-.94-.94-2.06-.94 2.06-2.06.94z\"/><path d=\"M17.41 7.96l-1.37-1.37c-.4-.4-.92-.59-1.43-.59-.52 0-1.04.2-1.43.59L10.3 9.45l-7.72 7.72c-.78.78-.78 2.05 0 2.83L4 21.41c.39.39.9.59 1.41.59.51 0 1.02-.2 1.41-.59l7.78-7.78 2.81-2.81c.8-.78.8-2.07 0-2.86zM5.41 20L4 18.59l7.72-7.72 1.47 1.35L5.41 20z\"/>\n",
              "  </svg>\n",
              "      </button>\n",
              "      \n",
              "  <style>\n",
              "    .colab-df-container {\n",
              "      display:flex;\n",
              "      flex-wrap:wrap;\n",
              "      gap: 12px;\n",
              "    }\n",
              "\n",
              "    .colab-df-convert {\n",
              "      background-color: #E8F0FE;\n",
              "      border: none;\n",
              "      border-radius: 50%;\n",
              "      cursor: pointer;\n",
              "      display: none;\n",
              "      fill: #1967D2;\n",
              "      height: 32px;\n",
              "      padding: 0 0 0 0;\n",
              "      width: 32px;\n",
              "    }\n",
              "\n",
              "    .colab-df-convert:hover {\n",
              "      background-color: #E2EBFA;\n",
              "      box-shadow: 0px 1px 2px rgba(60, 64, 67, 0.3), 0px 1px 3px 1px rgba(60, 64, 67, 0.15);\n",
              "      fill: #174EA6;\n",
              "    }\n",
              "\n",
              "    [theme=dark] .colab-df-convert {\n",
              "      background-color: #3B4455;\n",
              "      fill: #D2E3FC;\n",
              "    }\n",
              "\n",
              "    [theme=dark] .colab-df-convert:hover {\n",
              "      background-color: #434B5C;\n",
              "      box-shadow: 0px 1px 3px 1px rgba(0, 0, 0, 0.15);\n",
              "      filter: drop-shadow(0px 1px 2px rgba(0, 0, 0, 0.3));\n",
              "      fill: #FFFFFF;\n",
              "    }\n",
              "  </style>\n",
              "\n",
              "      <script>\n",
              "        const buttonEl =\n",
              "          document.querySelector('#df-09c7e51d-77be-4a36-95fc-867cf1b7c427 button.colab-df-convert');\n",
              "        buttonEl.style.display =\n",
              "          google.colab.kernel.accessAllowed ? 'block' : 'none';\n",
              "\n",
              "        async function convertToInteractive(key) {\n",
              "          const element = document.querySelector('#df-09c7e51d-77be-4a36-95fc-867cf1b7c427');\n",
              "          const dataTable =\n",
              "            await google.colab.kernel.invokeFunction('convertToInteractive',\n",
              "                                                     [key], {});\n",
              "          if (!dataTable) return;\n",
              "\n",
              "          const docLinkHtml = 'Like what you see? Visit the ' +\n",
              "            '<a target=\"_blank\" href=https://colab.research.google.com/notebooks/data_table.ipynb>data table notebook</a>'\n",
              "            + ' to learn more about interactive tables.';\n",
              "          element.innerHTML = '';\n",
              "          dataTable['output_type'] = 'display_data';\n",
              "          await google.colab.output.renderOutput(dataTable, element);\n",
              "          const docLink = document.createElement('div');\n",
              "          docLink.innerHTML = docLinkHtml;\n",
              "          element.appendChild(docLink);\n",
              "        }\n",
              "      </script>\n",
              "    </div>\n",
              "  </div>\n",
              "  "
            ]
          },
          "metadata": {},
          "execution_count": 47
        }
      ],
      "source": [
        "# Crazy outlier rows (if any)\n",
        "\n",
        "df3[mask]"
      ]
    },
    {
      "cell_type": "markdown",
      "id": "70810045-0b5e-4dfe-bba1-fe6b0c2ea8d0",
      "metadata": {
        "id": "70810045-0b5e-4dfe-bba1-fe6b0c2ea8d0"
      },
      "source": [
        "<hr/>"
      ]
    },
    {
      "cell_type": "markdown",
      "id": "cc0982a2-f528-49ee-ae07-6d611cb4c564",
      "metadata": {
        "id": "cc0982a2-f528-49ee-ae07-6d611cb4c564"
      },
      "source": [
        "### Outliers for Diameter"
      ]
    },
    {
      "cell_type": "code",
      "execution_count": null,
      "id": "f09b82f0-44c7-4b2c-b7d6-7b1059f8e424",
      "metadata": {
        "id": "f09b82f0-44c7-4b2c-b7d6-7b1059f8e424",
        "colab": {
          "base_uri": "https://localhost:8080/",
          "height": 452
        },
        "outputId": "f3c3c318-e5c6-44d4-a57a-a048652f17ea"
      },
      "outputs": [
        {
          "output_type": "display_data",
          "data": {
            "text/plain": [
              "<Figure size 640x480 with 1 Axes>"
            ],
            "image/png": "[encoded data removed]"
          },
          "metadata": {}
        }
      ],
      "source": [
        "height_column = df3['Diameter In Centimetres At Breast Height']\n",
        "height_column.plot.box(title='Box Plot - Diameter In Centimetres At Breast Height', ylabel='Diameter')\n",
        "plt.show()"
      ]
    },
    {
      "cell_type": "markdown",
      "source": [
        "### There's no crazy outliers."
      ],
      "metadata": {
        "id": "fKvsRp49znjo"
      },
      "id": "fKvsRp49znjo"
    },
    {
      "cell_type": "markdown",
      "id": "19fb2357-f25f-4840-b4a7-5a016256ff28",
      "metadata": {
        "id": "19fb2357-f25f-4840-b4a7-5a016256ff28"
      },
      "source": [
        "<hr/>\n",
        "\n",
        "### Observations\n"
      ]
    },
    {
      "cell_type": "markdown",
      "id": "12f67262-3fe4-4238-8e6f-e04382b8594d",
      "metadata": {
        "id": "12f67262-3fe4-4238-8e6f-e04382b8594d"
      },
      "source": [
        "There's two highest trees (96m and 127m) in the same ward- Haverstock.\n",
        "Only one outstanding with it's spread in Swiss Cottage.\n",
        "When it comes to diameter there's nothing unusual within the dataset."
      ]
    },
    {
      "cell_type": "markdown",
      "id": "bd36393a-8904-4be8-affe-1a99e5d4e69f",
      "metadata": {
        "id": "bd36393a-8904-4be8-affe-1a99e5d4e69f"
      },
      "source": [
        "<hr/>"
      ]
    },
    {
      "cell_type": "markdown",
      "id": "a433b035-abc4-4ce2-b86e-484e698bd941",
      "metadata": {
        "id": "a433b035-abc4-4ce2-b86e-484e698bd941"
      },
      "source": [
        "## Identifying Duplicates in the Trees Dataset"
      ]
    },
    {
      "cell_type": "code",
      "execution_count": null,
      "id": "a40454f4-03e9-43b3-a0d8-6fcb756ba90b",
      "metadata": {
        "id": "a40454f4-03e9-43b3-a0d8-6fcb756ba90b",
        "colab": {
          "base_uri": "https://localhost:8080/"
        },
        "outputId": "10e8a4ab-be29-4305-bcee-a917fcad8054"
      },
      "outputs": [
        {
          "output_type": "execute_result",
          "data": {
            "text/plain": [
              "00000999    2\n",
              "00060087    2\n",
              "00022744    2\n",
              "00032549    2\n",
              "00022674    2\n",
              "00060088    2\n",
              "Name: Identifier, dtype: int64"
            ]
          },
          "metadata": {},
          "execution_count": 36
        }
      ],
      "source": [
        "var=df3[\"Identifier\"].value_counts()\n",
        "var[var>1]"
      ]
    },
    {
      "cell_type": "code",
      "execution_count": null,
      "id": "3d2fbdbf-c839-4e84-ad7c-add0f4fa31ef",
      "metadata": {
        "id": "3d2fbdbf-c839-4e84-ad7c-add0f4fa31ef",
        "colab": {
          "base_uri": "https://localhost:8080/",
          "height": 856
        },
        "outputId": "d4fee35a-f0ab-4ed1-93c4-cc8d32e70e81"
      },
      "outputs": [
        {
          "output_type": "execute_result",
          "data": {
            "text/plain": [
              "      Identifier  Number Of Trees         Site Name Contract Area  \\\n",
              "1219    00060088              1.0  FREDERICK STREET      Highways   \n",
              "4388    00032549              1.0    NARCISSUS ROAD      Highways   \n",
              "5491    00000999              1.0       ALMA STREET      Highways   \n",
              "6111    00032549              1.0    NARCISSUS ROAD      Highways   \n",
              "7027    00022744              1.0          YORK WAY      Highways   \n",
              "9186    00022744              1.0          YORK WAY      Highways   \n",
              "9482    00022674              1.0     WOODSOME ROAD      Highways   \n",
              "10972   00060088              1.0  FREDERICK STREET      Highways   \n",
              "13098   00000999              1.0       ALMA STREET      Highways   \n",
              "13628   00022674              1.0     WOODSOME ROAD      Highways   \n",
              "15393   00060087              1.0     ARGYLE SQUARE      Highways   \n",
              "15653   00060087              1.0     ARGYLE SQUARE      Highways   \n",
              "\n",
              "                                         Scientific Name Inspection Date  \\\n",
              "1219                   Vacant Tree Pit (planned: Access)      2019-11-09   \n",
              "4388                           Betula albosinensis Fasc.      2018-09-19   \n",
              "5491                                   Sorbus hupehensis      2017-07-25   \n",
              "6111                           Betula albosinensis Fasc.      2018-09-19   \n",
              "7027                                 Ailanthus altissima      2019-10-30   \n",
              "9186                                 Ailanthus altissima      2019-10-30   \n",
              "9482                                              Sorbus      2017-10-07   \n",
              "10972  Vacant Tree Pit (planned: Acer campestre eco s...      2019-11-09   \n",
              "13098                                  Sorbus hupehensis      2017-07-25   \n",
              "13628                                             Sorbus      2017-10-07   \n",
              "15393                  Vacant Tree Pit (planned: Access)      2019-11-09   \n",
              "15653  Vacant Tree Pit (planned: Acer campestre eco s...      2019-11-09   \n",
              "\n",
              "      Inspection Due Date  Height In Metres  Spread In Metres  \\\n",
              "1219            2022/2023               NaN               NaN   \n",
              "4388            2021/2022               9.0               6.0   \n",
              "5491            2020/2021               5.0               4.0   \n",
              "6111            2021/2022               9.0               6.0   \n",
              "7027            2022/2023               7.5               3.0   \n",
              "9186            2022/2023               7.5               3.0   \n",
              "9482            2020/2021               7.0               6.0   \n",
              "10972           2022/2023               NaN               NaN   \n",
              "13098           2020/2021               5.0               4.0   \n",
              "13628           2020/2021               7.0               6.0   \n",
              "15393           2022/2023               NaN               NaN   \n",
              "15653           2022/2023               NaN               NaN   \n",
              "\n",
              "       Diameter In Centimetres At Breast Height  Ward Code       Ward Name  \\\n",
              "1219                                        NaN  E05000141    King's Cross   \n",
              "4388                                       19.0  E05000145  West Hampstead   \n",
              "5491                                       18.0  E05000139    Kentish Town   \n",
              "6111                                       19.0  E05000145  West Hampstead   \n",
              "7027                                       18.0  E05000131      Cantelowes   \n",
              "9186                                       18.0  E05000131      Cantelowes   \n",
              "9482                                       28.0  E05000137        Highgate   \n",
              "10972                                       NaN  E05000141    King's Cross   \n",
              "13098                                      18.0  E05000139    Kentish Town   \n",
              "13628                                      28.0  E05000137        Highgate   \n",
              "15393                                       NaN  E05000141    King's Cross   \n",
              "15653                                       NaN  E05000141    King's Cross   \n",
              "\n",
              "       Easting  Northing  Longitude   Latitude                Location  \n",
              "1219    530770    182696  -0.116241  51.528046  (51.528046, -0.116241)  \n",
              "4388    525185    185127  -0.195840  51.551159   (51.551159, -0.19584)  \n",
              "5491    528834    184856  -0.143337  51.547904  (51.547904, -0.143337)  \n",
              "6111    525185    185127  -0.195840  51.551159   (51.551159, -0.19584)  \n",
              "7027    529983    184724  -0.126837  51.546447  (51.546447, -0.126837)  \n",
              "9186    529983    184724  -0.126837  51.546447  (51.546447, -0.126837)  \n",
              "9482    528515    186109  -0.147481  51.559237  (51.559237, -0.147481)  \n",
              "10972   530770    182696  -0.116241  51.528046  (51.528046, -0.116241)  \n",
              "13098   528834    184856  -0.143337  51.547904  (51.547904, -0.143337)  \n",
              "13628   528515    186109  -0.147481  51.559237  (51.559237, -0.147481)  \n",
              "15393   530342    182839  -0.122352  51.529428  (51.529428, -0.122352)  \n",
              "15653   530342    182839  -0.122352  51.529428  (51.529428, -0.122352)  "
            ],
            "text/html": [
              "\n",
              "  <div id=\"df-2d38e73a-db61-4e62-88b1-09357fb0a5f2\">\n",
              "    <div class=\"colab-df-container\">\n",
              "      <div>\n",
              "<style scoped>\n",
              "    .dataframe tbody tr th:only-of-type {\n",
              "        vertical-align: middle;\n",
              "    }\n",
              "\n",
              "    .dataframe tbody tr th {\n",
              "        vertical-align: top;\n",
              "    }\n",
              "\n",
              "    .dataframe thead th {\n",
              "        text-align: right;\n",
              "    }\n",
              "</style>\n",
              "<table border=\"1\" class=\"dataframe\">\n",
              "  <thead>\n",
              "    <tr style=\"text-align: right;\">\n",
              "      <th></th>\n",
              "      <th>Identifier</th>\n",
              "      <th>Number Of Trees</th>\n",
              "      <th>Site Name</th>\n",
              "      <th>Contract Area</th>\n",
              "      <th>Scientific Name</th>\n",
              "      <th>Inspection Date</th>\n",
              "      <th>Inspection Due Date</th>\n",
              "      <th>Height In Metres</th>\n",
              "      <th>Spread In Metres</th>\n",
              "      <th>Diameter In Centimetres At Breast Height</th>\n",
              "      <th>Ward Code</th>\n",
              "      <th>Ward Name</th>\n",
              "      <th>Easting</th>\n",
              "      <th>Northing</th>\n",
              "      <th>Longitude</th>\n",
              "      <th>Latitude</th>\n",
              "      <th>Location</th>\n",
              "    </tr>\n",
              "  </thead>\n",
              "  <tbody>\n",
              "    <tr>\n",
              "      <th>1219</th>\n",
              "      <td>00060088</td>\n",
              "      <td>1.0</td>\n",
              "      <td>FREDERICK STREET</td>\n",
              "      <td>Highways</td>\n",
              "      <td>Vacant Tree Pit (planned: Access)</td>\n",
              "      <td>2019-11-09</td>\n",
              "      <td>2022/2023</td>\n",
              "      <td>NaN</td>\n",
              "      <td>NaN</td>\n",
              "      <td>NaN</td>\n",
              "      <td>E05000141</td>\n",
              "      <td>King's Cross</td>\n",
              "      <td>530770</td>\n",
              "      <td>182696</td>\n",
              "      <td>-0.116241</td>\n",
              "      <td>51.528046</td>\n",
              "      <td>(51.528046, -0.116241)</td>\n",
              "    </tr>\n",
              "    <tr>\n",
              "      <th>4388</th>\n",
              "      <td>00032549</td>\n",
              "      <td>1.0</td>\n",
              "      <td>NARCISSUS ROAD</td>\n",
              "      <td>Highways</td>\n",
              "      <td>Betula albosinensis Fasc.</td>\n",
              "      <td>2018-09-19</td>\n",
              "      <td>2021/2022</td>\n",
              "      <td>9.0</td>\n",
              "      <td>6.0</td>\n",
              "      <td>19.0</td>\n",
              "      <td>E05000145</td>\n",
              "      <td>West Hampstead</td>\n",
              "      <td>525185</td>\n",
              "      <td>185127</td>\n",
              "      <td>-0.195840</td>\n",
              "      <td>51.551159</td>\n",
              "      <td>(51.551159, -0.19584)</td>\n",
              "    </tr>\n",
              "    <tr>\n",
              "      <th>5491</th>\n",
              "      <td>00000999</td>\n",
              "      <td>1.0</td>\n",
              "      <td>ALMA STREET</td>\n",
              "      <td>Highways</td>\n",
              "      <td>Sorbus hupehensis</td>\n",
              "      <td>2017-07-25</td>\n",
              "      <td>2020/2021</td>\n",
              "      <td>5.0</td>\n",
              "      <td>4.0</td>\n",
              "      <td>18.0</td>\n",
              "      <td>E05000139</td>\n",
              "      <td>Kentish Town</td>\n",
              "      <td>528834</td>\n",
              "      <td>184856</td>\n",
              "      <td>-0.143337</td>\n",
              "      <td>51.547904</td>\n",
              "      <td>(51.547904, -0.143337)</td>\n",
              "    </tr>\n",
              "    <tr>\n",
              "      <th>6111</th>\n",
              "      <td>00032549</td>\n",
              "      <td>1.0</td>\n",
              "      <td>NARCISSUS ROAD</td>\n",
              "      <td>Highways</td>\n",
              "      <td>Betula albosinensis Fasc.</td>\n",
              "      <td>2018-09-19</td>\n",
              "      <td>2021/2022</td>\n",
              "      <td>9.0</td>\n",
              "      <td>6.0</td>\n",
              "      <td>19.0</td>\n",
              "      <td>E05000145</td>\n",
              "      <td>West Hampstead</td>\n",
              "      <td>525185</td>\n",
              "      <td>185127</td>\n",
              "      <td>-0.195840</td>\n",
              "      <td>51.551159</td>\n",
              "      <td>(51.551159, -0.19584)</td>\n",
              "    </tr>\n",
              "    <tr>\n",
              "      <th>7027</th>\n",
              "      <td>00022744</td>\n",
              "      <td>1.0</td>\n",
              "      <td>YORK WAY</td>\n",
              "      <td>Highways</td>\n",
              "      <td>Ailanthus altissima</td>\n",
              "      <td>2019-10-30</td>\n",
              "      <td>2022/2023</td>\n",
              "      <td>7.5</td>\n",
              "      <td>3.0</td>\n",
              "      <td>18.0</td>\n",
              "      <td>E05000131</td>\n",
              "      <td>Cantelowes</td>\n",
              "      <td>529983</td>\n",
              "      <td>184724</td>\n",
              "      <td>-0.126837</td>\n",
              "      <td>51.546447</td>\n",
              "      <td>(51.546447, -0.126837)</td>\n",
              "    </tr>\n",
              "    <tr>\n",
              "      <th>9186</th>\n",
              "      <td>00022744</td>\n",
              "      <td>1.0</td>\n",
              "      <td>YORK WAY</td>\n",
              "      <td>Highways</td>\n",
              "      <td>Ailanthus altissima</td>\n",
              "      <td>2019-10-30</td>\n",
              "      <td>2022/2023</td>\n",
              "      <td>7.5</td>\n",
              "      <td>3.0</td>\n",
              "      <td>18.0</td>\n",
              "      <td>E05000131</td>\n",
              "      <td>Cantelowes</td>\n",
              "      <td>529983</td>\n",
              "      <td>184724</td>\n",
              "      <td>-0.126837</td>\n",
              "      <td>51.546447</td>\n",
              "      <td>(51.546447, -0.126837)</td>\n",
              "    </tr>\n",
              "    <tr>\n",
              "      <th>9482</th>\n",
              "      <td>00022674</td>\n",
              "      <td>1.0</td>\n",
              "      <td>WOODSOME ROAD</td>\n",
              "      <td>Highways</td>\n",
              "      <td>Sorbus</td>\n",
              "      <td>2017-10-07</td>\n",
              "      <td>2020/2021</td>\n",
              "      <td>7.0</td>\n",
              "      <td>6.0</td>\n",
              "      <td>28.0</td>\n",
              "      <td>E05000137</td>\n",
              "      <td>Highgate</td>\n",
              "      <td>528515</td>\n",
              "      <td>186109</td>\n",
              "      <td>-0.147481</td>\n",
              "      <td>51.559237</td>\n",
              "      <td>(51.559237, -0.147481)</td>\n",
              "    </tr>\n",
              "    <tr>\n",
              "      <th>10972</th>\n",
              "      <td>00060088</td>\n",
              "      <td>1.0</td>\n",
              "      <td>FREDERICK STREET</td>\n",
              "      <td>Highways</td>\n",
              "      <td>Vacant Tree Pit (planned: Acer campestre eco s...</td>\n",
              "      <td>2019-11-09</td>\n",
              "      <td>2022/2023</td>\n",
              "      <td>NaN</td>\n",
              "      <td>NaN</td>\n",
              "      <td>NaN</td>\n",
              "      <td>E05000141</td>\n",
              "      <td>King's Cross</td>\n",
              "      <td>530770</td>\n",
              "      <td>182696</td>\n",
              "      <td>-0.116241</td>\n",
              "      <td>51.528046</td>\n",
              "      <td>(51.528046, -0.116241)</td>\n",
              "    </tr>\n",
              "    <tr>\n",
              "      <th>13098</th>\n",
              "      <td>00000999</td>\n",
              "      <td>1.0</td>\n",
              "      <td>ALMA STREET</td>\n",
              "      <td>Highways</td>\n",
              "      <td>Sorbus hupehensis</td>\n",
              "      <td>2017-07-25</td>\n",
              "      <td>2020/2021</td>\n",
              "      <td>5.0</td>\n",
              "      <td>4.0</td>\n",
              "      <td>18.0</td>\n",
              "      <td>E05000139</td>\n",
              "      <td>Kentish Town</td>\n",
              "      <td>528834</td>\n",
              "      <td>184856</td>\n",
              "      <td>-0.143337</td>\n",
              "      <td>51.547904</td>\n",
              "      <td>(51.547904, -0.143337)</td>\n",
              "    </tr>\n",
              "    <tr>\n",
              "      <th>13628</th>\n",
              "      <td>00022674</td>\n",
              "      <td>1.0</td>\n",
              "      <td>WOODSOME ROAD</td>\n",
              "      <td>Highways</td>\n",
              "      <td>Sorbus</td>\n",
              "      <td>2017-10-07</td>\n",
              "      <td>2020/2021</td>\n",
              "      <td>7.0</td>\n",
              "      <td>6.0</td>\n",
              "      <td>28.0</td>\n",
              "      <td>E05000137</td>\n",
              "      <td>Highgate</td>\n",
              "      <td>528515</td>\n",
              "      <td>186109</td>\n",
              "      <td>-0.147481</td>\n",
              "      <td>51.559237</td>\n",
              "      <td>(51.559237, -0.147481)</td>\n",
              "    </tr>\n",
              "    <tr>\n",
              "      <th>15393</th>\n",
              "      <td>00060087</td>\n",
              "      <td>1.0</td>\n",
              "      <td>ARGYLE SQUARE</td>\n",
              "      <td>Highways</td>\n",
              "      <td>Vacant Tree Pit (planned: Access)</td>\n",
              "      <td>2019-11-09</td>\n",
              "      <td>2022/2023</td>\n",
              "      <td>NaN</td>\n",
              "      <td>NaN</td>\n",
              "      <td>NaN</td>\n",
              "      <td>E05000141</td>\n",
              "      <td>King's Cross</td>\n",
              "      <td>530342</td>\n",
              "      <td>182839</td>\n",
              "      <td>-0.122352</td>\n",
              "      <td>51.529428</td>\n",
              "      <td>(51.529428, -0.122352)</td>\n",
              "    </tr>\n",
              "    <tr>\n",
              "      <th>15653</th>\n",
              "      <td>00060087</td>\n",
              "      <td>1.0</td>\n",
              "      <td>ARGYLE SQUARE</td>\n",
              "      <td>Highways</td>\n",
              "      <td>Vacant Tree Pit (planned: Acer campestre eco s...</td>\n",
              "      <td>2019-11-09</td>\n",
              "      <td>2022/2023</td>\n",
              "      <td>NaN</td>\n",
              "      <td>NaN</td>\n",
              "      <td>NaN</td>\n",
              "      <td>E05000141</td>\n",
              "      <td>King's Cross</td>\n",
              "      <td>530342</td>\n",
              "      <td>182839</td>\n",
              "      <td>-0.122352</td>\n",
              "      <td>51.529428</td>\n",
              "      <td>(51.529428, -0.122352)</td>\n",
              "    </tr>\n",
              "  </tbody>\n",
              "</table>\n",
              "</div>\n",
              "      <button class=\"colab-df-convert\" onclick=\"convertToInteractive('df-2d38e73a-db61-4e62-88b1-09357fb0a5f2')\"\n",
              "              title=\"Convert this dataframe to an interactive table.\"\n",
              "              style=\"display:none;\">\n",
              "        \n",
              "  <svg xmlns=\"http://www.w3.org/2000/svg\" height=\"24px\"viewBox=\"0 0 24 24\"\n",
              "       width=\"24px\">\n",
              "    <path d=\"M0 0h24v24H0V0z\" fill=\"none\"/>\n",
              "    <path d=\"M18.56 5.44l.94 2.06.94-2.06 2.06-.94-2.06-.94-.94-2.06-.94 2.06-2.06.94zm-11 1L8.5 8.5l.94-2.06 2.06-.94-2.06-.94L8.5 2.5l-.94 2.06-2.06.94zm10 10l.94 2.06.94-2.06 2.06-.94-2.06-.94-.94-2.06-.94 2.06-2.06.94z\"/><path d=\"M17.41 7.96l-1.37-1.37c-.4-.4-.92-.59-1.43-.59-.52 0-1.04.2-1.43.59L10.3 9.45l-7.72 7.72c-.78.78-.78 2.05 0 2.83L4 21.41c.39.39.9.59 1.41.59.51 0 1.02-.2 1.41-.59l7.78-7.78 2.81-2.81c.8-.78.8-2.07 0-2.86zM5.41 20L4 18.59l7.72-7.72 1.47 1.35L5.41 20z\"/>\n",
              "  </svg>\n",
              "      </button>\n",
              "      \n",
              "  <style>\n",
              "    .colab-df-container {\n",
              "      display:flex;\n",
              "      flex-wrap:wrap;\n",
              "      gap: 12px;\n",
              "    }\n",
              "\n",
              "    .colab-df-convert {\n",
              "      background-color: #E8F0FE;\n",
              "      border: none;\n",
              "      border-radius: 50%;\n",
              "      cursor: pointer;\n",
              "      display: none;\n",
              "      fill: #1967D2;\n",
              "      height: 32px;\n",
              "      padding: 0 0 0 0;\n",
              "      width: 32px;\n",
              "    }\n",
              "\n",
              "    .colab-df-convert:hover {\n",
              "      background-color: #E2EBFA;\n",
              "      box-shadow: 0px 1px 2px rgba(60, 64, 67, 0.3), 0px 1px 3px 1px rgba(60, 64, 67, 0.15);\n",
              "      fill: #174EA6;\n",
              "    }\n",
              "\n",
              "    [theme=dark] .colab-df-convert {\n",
              "      background-color: #3B4455;\n",
              "      fill: #D2E3FC;\n",
              "    }\n",
              "\n",
              "    [theme=dark] .colab-df-convert:hover {\n",
              "      background-color: #434B5C;\n",
              "      box-shadow: 0px 1px 3px 1px rgba(0, 0, 0, 0.15);\n",
              "      filter: drop-shadow(0px 1px 2px rgba(0, 0, 0, 0.3));\n",
              "      fill: #FFFFFF;\n",
              "    }\n",
              "  </style>\n",
              "\n",
              "      <script>\n",
              "        const buttonEl =\n",
              "          document.querySelector('#df-2d38e73a-db61-4e62-88b1-09357fb0a5f2 button.colab-df-convert');\n",
              "        buttonEl.style.display =\n",
              "          google.colab.kernel.accessAllowed ? 'block' : 'none';\n",
              "\n",
              "        async function convertToInteractive(key) {\n",
              "          const element = document.querySelector('#df-2d38e73a-db61-4e62-88b1-09357fb0a5f2');\n",
              "          const dataTable =\n",
              "            await google.colab.kernel.invokeFunction('convertToInteractive',\n",
              "                                                     [key], {});\n",
              "          if (!dataTable) return;\n",
              "\n",
              "          const docLinkHtml = 'Like what you see? Visit the ' +\n",
              "            '<a target=\"_blank\" href=https://colab.research.google.com/notebooks/data_table.ipynb>data table notebook</a>'\n",
              "            + ' to learn more about interactive tables.';\n",
              "          element.innerHTML = '';\n",
              "          dataTable['output_type'] = 'display_data';\n",
              "          await google.colab.output.renderOutput(dataTable, element);\n",
              "          const docLink = document.createElement('div');\n",
              "          docLink.innerHTML = docLinkHtml;\n",
              "          element.appendChild(docLink);\n",
              "        }\n",
              "      </script>\n",
              "    </div>\n",
              "  </div>\n",
              "  "
            ]
          },
          "metadata": {},
          "execution_count": 37
        }
      ],
      "source": [
        "mask = df3[\"Identifier\"].isin(var[var>1].index)\n",
        "df3[mask]"
      ]
    },
    {
      "cell_type": "markdown",
      "id": "a74e447b-7ae5-43f3-a189-94c066fe6fc0",
      "metadata": {
        "id": "a74e447b-7ae5-43f3-a189-94c066fe6fc0"
      },
      "source": [
        "<hr/>\n",
        "\n",
        "### Observations"
      ]
    },
    {
      "cell_type": "markdown",
      "id": "7aaa910b-ccc4-4f78-80cd-467b683fe2e1",
      "metadata": {
        "id": "7aaa910b-ccc4-4f78-80cd-467b683fe2e1"
      },
      "source": [
        "Duplicates showing in one contract area- Highways."
      ]
    },
    {
      "cell_type": "markdown",
      "id": "d0f41ea4-112c-4ea9-96a5-ca76e4b972b3",
      "metadata": {
        "id": "d0f41ea4-112c-4ea9-96a5-ca76e4b972b3"
      },
      "source": [
        "<hr/>"
      ]
    },
    {
      "cell_type": "markdown",
      "id": "59990f3e-6f73-46ee-8644-2dc503baa93a",
      "metadata": {
        "id": "59990f3e-6f73-46ee-8644-2dc503baa93a"
      },
      "source": [
        "## Identifying Geolocation Issues\n",
        "\n",
        "\n"
      ]
    },
    {
      "cell_type": "code",
      "source": [
        "df3.copy(deep=True)\n",
        "mask=df3['Identifier'].isnull()"
      ],
      "metadata": {
        "id": "vhGvDxjb7pdY"
      },
      "id": "vhGvDxjb7pdY",
      "execution_count": null,
      "outputs": []
    },
    {
      "cell_type": "markdown",
      "id": "0bdaf281-68a3-43d4-abb6-f3c42a088f7f",
      "metadata": {
        "id": "0bdaf281-68a3-43d4-abb6-f3c42a088f7f"
      },
      "source": [
        "### Removing Trees with Missing Geo-coordinates"
      ]
    },
    {
      "cell_type": "code",
      "execution_count": null,
      "id": "913c1d69-b105-44aa-be2f-73b537313c6e",
      "metadata": {
        "id": "913c1d69-b105-44aa-be2f-73b537313c6e"
      },
      "outputs": [],
      "source": [
        "# Making a copy of the trees\n",
        "\n",
        "geotrees = df3.copy()"
      ]
    },
    {
      "cell_type": "code",
      "execution_count": null,
      "id": "3a9b5bf6-bda3-472f-9796-060023cff4e8",
      "metadata": {
        "id": "3a9b5bf6-bda3-472f-9796-060023cff4e8"
      },
      "outputs": [],
      "source": [
        "# Removing null Eastings\n",
        "\n",
        "mask=geotrees['Easting'].isnull()"
      ]
    },
    {
      "cell_type": "code",
      "execution_count": null,
      "id": "7f77324a-f2e4-4d69-a0fe-1d71757c6f6e",
      "metadata": {
        "id": "7f77324a-f2e4-4d69-a0fe-1d71757c6f6e"
      },
      "outputs": [],
      "source": [
        "# Removing 0 Eastings.\n",
        "\n",
        "mask = geotrees['Easting'] != 0\n",
        "geotrees = geotrees[mask]"
      ]
    },
    {
      "cell_type": "code",
      "execution_count": null,
      "id": "40ccb789-0cab-4218-9caa-e7e08b2b71ae",
      "metadata": {
        "id": "40ccb789-0cab-4218-9caa-e7e08b2b71ae"
      },
      "outputs": [],
      "source": [
        "# Removing null Northings\n",
        "\n",
        "mask=geotrees['Northing'].isnull()"
      ]
    },
    {
      "cell_type": "code",
      "execution_count": null,
      "id": "c77858c5-99e7-4f1f-affa-bd2370b9aed8",
      "metadata": {
        "id": "c77858c5-99e7-4f1f-affa-bd2370b9aed8"
      },
      "outputs": [],
      "source": [
        "# Removing 0 Northings.\n",
        "\n",
        "mask = geotrees['Northing'] != 0\n",
        "geotrees = geotrees[mask]"
      ]
    },
    {
      "cell_type": "code",
      "execution_count": null,
      "id": "616a5473-5d71-486a-9ea0-c401fc7f4428",
      "metadata": {
        "id": "616a5473-5d71-486a-9ea0-c401fc7f4428",
        "colab": {
          "base_uri": "https://localhost:8080/"
        },
        "outputId": "62416567-36b4-4dc2-bcc1-ee7e89c3f8e4"
      },
      "outputs": [
        {
          "output_type": "execute_result",
          "data": {
            "text/plain": [
              "(23388, 17)"
            ]
          },
          "metadata": {},
          "execution_count": 11
        }
      ],
      "source": [
        "# Confirming how many rows we have\n",
        "\n",
        "geotrees.shape"
      ]
    },
    {
      "cell_type": "markdown",
      "id": "a63dbcfc-e781-4812-9a10-1cf5be028dae",
      "metadata": {
        "id": "a63dbcfc-e781-4812-9a10-1cf5be028dae"
      },
      "source": [
        "<hr/>"
      ]
    },
    {
      "cell_type": "markdown",
      "id": "d1e84a3c-7eed-408a-a724-3944d89e0755",
      "metadata": {
        "id": "d1e84a3c-7eed-408a-a724-3944d89e0755"
      },
      "source": [
        "### Ploting Map of Trees"
      ]
    },
    {
      "cell_type": "code",
      "execution_count": null,
      "id": "b51e227f-bd09-4064-9f60-be766962646d",
      "metadata": {
        "id": "b51e227f-bd09-4064-9f60-be766962646d",
        "colab": {
          "base_uri": "https://localhost:8080/",
          "height": 559
        },
        "outputId": "ef92d86c-1488-487b-9233-b07ec825c9f7"
      },
      "outputs": [
        {
          "output_type": "execute_result",
          "data": {
            "text/plain": [
              "<Axes: xlabel='Easting', ylabel='Northing'>"
            ]
          },
          "metadata": {},
          "execution_count": 50
        },
        {
          "output_type": "display_data",
          "data": {
            "text/plain": [
              "<Figure size 600x600 with 1 Axes>"
            ],
            "image/png": "[encoded data removed]"
          },
          "metadata": {}
        }
      ],
      "source": [
        "geotrees.plot.scatter(x='Easting',y='Northing',figsize=(6,6))"
      ]
    },
    {
      "cell_type": "code",
      "source": [],
      "metadata": {
        "id": "M6Uo7UgMJMw_"
      },
      "id": "M6Uo7UgMJMw_",
      "execution_count": null,
      "outputs": []
    },
    {
      "cell_type": "markdown",
      "id": "6914e59e-aaeb-4b9b-8a84-b4007e2ad747",
      "metadata": {
        "id": "6914e59e-aaeb-4b9b-8a84-b4007e2ad747"
      },
      "source": [
        "### Finding Trees Outside Camden"
      ]
    },
    {
      "cell_type": "code",
      "execution_count": null,
      "id": "4b992a8f-d5be-4adb-a383-4f8e5505b2ed",
      "metadata": {
        "id": "4b992a8f-d5be-4adb-a383-4f8e5505b2ed"
      },
      "outputs": [],
      "source": [
        "mask = geotrees['Northing'] > 190000"
      ]
    },
    {
      "cell_type": "code",
      "execution_count": null,
      "id": "0270dae9-9bcf-4b63-95cf-13b7c5184424",
      "metadata": {
        "id": "0270dae9-9bcf-4b63-95cf-13b7c5184424",
        "colab": {
          "base_uri": "https://localhost:8080/",
          "height": 528
        },
        "outputId": "e6445d28-bdc1-4236-99bd-e9de16714f67"
      },
      "outputs": [
        {
          "output_type": "execute_result",
          "data": {
            "text/plain": [
              "      Identifier  Number Of Trees                  Site Name Contract Area  \\\n",
              "78      00044991              1.0          Bells Hill Estate       Housing   \n",
              "298     00045000              1.0  Estate 167 Furzehill Road       Housing   \n",
              "660     00044992              1.0          Bells Hill Estate       Housing   \n",
              "1526    00044995              1.0          Bells Hill Estate       Housing   \n",
              "5392    00044990              1.0          Bells Hill Estate       Housing   \n",
              "18069   00044993              1.0          Bells Hill Estate       Housing   \n",
              "18078   00044601              1.0          Bells Hill Estate       Housing   \n",
              "19532   00044988              1.0          Bells Hill Estate       Housing   \n",
              "\n",
              "              Scientific Name Inspection Date Inspection Due Date  \\\n",
              "78         Fraxinus excelsior      2017-04-28           2020/2021   \n",
              "298          Pinus sylvestris      2017-04-28           2020/2021   \n",
              "660        Crataegus monogyna      2017-04-28           2020/2021   \n",
              "1526       Fraxinus excelsior      2017-04-28           2020/2021   \n",
              "5392   Aesculus hippocastanum      2017-04-28           2020/2021   \n",
              "18069           Tilia cordata      2017-04-28           2020/2021   \n",
              "18078           Tilia cordata      2017-04-28           2020/2021   \n",
              "19532           Tilia cordata      2017-04-28           2020/2021   \n",
              "\n",
              "       Height In Metres  Spread In Metres  \\\n",
              "78                 20.0              10.0   \n",
              "298                10.0               3.0   \n",
              "660                 4.0               4.0   \n",
              "1526               18.0              12.0   \n",
              "5392               22.0              12.0   \n",
              "18069              23.0              14.0   \n",
              "18078              21.0              12.0   \n",
              "19532              21.0              12.0   \n",
              "\n",
              "       Diameter In Centimetres At Breast Height Ward Code Ward Name  Easting  \\\n",
              "78                                         49.0       NaN       NaN   523883   \n",
              "298                                        41.0       NaN       NaN   520367   \n",
              "660                                         7.0       NaN       NaN   523875   \n",
              "1526                                       54.0       NaN       NaN   523936   \n",
              "5392                                       67.0       NaN       NaN   523889   \n",
              "18069                                      89.0       NaN       NaN   523867   \n",
              "18078                                      56.0       NaN       NaN   523905   \n",
              "19532                                      65.0       NaN       NaN   523909   \n",
              "\n",
              "       Northing  Longitude   Latitude                Location  \n",
              "78       196179  -0.210713  51.650765  (51.650765, -0.210713)  \n",
              "298      195595  -0.261719  51.646283  (51.646283, -0.261719)  \n",
              "660      196170  -0.210830  51.650690    (51.65069, -0.21083)  \n",
              "1526     196127  -0.209969  51.650287  (51.650287, -0.209969)  \n",
              "5392     196188  -0.210618  51.650843  (51.650843, -0.210618)  \n",
              "18069    196159  -0.210957  51.650590   (51.65059, -0.210957)  \n",
              "18078    196174  -0.210394  51.650719  (51.650719, -0.210394)  \n",
              "19532    196169  -0.210340  51.650676   (51.650676, -0.21034)  "
            ],
            "text/html": [
              "\n",
              "  <div id=\"df-4304460e-58e5-4b22-8754-339e1a999e7e\">\n",
              "    <div class=\"colab-df-container\">\n",
              "      <div>\n",
              "<style scoped>\n",
              "    .dataframe tbody tr th:only-of-type {\n",
              "        vertical-align: middle;\n",
              "    }\n",
              "\n",
              "    .dataframe tbody tr th {\n",
              "        vertical-align: top;\n",
              "    }\n",
              "\n",
              "    .dataframe thead th {\n",
              "        text-align: right;\n",
              "    }\n",
              "</style>\n",
              "<table border=\"1\" class=\"dataframe\">\n",
              "  <thead>\n",
              "    <tr style=\"text-align: right;\">\n",
              "      <th></th>\n",
              "      <th>Identifier</th>\n",
              "      <th>Number Of Trees</th>\n",
              "      <th>Site Name</th>\n",
              "      <th>Contract Area</th>\n",
              "      <th>Scientific Name</th>\n",
              "      <th>Inspection Date</th>\n",
              "      <th>Inspection Due Date</th>\n",
              "      <th>Height In Metres</th>\n",
              "      <th>Spread In Metres</th>\n",
              "      <th>Diameter In Centimetres At Breast Height</th>\n",
              "      <th>Ward Code</th>\n",
              "      <th>Ward Name</th>\n",
              "      <th>Easting</th>\n",
              "      <th>Northing</th>\n",
              "      <th>Longitude</th>\n",
              "      <th>Latitude</th>\n",
              "      <th>Location</th>\n",
              "    </tr>\n",
              "  </thead>\n",
              "  <tbody>\n",
              "    <tr>\n",
              "      <th>78</th>\n",
              "      <td>00044991</td>\n",
              "      <td>1.0</td>\n",
              "      <td>Bells Hill Estate</td>\n",
              "      <td>Housing</td>\n",
              "      <td>Fraxinus excelsior</td>\n",
              "      <td>2017-04-28</td>\n",
              "      <td>2020/2021</td>\n",
              "      <td>20.0</td>\n",
              "      <td>10.0</td>\n",
              "      <td>49.0</td>\n",
              "      <td>NaN</td>\n",
              "      <td>NaN</td>\n",
              "      <td>523883</td>\n",
              "      <td>196179</td>\n",
              "      <td>-0.210713</td>\n",
              "      <td>51.650765</td>\n",
              "      <td>(51.650765, -0.210713)</td>\n",
              "    </tr>\n",
              "    <tr>\n",
              "      <th>298</th>\n",
              "      <td>00045000</td>\n",
              "      <td>1.0</td>\n",
              "      <td>Estate 167 Furzehill Road</td>\n",
              "      <td>Housing</td>\n",
              "      <td>Pinus sylvestris</td>\n",
              "      <td>2017-04-28</td>\n",
              "      <td>2020/2021</td>\n",
              "      <td>10.0</td>\n",
              "      <td>3.0</td>\n",
              "      <td>41.0</td>\n",
              "      <td>NaN</td>\n",
              "      <td>NaN</td>\n",
              "      <td>520367</td>\n",
              "      <td>195595</td>\n",
              "      <td>-0.261719</td>\n",
              "      <td>51.646283</td>\n",
              "      <td>(51.646283, -0.261719)</td>\n",
              "    </tr>\n",
              "    <tr>\n",
              "      <th>660</th>\n",
              "      <td>00044992</td>\n",
              "      <td>1.0</td>\n",
              "      <td>Bells Hill Estate</td>\n",
              "      <td>Housing</td>\n",
              "      <td>Crataegus monogyna</td>\n",
              "      <td>2017-04-28</td>\n",
              "      <td>2020/2021</td>\n",
              "      <td>4.0</td>\n",
              "      <td>4.0</td>\n",
              "      <td>7.0</td>\n",
              "      <td>NaN</td>\n",
              "      <td>NaN</td>\n",
              "      <td>523875</td>\n",
              "      <td>196170</td>\n",
              "      <td>-0.210830</td>\n",
              "      <td>51.650690</td>\n",
              "      <td>(51.65069, -0.21083)</td>\n",
              "    </tr>\n",
              "    <tr>\n",
              "      <th>1526</th>\n",
              "      <td>00044995</td>\n",
              "      <td>1.0</td>\n",
              "      <td>Bells Hill Estate</td>\n",
              "      <td>Housing</td>\n",
              "      <td>Fraxinus excelsior</td>\n",
              "      <td>2017-04-28</td>\n",
              "      <td>2020/2021</td>\n",
              "      <td>18.0</td>\n",
              "      <td>12.0</td>\n",
              "      <td>54.0</td>\n",
              "      <td>NaN</td>\n",
              "      <td>NaN</td>\n",
              "      <td>523936</td>\n",
              "      <td>196127</td>\n",
              "      <td>-0.209969</td>\n",
              "      <td>51.650287</td>\n",
              "      <td>(51.650287, -0.209969)</td>\n",
              "    </tr>\n",
              "    <tr>\n",
              "      <th>5392</th>\n",
              "      <td>00044990</td>\n",
              "      <td>1.0</td>\n",
              "      <td>Bells Hill Estate</td>\n",
              "      <td>Housing</td>\n",
              "      <td>Aesculus hippocastanum</td>\n",
              "      <td>2017-04-28</td>\n",
              "      <td>2020/2021</td>\n",
              "      <td>22.0</td>\n",
              "      <td>12.0</td>\n",
              "      <td>67.0</td>\n",
              "      <td>NaN</td>\n",
              "      <td>NaN</td>\n",
              "      <td>523889</td>\n",
              "      <td>196188</td>\n",
              "      <td>-0.210618</td>\n",
              "      <td>51.650843</td>\n",
              "      <td>(51.650843, -0.210618)</td>\n",
              "    </tr>\n",
              "    <tr>\n",
              "      <th>18069</th>\n",
              "      <td>00044993</td>\n",
              "      <td>1.0</td>\n",
              "      <td>Bells Hill Estate</td>\n",
              "      <td>Housing</td>\n",
              "      <td>Tilia cordata</td>\n",
              "      <td>2017-04-28</td>\n",
              "      <td>2020/2021</td>\n",
              "      <td>23.0</td>\n",
              "      <td>14.0</td>\n",
              "      <td>89.0</td>\n",
              "      <td>NaN</td>\n",
              "      <td>NaN</td>\n",
              "      <td>523867</td>\n",
              "      <td>196159</td>\n",
              "      <td>-0.210957</td>\n",
              "      <td>51.650590</td>\n",
              "      <td>(51.65059, -0.210957)</td>\n",
              "    </tr>\n",
              "    <tr>\n",
              "      <th>18078</th>\n",
              "      <td>00044601</td>\n",
              "      <td>1.0</td>\n",
              "      <td>Bells Hill Estate</td>\n",
              "      <td>Housing</td>\n",
              "      <td>Tilia cordata</td>\n",
              "      <td>2017-04-28</td>\n",
              "      <td>2020/2021</td>\n",
              "      <td>21.0</td>\n",
              "      <td>12.0</td>\n",
              "      <td>56.0</td>\n",
              "      <td>NaN</td>\n",
              "      <td>NaN</td>\n",
              "      <td>523905</td>\n",
              "      <td>196174</td>\n",
              "      <td>-0.210394</td>\n",
              "      <td>51.650719</td>\n",
              "      <td>(51.650719, -0.210394)</td>\n",
              "    </tr>\n",
              "    <tr>\n",
              "      <th>19532</th>\n",
              "      <td>00044988</td>\n",
              "      <td>1.0</td>\n",
              "      <td>Bells Hill Estate</td>\n",
              "      <td>Housing</td>\n",
              "      <td>Tilia cordata</td>\n",
              "      <td>2017-04-28</td>\n",
              "      <td>2020/2021</td>\n",
              "      <td>21.0</td>\n",
              "      <td>12.0</td>\n",
              "      <td>65.0</td>\n",
              "      <td>NaN</td>\n",
              "      <td>NaN</td>\n",
              "      <td>523909</td>\n",
              "      <td>196169</td>\n",
              "      <td>-0.210340</td>\n",
              "      <td>51.650676</td>\n",
              "      <td>(51.650676, -0.21034)</td>\n",
              "    </tr>\n",
              "  </tbody>\n",
              "</table>\n",
              "</div>\n",
              "      <button class=\"colab-df-convert\" onclick=\"convertToInteractive('df-4304460e-58e5-4b22-8754-339e1a999e7e')\"\n",
              "              title=\"Convert this dataframe to an interactive table.\"\n",
              "              style=\"display:none;\">\n",
              "        \n",
              "  <svg xmlns=\"http://www.w3.org/2000/svg\" height=\"24px\"viewBox=\"0 0 24 24\"\n",
              "       width=\"24px\">\n",
              "    <path d=\"M0 0h24v24H0V0z\" fill=\"none\"/>\n",
              "    <path d=\"M18.56 5.44l.94 2.06.94-2.06 2.06-.94-2.06-.94-.94-2.06-.94 2.06-2.06.94zm-11 1L8.5 8.5l.94-2.06 2.06-.94-2.06-.94L8.5 2.5l-.94 2.06-2.06.94zm10 10l.94 2.06.94-2.06 2.06-.94-2.06-.94-.94-2.06-.94 2.06-2.06.94z\"/><path d=\"M17.41 7.96l-1.37-1.37c-.4-.4-.92-.59-1.43-.59-.52 0-1.04.2-1.43.59L10.3 9.45l-7.72 7.72c-.78.78-.78 2.05 0 2.83L4 21.41c.39.39.9.59 1.41.59.51 0 1.02-.2 1.41-.59l7.78-7.78 2.81-2.81c.8-.78.8-2.07 0-2.86zM5.41 20L4 18.59l7.72-7.72 1.47 1.35L5.41 20z\"/>\n",
              "  </svg>\n",
              "      </button>\n",
              "      \n",
              "  <style>\n",
              "    .colab-df-container {\n",
              "      display:flex;\n",
              "      flex-wrap:wrap;\n",
              "      gap: 12px;\n",
              "    }\n",
              "\n",
              "    .colab-df-convert {\n",
              "      background-color: #E8F0FE;\n",
              "      border: none;\n",
              "      border-radius: 50%;\n",
              "      cursor: pointer;\n",
              "      display: none;\n",
              "      fill: #1967D2;\n",
              "      height: 32px;\n",
              "      padding: 0 0 0 0;\n",
              "      width: 32px;\n",
              "    }\n",
              "\n",
              "    .colab-df-convert:hover {\n",
              "      background-color: #E2EBFA;\n",
              "      box-shadow: 0px 1px 2px rgba(60, 64, 67, 0.3), 0px 1px 3px 1px rgba(60, 64, 67, 0.15);\n",
              "      fill: #174EA6;\n",
              "    }\n",
              "\n",
              "    [theme=dark] .colab-df-convert {\n",
              "      background-color: #3B4455;\n",
              "      fill: #D2E3FC;\n",
              "    }\n",
              "\n",
              "    [theme=dark] .colab-df-convert:hover {\n",
              "      background-color: #434B5C;\n",
              "      box-shadow: 0px 1px 3px 1px rgba(0, 0, 0, 0.15);\n",
              "      filter: drop-shadow(0px 1px 2px rgba(0, 0, 0, 0.3));\n",
              "      fill: #FFFFFF;\n",
              "    }\n",
              "  </style>\n",
              "\n",
              "      <script>\n",
              "        const buttonEl =\n",
              "          document.querySelector('#df-4304460e-58e5-4b22-8754-339e1a999e7e button.colab-df-convert');\n",
              "        buttonEl.style.display =\n",
              "          google.colab.kernel.accessAllowed ? 'block' : 'none';\n",
              "\n",
              "        async function convertToInteractive(key) {\n",
              "          const element = document.querySelector('#df-4304460e-58e5-4b22-8754-339e1a999e7e');\n",
              "          const dataTable =\n",
              "            await google.colab.kernel.invokeFunction('convertToInteractive',\n",
              "                                                     [key], {});\n",
              "          if (!dataTable) return;\n",
              "\n",
              "          const docLinkHtml = 'Like what you see? Visit the ' +\n",
              "            '<a target=\"_blank\" href=https://colab.research.google.com/notebooks/data_table.ipynb>data table notebook</a>'\n",
              "            + ' to learn more about interactive tables.';\n",
              "          element.innerHTML = '';\n",
              "          dataTable['output_type'] = 'display_data';\n",
              "          await google.colab.output.renderOutput(dataTable, element);\n",
              "          const docLink = document.createElement('div');\n",
              "          docLink.innerHTML = docLinkHtml;\n",
              "          element.appendChild(docLink);\n",
              "        }\n",
              "      </script>\n",
              "    </div>\n",
              "  </div>\n",
              "  "
            ]
          },
          "metadata": {},
          "execution_count": 13
        }
      ],
      "source": [
        "geotrees[mask]"
      ]
    },
    {
      "cell_type": "code",
      "source": [
        "geotrees[mask].shape"
      ],
      "metadata": {
        "colab": {
          "base_uri": "https://localhost:8080/"
        },
        "id": "w22YfOwpR7fT",
        "outputId": "daf0e3da-2090-4805-93ba-3d129638bc83"
      },
      "id": "w22YfOwpR7fT",
      "execution_count": null,
      "outputs": [
        {
          "output_type": "execute_result",
          "data": {
            "text/plain": [
              "(8, 17)"
            ]
          },
          "metadata": {},
          "execution_count": 14
        }
      ]
    },
    {
      "cell_type": "markdown",
      "id": "ee3f0cff-17bb-4f75-a92c-876c56e230c5",
      "metadata": {
        "id": "ee3f0cff-17bb-4f75-a92c-876c56e230c5"
      },
      "source": [
        "<hr/>\n",
        "\n",
        "### Observations\n"
      ]
    },
    {
      "cell_type": "markdown",
      "id": "3f5a1605-de7e-4cb7-8190-c643122c104e",
      "metadata": {
        "id": "3f5a1605-de7e-4cb7-8190-c643122c104e"
      },
      "source": [
        "Dataset included 8 locations outside of Camden."
      ]
    },
    {
      "cell_type": "markdown",
      "id": "0680cf79-2a3a-4e9c-8332-609680b69040",
      "metadata": {
        "id": "0680cf79-2a3a-4e9c-8332-609680b69040"
      },
      "source": [
        "<hr/>"
      ]
    },
    {
      "cell_type": "markdown",
      "id": "2c6f941f-e14a-4a51-aa29-66010910009a",
      "metadata": {
        "tags": [],
        "id": "2c6f941f-e14a-4a51-aa29-66010910009a"
      },
      "source": [
        "## Identifying Unmatched Data"
      ]
    },
    {
      "cell_type": "markdown",
      "id": "1f5064f7-e956-4420-b80c-f14c2d2d3427",
      "metadata": {
        "id": "1f5064f7-e956-4420-b80c-f14c2d2d3427"
      },
      "source": [
        "### Finding Trees that Don't have Matching Environmental Data"
      ]
    },
    {
      "cell_type": "code",
      "execution_count": null,
      "id": "ec5e5506-1c6f-4f33-92d1-420ea57b6da5",
      "metadata": {
        "id": "ec5e5506-1c6f-4f33-92d1-420ea57b6da5",
        "colab": {
          "base_uri": "https://localhost:8080/",
          "height": 1000
        },
        "outputId": "af95c721-1a4b-447e-c8fb-51fea902dc6e"
      },
      "outputs": [
        {
          "output_type": "execute_result",
          "data": {
            "text/plain": [
              "      Identifier  Number Of Trees                                Site Name  \\\n",
              "66      00059712              1.0                       Maiden Lane Estate   \n",
              "125     00048578              1.0                              BUCK STREET   \n",
              "1148    00006577              1.0                              FAWLEY ROAD   \n",
              "1998    00007366              1.0        FORTUNE GREEN RD, OPEN SPACE (LS)   \n",
              "2246    00014633              1.0                          Mortimer Estate   \n",
              "5478    00060382              1.0                       SHAFTESBURY AVENUE   \n",
              "10637   00002874              1.0                            BURGHLEY ROAD   \n",
              "10977   00055227              1.0                            BURGHLEY ROAD   \n",
              "11795   00016702              1.0            RED LION SQUARE, GARDENS (LS)   \n",
              "11856   00054744              1.0          Carrol & Sanderson Close Estate   \n",
              "12056   00003694              1.0              Estate 1-161 Burnham (cons)   \n",
              "12936   00054558              1.0        ST. MARY'S KILBURN C OF E JMI (E)   \n",
              "13248   00059317              1.0                ADELAIDE ROAD NATURE AREA   \n",
              "16815   00055884              1.0                         HONEYBOURNE ROAD   \n",
              "18690   00059963              1.0                   Ampthill Square Estate   \n",
              "18958   00059246              1.0  Belsize nature reserve, Russell Nursery   \n",
              "19606   00005127              1.0       CUMBERLAND MARKET, OPEN SPACE (LS)   \n",
              "20169   00017912              1.0                            SHERRIFF ROAD   \n",
              "20226   00047080              1.0                   Ampthill Square Estate   \n",
              "21287   00029059              1.0         Estate 1-20 Marrick House (cons)   \n",
              "22470   00012126              1.0                       KINGS COLLEGE ROAD   \n",
              "23301   00010784              1.0                       Holly Lodge Estate   \n",
              "23315   00056485              1.0                       WATERLOW PARK (LS)   \n",
              "\n",
              "      Contract Area                                    Scientific Name  \\\n",
              "66          Housing                                   Acer saccharinum   \n",
              "125        Highways                                   Sorbus aucuparia   \n",
              "1148       Highways                                     Tilia euchlora   \n",
              "1998          Parks                                    Ilex aquifolium   \n",
              "2246        Housing                                     Tilia europaea   \n",
              "5478       Highways                                    Vacant Tree Pit   \n",
              "10637      Highways                               Platanus x hispanica   \n",
              "10977      Highways                              Amelanchier lamarckii   \n",
              "11795         Parks                               Platanus x hispanica   \n",
              "11856       Housing                        Prunus unidentified species   \n",
              "12056       Housing                                   Acer platanoides   \n",
              "12936     Education                              Amelanchier lamarckii   \n",
              "13248         Parks                                         Stump Only   \n",
              "16815      Highways                     Acer pseudoplatanus 'Brilliant   \n",
              "18690       Housing  Vacant Tree Pit (planned: Parrotia persica van...   \n",
              "18958         Parks                                      Ulmus procera   \n",
              "19606         Parks                               Platanus x hispanica   \n",
              "20169      Highways                                 Tilia platyphyllos   \n",
              "20226       Housing                         Malus unidentified species   \n",
              "21287       Housing                                     Sambucus nigra   \n",
              "22470      Highways                                 Fraxinus excelsior   \n",
              "23301       Housing                                    Ilex aquifolium   \n",
              "23315         Parks                                 Fraxinus excelsior   \n",
              "\n",
              "      Inspection Date Inspection Due Date  Height In Metres  Spread In Metres  \\\n",
              "66         2019-05-28           2022/2023              12.0               5.0   \n",
              "125        2017-07-19           2020/2021               6.0               2.0   \n",
              "1148       2018-09-28           2021/2022              15.0               6.0   \n",
              "1998       2017-03-21           2019/2020               9.0               6.0   \n",
              "2246       2019-01-29           2021/2022              16.0              12.0   \n",
              "5478              NaT                 NaN               NaN               NaN   \n",
              "10637      2017-08-14           2020/2021              20.0               8.0   \n",
              "10977      2017-08-14           2020/2021               3.0               2.0   \n",
              "11795      2018-06-04           2021/2022              30.0              23.0   \n",
              "11856      2017-01-06           2020/2021               3.0               3.0   \n",
              "12056      2018-04-17           2021/2022               3.0               1.0   \n",
              "12936      2019-10-07           2022/2023               4.0               2.0   \n",
              "13248      2019-01-31           2021/2022               0.0               5.0   \n",
              "16815      2018-05-10           2021/2022               2.0               1.0   \n",
              "18690      2019-01-08           2022/2023               NaN               NaN   \n",
              "18958      2019-01-29           2021/2022               5.0               4.0   \n",
              "19606      2018-03-13           2020/2021              10.0               8.0   \n",
              "20169      2018-10-09           2021/2022               9.0               5.0   \n",
              "20226      2019-01-08           2022/2023               5.0               3.0   \n",
              "21287      2018-06-19           2021/2022               6.0               6.0   \n",
              "22470      2018-07-13           2021/2022              18.0              12.0   \n",
              "23301      2017-06-14           2020/2021               7.0               5.0   \n",
              "23315      2019-05-24           2022/2023              12.0               5.0   \n",
              "\n",
              "       Diameter In Centimetres At Breast Height  Ward Code  \\\n",
              "66                                         20.0  E05000131   \n",
              "125                                        10.0  E05000130   \n",
              "1148                                       38.0  E05000145   \n",
              "1998                                       44.0  E05000132   \n",
              "2246                                       47.0  E05000140   \n",
              "5478                                        NaN  E05000138   \n",
              "10637                                      52.0  E05000139   \n",
              "10977                                       5.0  E05000139   \n",
              "11795                                     165.0  E05000138   \n",
              "11856                                      13.0  E05000137   \n",
              "12056                                       6.0  E05000128   \n",
              "12936                                       8.0  E05000140   \n",
              "13248                                      50.0  E05000128   \n",
              "16815                                       4.0  E05000145   \n",
              "18690                                       NaN  E05000143   \n",
              "18958                                      11.0  E05000134   \n",
              "19606                                      38.0  E05000142   \n",
              "20169                                      42.0  E05000145   \n",
              "20226                                      16.0  E05000143   \n",
              "21287                                      39.0  E05000140   \n",
              "22470                                      48.0  E05000128   \n",
              "23301                                      20.0  E05000137   \n",
              "23315                                      16.0  E05000137   \n",
              "\n",
              "                            Ward Name  Easting  Northing  Longitude  \\\n",
              "66                         Cantelowes   529795    184142  -0.129750   \n",
              "125    Camden Town with Primrose Hill   528900    184020  -0.142698   \n",
              "1148                   West Hampstead   525572    185015  -0.190313   \n",
              "1998                    Fortune Green   525074    185541  -0.197304   \n",
              "2246                          Kilburn   525763    183613  -0.188060   \n",
              "5478        Holborn and Covent Garden   530073    181247  -0.126813   \n",
              "10637                    Kentish Town   529119    185889  -0.138863   \n",
              "10977                    Kentish Town   528920    185694  -0.141802   \n",
              "11795       Holborn and Covent Garden   530572    181701  -0.119460   \n",
              "11856                        Highgate   528661    185556  -0.145585   \n",
              "12056                         Belsize   527015    184315  -0.169763   \n",
              "12936                         Kilburn   525443    183919  -0.192552   \n",
              "13248                         Belsize   527577    184297  -0.161664   \n",
              "16815                  West Hampstead   525593    185050  -0.189987   \n",
              "18690      St Pancras and Somers Town   529216    183103  -0.138479   \n",
              "18958                      Gospel Oak   527523    185233  -0.162101   \n",
              "19606                   Regent's Park   528913    182814  -0.142959   \n",
              "20169                  West Hampstead   525265    184543  -0.194897   \n",
              "20226      St Pancras and Somers Town   529279    183106  -0.137573   \n",
              "21287                         Kilburn   525832    183583  -0.187075   \n",
              "22470                         Belsize   526999    184416  -0.169957   \n",
              "23301                        Highgate   528472    186812  -0.147845   \n",
              "23315                        Highgate   528730    187264  -0.143955   \n",
              "\n",
              "        Latitude                Location  \n",
              "66     51.541266   (51.541266, -0.12975)  \n",
              "125    51.540371  (51.540371, -0.142698)  \n",
              "1148   51.550062  (51.550062, -0.190313)  \n",
              "1998   51.554901  (51.554901, -0.197304)  \n",
              "2246   51.537424   (51.537424, -0.18806)  \n",
              "5478   51.515186  (51.515186, -0.126813)  \n",
              "10637  51.557120   (51.55712, -0.138863)  \n",
              "10977  51.555408  (51.555408, -0.141802)  \n",
              "11795  51.519146   (51.519146, -0.11946)  \n",
              "11856  51.554226  (51.554226, -0.145585)  \n",
              "12056  51.543451  (51.543451, -0.169763)  \n",
              "12936  51.540245  (51.540245, -0.192552)  \n",
              "13248  51.543163  (51.543163, -0.161664)  \n",
              "16815  51.550377  (51.550377, -0.189987)  \n",
              "18690  51.532058  (51.532058, -0.138479)  \n",
              "18958  51.551587  (51.551587, -0.162101)  \n",
              "19606  51.529527  (51.529527, -0.142959)  \n",
              "20169  51.545886  (51.545886, -0.194897)  \n",
              "20226  51.532073  (51.532073, -0.137573)  \n",
              "21287  51.537139  (51.537139, -0.187075)  \n",
              "22470  51.544363  (51.544363, -0.169957)  \n",
              "23301  51.565562  (51.565562, -0.147845)  \n",
              "23315  51.569567  (51.569567, -0.143955)  "
            ],
            "text/html": [
              "\n",
              "  <div id=\"df-7a475ae4-8bb4-4158-81e6-0c5424f70e35\">\n",
              "    <div class=\"colab-df-container\">\n",
              "      <div>\n",
              "<style scoped>\n",
              "    .dataframe tbody tr th:only-of-type {\n",
              "        vertical-align: middle;\n",
              "    }\n",
              "\n",
              "    .dataframe tbody tr th {\n",
              "        vertical-align: top;\n",
              "    }\n",
              "\n",
              "    .dataframe thead th {\n",
              "        text-align: right;\n",
              "    }\n",
              "</style>\n",
              "<table border=\"1\" class=\"dataframe\">\n",
              "  <thead>\n",
              "    <tr style=\"text-align: right;\">\n",
              "      <th></th>\n",
              "      <th>Identifier</th>\n",
              "      <th>Number Of Trees</th>\n",
              "      <th>Site Name</th>\n",
              "      <th>Contract Area</th>\n",
              "      <th>Scientific Name</th>\n",
              "      <th>Inspection Date</th>\n",
              "      <th>Inspection Due Date</th>\n",
              "      <th>Height In Metres</th>\n",
              "      <th>Spread In Metres</th>\n",
              "      <th>Diameter In Centimetres At Breast Height</th>\n",
              "      <th>Ward Code</th>\n",
              "      <th>Ward Name</th>\n",
              "      <th>Easting</th>\n",
              "      <th>Northing</th>\n",
              "      <th>Longitude</th>\n",
              "      <th>Latitude</th>\n",
              "      <th>Location</th>\n",
              "    </tr>\n",
              "  </thead>\n",
              "  <tbody>\n",
              "    <tr>\n",
              "      <th>66</th>\n",
              "      <td>00059712</td>\n",
              "      <td>1.0</td>\n",
              "      <td>Maiden Lane Estate</td>\n",
              "      <td>Housing</td>\n",
              "      <td>Acer saccharinum</td>\n",
              "      <td>2019-05-28</td>\n",
              "      <td>2022/2023</td>\n",
              "      <td>12.0</td>\n",
              "      <td>5.0</td>\n",
              "      <td>20.0</td>\n",
              "      <td>E05000131</td>\n",
              "      <td>Cantelowes</td>\n",
              "      <td>529795</td>\n",
              "      <td>184142</td>\n",
              "      <td>-0.129750</td>\n",
              "      <td>51.541266</td>\n",
              "      <td>(51.541266, -0.12975)</td>\n",
              "    </tr>\n",
              "    <tr>\n",
              "      <th>125</th>\n",
              "      <td>00048578</td>\n",
              "      <td>1.0</td>\n",
              "      <td>BUCK STREET</td>\n",
              "      <td>Highways</td>\n",
              "      <td>Sorbus aucuparia</td>\n",
              "      <td>2017-07-19</td>\n",
              "      <td>2020/2021</td>\n",
              "      <td>6.0</td>\n",
              "      <td>2.0</td>\n",
              "      <td>10.0</td>\n",
              "      <td>E05000130</td>\n",
              "      <td>Camden Town with Primrose Hill</td>\n",
              "      <td>528900</td>\n",
              "      <td>184020</td>\n",
              "      <td>-0.142698</td>\n",
              "      <td>51.540371</td>\n",
              "      <td>(51.540371, -0.142698)</td>\n",
              "    </tr>\n",
              "    <tr>\n",
              "      <th>1148</th>\n",
              "      <td>00006577</td>\n",
              "      <td>1.0</td>\n",
              "      <td>FAWLEY ROAD</td>\n",
              "      <td>Highways</td>\n",
              "      <td>Tilia euchlora</td>\n",
              "      <td>2018-09-28</td>\n",
              "      <td>2021/2022</td>\n",
              "      <td>15.0</td>\n",
              "      <td>6.0</td>\n",
              "      <td>38.0</td>\n",
              "      <td>E05000145</td>\n",
              "      <td>West Hampstead</td>\n",
              "      <td>525572</td>\n",
              "      <td>185015</td>\n",
              "      <td>-0.190313</td>\n",
              "      <td>51.550062</td>\n",
              "      <td>(51.550062, -0.190313)</td>\n",
              "    </tr>\n",
              "    <tr>\n",
              "      <th>1998</th>\n",
              "      <td>00007366</td>\n",
              "      <td>1.0</td>\n",
              "      <td>FORTUNE GREEN RD, OPEN SPACE (LS)</td>\n",
              "      <td>Parks</td>\n",
              "      <td>Ilex aquifolium</td>\n",
              "      <td>2017-03-21</td>\n",
              "      <td>2019/2020</td>\n",
              "      <td>9.0</td>\n",
              "      <td>6.0</td>\n",
              "      <td>44.0</td>\n",
              "      <td>E05000132</td>\n",
              "      <td>Fortune Green</td>\n",
              "      <td>525074</td>\n",
              "      <td>185541</td>\n",
              "      <td>-0.197304</td>\n",
              "      <td>51.554901</td>\n",
              "      <td>(51.554901, -0.197304)</td>\n",
              "    </tr>\n",
              "    <tr>\n",
              "      <th>2246</th>\n",
              "      <td>00014633</td>\n",
              "      <td>1.0</td>\n",
              "      <td>Mortimer Estate</td>\n",
              "      <td>Housing</td>\n",
              "      <td>Tilia europaea</td>\n",
              "      <td>2019-01-29</td>\n",
              "      <td>2021/2022</td>\n",
              "      <td>16.0</td>\n",
              "      <td>12.0</td>\n",
              "      <td>47.0</td>\n",
              "      <td>E05000140</td>\n",
              "      <td>Kilburn</td>\n",
              "      <td>525763</td>\n",
              "      <td>183613</td>\n",
              "      <td>-0.188060</td>\n",
              "      <td>51.537424</td>\n",
              "      <td>(51.537424, -0.18806)</td>\n",
              "    </tr>\n",
              "    <tr>\n",
              "      <th>5478</th>\n",
              "      <td>00060382</td>\n",
              "      <td>1.0</td>\n",
              "      <td>SHAFTESBURY AVENUE</td>\n",
              "      <td>Highways</td>\n",
              "      <td>Vacant Tree Pit</td>\n",
              "      <td>NaT</td>\n",
              "      <td>NaN</td>\n",
              "      <td>NaN</td>\n",
              "      <td>NaN</td>\n",
              "      <td>NaN</td>\n",
              "      <td>E05000138</td>\n",
              "      <td>Holborn and Covent Garden</td>\n",
              "      <td>530073</td>\n",
              "      <td>181247</td>\n",
              "      <td>-0.126813</td>\n",
              "      <td>51.515186</td>\n",
              "      <td>(51.515186, -0.126813)</td>\n",
              "    </tr>\n",
              "    <tr>\n",
              "      <th>10637</th>\n",
              "      <td>00002874</td>\n",
              "      <td>1.0</td>\n",
              "      <td>BURGHLEY ROAD</td>\n",
              "      <td>Highways</td>\n",
              "      <td>Platanus x hispanica</td>\n",
              "      <td>2017-08-14</td>\n",
              "      <td>2020/2021</td>\n",
              "      <td>20.0</td>\n",
              "      <td>8.0</td>\n",
              "      <td>52.0</td>\n",
              "      <td>E05000139</td>\n",
              "      <td>Kentish Town</td>\n",
              "      <td>529119</td>\n",
              "      <td>185889</td>\n",
              "      <td>-0.138863</td>\n",
              "      <td>51.557120</td>\n",
              "      <td>(51.55712, -0.138863)</td>\n",
              "    </tr>\n",
              "    <tr>\n",
              "      <th>10977</th>\n",
              "      <td>00055227</td>\n",
              "      <td>1.0</td>\n",
              "      <td>BURGHLEY ROAD</td>\n",
              "      <td>Highways</td>\n",
              "      <td>Amelanchier lamarckii</td>\n",
              "      <td>2017-08-14</td>\n",
              "      <td>2020/2021</td>\n",
              "      <td>3.0</td>\n",
              "      <td>2.0</td>\n",
              "      <td>5.0</td>\n",
              "      <td>E05000139</td>\n",
              "      <td>Kentish Town</td>\n",
              "      <td>528920</td>\n",
              "      <td>185694</td>\n",
              "      <td>-0.141802</td>\n",
              "      <td>51.555408</td>\n",
              "      <td>(51.555408, -0.141802)</td>\n",
              "    </tr>\n",
              "    <tr>\n",
              "      <th>11795</th>\n",
              "      <td>00016702</td>\n",
              "      <td>1.0</td>\n",
              "      <td>RED LION SQUARE, GARDENS (LS)</td>\n",
              "      <td>Parks</td>\n",
              "      <td>Platanus x hispanica</td>\n",
              "      <td>2018-06-04</td>\n",
              "      <td>2021/2022</td>\n",
              "      <td>30.0</td>\n",
              "      <td>23.0</td>\n",
              "      <td>165.0</td>\n",
              "      <td>E05000138</td>\n",
              "      <td>Holborn and Covent Garden</td>\n",
              "      <td>530572</td>\n",
              "      <td>181701</td>\n",
              "      <td>-0.119460</td>\n",
              "      <td>51.519146</td>\n",
              "      <td>(51.519146, -0.11946)</td>\n",
              "    </tr>\n",
              "    <tr>\n",
              "      <th>11856</th>\n",
              "      <td>00054744</td>\n",
              "      <td>1.0</td>\n",
              "      <td>Carrol &amp; Sanderson Close Estate</td>\n",
              "      <td>Housing</td>\n",
              "      <td>Prunus unidentified species</td>\n",
              "      <td>2017-01-06</td>\n",
              "      <td>2020/2021</td>\n",
              "      <td>3.0</td>\n",
              "      <td>3.0</td>\n",
              "      <td>13.0</td>\n",
              "      <td>E05000137</td>\n",
              "      <td>Highgate</td>\n",
              "      <td>528661</td>\n",
              "      <td>185556</td>\n",
              "      <td>-0.145585</td>\n",
              "      <td>51.554226</td>\n",
              "      <td>(51.554226, -0.145585)</td>\n",
              "    </tr>\n",
              "    <tr>\n",
              "      <th>12056</th>\n",
              "      <td>00003694</td>\n",
              "      <td>1.0</td>\n",
              "      <td>Estate 1-161 Burnham (cons)</td>\n",
              "      <td>Housing</td>\n",
              "      <td>Acer platanoides</td>\n",
              "      <td>2018-04-17</td>\n",
              "      <td>2021/2022</td>\n",
              "      <td>3.0</td>\n",
              "      <td>1.0</td>\n",
              "      <td>6.0</td>\n",
              "      <td>E05000128</td>\n",
              "      <td>Belsize</td>\n",
              "      <td>527015</td>\n",
              "      <td>184315</td>\n",
              "      <td>-0.169763</td>\n",
              "      <td>51.543451</td>\n",
              "      <td>(51.543451, -0.169763)</td>\n",
              "    </tr>\n",
              "    <tr>\n",
              "      <th>12936</th>\n",
              "      <td>00054558</td>\n",
              "      <td>1.0</td>\n",
              "      <td>ST. MARY'S KILBURN C OF E JMI (E)</td>\n",
              "      <td>Education</td>\n",
              "      <td>Amelanchier lamarckii</td>\n",
              "      <td>2019-10-07</td>\n",
              "      <td>2022/2023</td>\n",
              "      <td>4.0</td>\n",
              "      <td>2.0</td>\n",
              "      <td>8.0</td>\n",
              "      <td>E05000140</td>\n",
              "      <td>Kilburn</td>\n",
              "      <td>525443</td>\n",
              "      <td>183919</td>\n",
              "      <td>-0.192552</td>\n",
              "      <td>51.540245</td>\n",
              "      <td>(51.540245, -0.192552)</td>\n",
              "    </tr>\n",
              "    <tr>\n",
              "      <th>13248</th>\n",
              "      <td>00059317</td>\n",
              "      <td>1.0</td>\n",
              "      <td>ADELAIDE ROAD NATURE AREA</td>\n",
              "      <td>Parks</td>\n",
              "      <td>Stump Only</td>\n",
              "      <td>2019-01-31</td>\n",
              "      <td>2021/2022</td>\n",
              "      <td>0.0</td>\n",
              "      <td>5.0</td>\n",
              "      <td>50.0</td>\n",
              "      <td>E05000128</td>\n",
              "      <td>Belsize</td>\n",
              "      <td>527577</td>\n",
              "      <td>184297</td>\n",
              "      <td>-0.161664</td>\n",
              "      <td>51.543163</td>\n",
              "      <td>(51.543163, -0.161664)</td>\n",
              "    </tr>\n",
              "    <tr>\n",
              "      <th>16815</th>\n",
              "      <td>00055884</td>\n",
              "      <td>1.0</td>\n",
              "      <td>HONEYBOURNE ROAD</td>\n",
              "      <td>Highways</td>\n",
              "      <td>Acer pseudoplatanus 'Brilliant</td>\n",
              "      <td>2018-05-10</td>\n",
              "      <td>2021/2022</td>\n",
              "      <td>2.0</td>\n",
              "      <td>1.0</td>\n",
              "      <td>4.0</td>\n",
              "      <td>E05000145</td>\n",
              "      <td>West Hampstead</td>\n",
              "      <td>525593</td>\n",
              "      <td>185050</td>\n",
              "      <td>-0.189987</td>\n",
              "      <td>51.550377</td>\n",
              "      <td>(51.550377, -0.189987)</td>\n",
              "    </tr>\n",
              "    <tr>\n",
              "      <th>18690</th>\n",
              "      <td>00059963</td>\n",
              "      <td>1.0</td>\n",
              "      <td>Ampthill Square Estate</td>\n",
              "      <td>Housing</td>\n",
              "      <td>Vacant Tree Pit (planned: Parrotia persica van...</td>\n",
              "      <td>2019-01-08</td>\n",
              "      <td>2022/2023</td>\n",
              "      <td>NaN</td>\n",
              "      <td>NaN</td>\n",
              "      <td>NaN</td>\n",
              "      <td>E05000143</td>\n",
              "      <td>St Pancras and Somers Town</td>\n",
              "      <td>529216</td>\n",
              "      <td>183103</td>\n",
              "      <td>-0.138479</td>\n",
              "      <td>51.532058</td>\n",
              "      <td>(51.532058, -0.138479)</td>\n",
              "    </tr>\n",
              "    <tr>\n",
              "      <th>18958</th>\n",
              "      <td>00059246</td>\n",
              "      <td>1.0</td>\n",
              "      <td>Belsize nature reserve, Russell Nursery</td>\n",
              "      <td>Parks</td>\n",
              "      <td>Ulmus procera</td>\n",
              "      <td>2019-01-29</td>\n",
              "      <td>2021/2022</td>\n",
              "      <td>5.0</td>\n",
              "      <td>4.0</td>\n",
              "      <td>11.0</td>\n",
              "      <td>E05000134</td>\n",
              "      <td>Gospel Oak</td>\n",
              "      <td>527523</td>\n",
              "      <td>185233</td>\n",
              "      <td>-0.162101</td>\n",
              "      <td>51.551587</td>\n",
              "      <td>(51.551587, -0.162101)</td>\n",
              "    </tr>\n",
              "    <tr>\n",
              "      <th>19606</th>\n",
              "      <td>00005127</td>\n",
              "      <td>1.0</td>\n",
              "      <td>CUMBERLAND MARKET, OPEN SPACE (LS)</td>\n",
              "      <td>Parks</td>\n",
              "      <td>Platanus x hispanica</td>\n",
              "      <td>2018-03-13</td>\n",
              "      <td>2020/2021</td>\n",
              "      <td>10.0</td>\n",
              "      <td>8.0</td>\n",
              "      <td>38.0</td>\n",
              "      <td>E05000142</td>\n",
              "      <td>Regent's Park</td>\n",
              "      <td>528913</td>\n",
              "      <td>182814</td>\n",
              "      <td>-0.142959</td>\n",
              "      <td>51.529527</td>\n",
              "      <td>(51.529527, -0.142959)</td>\n",
              "    </tr>\n",
              "    <tr>\n",
              "      <th>20169</th>\n",
              "      <td>00017912</td>\n",
              "      <td>1.0</td>\n",
              "      <td>SHERRIFF ROAD</td>\n",
              "      <td>Highways</td>\n",
              "      <td>Tilia platyphyllos</td>\n",
              "      <td>2018-10-09</td>\n",
              "      <td>2021/2022</td>\n",
              "      <td>9.0</td>\n",
              "      <td>5.0</td>\n",
              "      <td>42.0</td>\n",
              "      <td>E05000145</td>\n",
              "      <td>West Hampstead</td>\n",
              "      <td>525265</td>\n",
              "      <td>184543</td>\n",
              "      <td>-0.194897</td>\n",
              "      <td>51.545886</td>\n",
              "      <td>(51.545886, -0.194897)</td>\n",
              "    </tr>\n",
              "    <tr>\n",
              "      <th>20226</th>\n",
              "      <td>00047080</td>\n",
              "      <td>1.0</td>\n",
              "      <td>Ampthill Square Estate</td>\n",
              "      <td>Housing</td>\n",
              "      <td>Malus unidentified species</td>\n",
              "      <td>2019-01-08</td>\n",
              "      <td>2022/2023</td>\n",
              "      <td>5.0</td>\n",
              "      <td>3.0</td>\n",
              "      <td>16.0</td>\n",
              "      <td>E05000143</td>\n",
              "      <td>St Pancras and Somers Town</td>\n",
              "      <td>529279</td>\n",
              "      <td>183106</td>\n",
              "      <td>-0.137573</td>\n",
              "      <td>51.532073</td>\n",
              "      <td>(51.532073, -0.137573)</td>\n",
              "    </tr>\n",
              "    <tr>\n",
              "      <th>21287</th>\n",
              "      <td>00029059</td>\n",
              "      <td>1.0</td>\n",
              "      <td>Estate 1-20 Marrick House (cons)</td>\n",
              "      <td>Housing</td>\n",
              "      <td>Sambucus nigra</td>\n",
              "      <td>2018-06-19</td>\n",
              "      <td>2021/2022</td>\n",
              "      <td>6.0</td>\n",
              "      <td>6.0</td>\n",
              "      <td>39.0</td>\n",
              "      <td>E05000140</td>\n",
              "      <td>Kilburn</td>\n",
              "      <td>525832</td>\n",
              "      <td>183583</td>\n",
              "      <td>-0.187075</td>\n",
              "      <td>51.537139</td>\n",
              "      <td>(51.537139, -0.187075)</td>\n",
              "    </tr>\n",
              "    <tr>\n",
              "      <th>22470</th>\n",
              "      <td>00012126</td>\n",
              "      <td>1.0</td>\n",
              "      <td>KINGS COLLEGE ROAD</td>\n",
              "      <td>Highways</td>\n",
              "      <td>Fraxinus excelsior</td>\n",
              "      <td>2018-07-13</td>\n",
              "      <td>2021/2022</td>\n",
              "      <td>18.0</td>\n",
              "      <td>12.0</td>\n",
              "      <td>48.0</td>\n",
              "      <td>E05000128</td>\n",
              "      <td>Belsize</td>\n",
              "      <td>526999</td>\n",
              "      <td>184416</td>\n",
              "      <td>-0.169957</td>\n",
              "      <td>51.544363</td>\n",
              "      <td>(51.544363, -0.169957)</td>\n",
              "    </tr>\n",
              "    <tr>\n",
              "      <th>23301</th>\n",
              "      <td>00010784</td>\n",
              "      <td>1.0</td>\n",
              "      <td>Holly Lodge Estate</td>\n",
              "      <td>Housing</td>\n",
              "      <td>Ilex aquifolium</td>\n",
              "      <td>2017-06-14</td>\n",
              "      <td>2020/2021</td>\n",
              "      <td>7.0</td>\n",
              "      <td>5.0</td>\n",
              "      <td>20.0</td>\n",
              "      <td>E05000137</td>\n",
              "      <td>Highgate</td>\n",
              "      <td>528472</td>\n",
              "      <td>186812</td>\n",
              "      <td>-0.147845</td>\n",
              "      <td>51.565562</td>\n",
              "      <td>(51.565562, -0.147845)</td>\n",
              "    </tr>\n",
              "    <tr>\n",
              "      <th>23315</th>\n",
              "      <td>00056485</td>\n",
              "      <td>1.0</td>\n",
              "      <td>WATERLOW PARK (LS)</td>\n",
              "      <td>Parks</td>\n",
              "      <td>Fraxinus excelsior</td>\n",
              "      <td>2019-05-24</td>\n",
              "      <td>2022/2023</td>\n",
              "      <td>12.0</td>\n",
              "      <td>5.0</td>\n",
              "      <td>16.0</td>\n",
              "      <td>E05000137</td>\n",
              "      <td>Highgate</td>\n",
              "      <td>528730</td>\n",
              "      <td>187264</td>\n",
              "      <td>-0.143955</td>\n",
              "      <td>51.569567</td>\n",
              "      <td>(51.569567, -0.143955)</td>\n",
              "    </tr>\n",
              "  </tbody>\n",
              "</table>\n",
              "</div>\n",
              "      <button class=\"colab-df-convert\" onclick=\"convertToInteractive('df-7a475ae4-8bb4-4158-81e6-0c5424f70e35')\"\n",
              "              title=\"Convert this dataframe to an interactive table.\"\n",
              "              style=\"display:none;\">\n",
              "        \n",
              "  <svg xmlns=\"http://www.w3.org/2000/svg\" height=\"24px\"viewBox=\"0 0 24 24\"\n",
              "       width=\"24px\">\n",
              "    <path d=\"M0 0h24v24H0V0z\" fill=\"none\"/>\n",
              "    <path d=\"M18.56 5.44l.94 2.06.94-2.06 2.06-.94-2.06-.94-.94-2.06-.94 2.06-2.06.94zm-11 1L8.5 8.5l.94-2.06 2.06-.94-2.06-.94L8.5 2.5l-.94 2.06-2.06.94zm10 10l.94 2.06.94-2.06 2.06-.94-2.06-.94-.94-2.06-.94 2.06-2.06.94z\"/><path d=\"M17.41 7.96l-1.37-1.37c-.4-.4-.92-.59-1.43-.59-.52 0-1.04.2-1.43.59L10.3 9.45l-7.72 7.72c-.78.78-.78 2.05 0 2.83L4 21.41c.39.39.9.59 1.41.59.51 0 1.02-.2 1.41-.59l7.78-7.78 2.81-2.81c.8-.78.8-2.07 0-2.86zM5.41 20L4 18.59l7.72-7.72 1.47 1.35L5.41 20z\"/>\n",
              "  </svg>\n",
              "      </button>\n",
              "      \n",
              "  <style>\n",
              "    .colab-df-container {\n",
              "      display:flex;\n",
              "      flex-wrap:wrap;\n",
              "      gap: 12px;\n",
              "    }\n",
              "\n",
              "    .colab-df-convert {\n",
              "      background-color: #E8F0FE;\n",
              "      border: none;\n",
              "      border-radius: 50%;\n",
              "      cursor: pointer;\n",
              "      display: none;\n",
              "      fill: #1967D2;\n",
              "      height: 32px;\n",
              "      padding: 0 0 0 0;\n",
              "      width: 32px;\n",
              "    }\n",
              "\n",
              "    .colab-df-convert:hover {\n",
              "      background-color: #E2EBFA;\n",
              "      box-shadow: 0px 1px 2px rgba(60, 64, 67, 0.3), 0px 1px 3px 1px rgba(60, 64, 67, 0.15);\n",
              "      fill: #174EA6;\n",
              "    }\n",
              "\n",
              "    [theme=dark] .colab-df-convert {\n",
              "      background-color: #3B4455;\n",
              "      fill: #D2E3FC;\n",
              "    }\n",
              "\n",
              "    [theme=dark] .colab-df-convert:hover {\n",
              "      background-color: #434B5C;\n",
              "      box-shadow: 0px 1px 3px 1px rgba(0, 0, 0, 0.15);\n",
              "      filter: drop-shadow(0px 1px 2px rgba(0, 0, 0, 0.3));\n",
              "      fill: #FFFFFF;\n",
              "    }\n",
              "  </style>\n",
              "\n",
              "      <script>\n",
              "        const buttonEl =\n",
              "          document.querySelector('#df-7a475ae4-8bb4-4158-81e6-0c5424f70e35 button.colab-df-convert');\n",
              "        buttonEl.style.display =\n",
              "          google.colab.kernel.accessAllowed ? 'block' : 'none';\n",
              "\n",
              "        async function convertToInteractive(key) {\n",
              "          const element = document.querySelector('#df-7a475ae4-8bb4-4158-81e6-0c5424f70e35');\n",
              "          const dataTable =\n",
              "            await google.colab.kernel.invokeFunction('convertToInteractive',\n",
              "                                                     [key], {});\n",
              "          if (!dataTable) return;\n",
              "\n",
              "          const docLinkHtml = 'Like what you see? Visit the ' +\n",
              "            '<a target=\"_blank\" href=https://colab.research.google.com/notebooks/data_table.ipynb>data table notebook</a>'\n",
              "            + ' to learn more about interactive tables.';\n",
              "          element.innerHTML = '';\n",
              "          dataTable['output_type'] = 'display_data';\n",
              "          await google.colab.output.renderOutput(dataTable, element);\n",
              "          const docLink = document.createElement('div');\n",
              "          docLink.innerHTML = docLinkHtml;\n",
              "          element.appendChild(docLink);\n",
              "        }\n",
              "      </script>\n",
              "    </div>\n",
              "  </div>\n",
              "  "
            ]
          },
          "metadata": {},
          "execution_count": 25
        }
      ],
      "source": [
        "mask = ~df3['Identifier'].isin(df2['Identifier'])\n",
        "df3[mask]"
      ]
    },
    {
      "cell_type": "code",
      "execution_count": null,
      "id": "36cabc0b-2d67-4a8d-8d85-6d3d3b40acfb",
      "metadata": {
        "id": "36cabc0b-2d67-4a8d-8d85-6d3d3b40acfb",
        "colab": {
          "base_uri": "https://localhost:8080/"
        },
        "outputId": "3e51637b-effe-427b-bc7d-7bfd14de4d7c"
      },
      "outputs": [
        {
          "output_type": "execute_result",
          "data": {
            "text/plain": [
              "(23, 17)"
            ]
          },
          "metadata": {},
          "execution_count": 27
        }
      ],
      "source": [
        "df3[mask].shape"
      ]
    },
    {
      "cell_type": "markdown",
      "id": "163e0301-fae2-41cc-a7a7-11a31b9e0499",
      "metadata": {
        "id": "163e0301-fae2-41cc-a7a7-11a31b9e0499"
      },
      "source": [
        "### Finding Environmental Data that Doesn't have Matching Tree Data"
      ]
    },
    {
      "cell_type": "code",
      "execution_count": null,
      "id": "17727576-c7c3-487a-87d1-d27d326f661c",
      "metadata": {
        "id": "17727576-c7c3-487a-87d1-d27d326f661c",
        "colab": {
          "base_uri": "https://localhost:8080/",
          "height": 110
        },
        "outputId": "24d1b3de-5559-4af2-dd85-447718559310"
      },
      "outputs": [
        {
          "output_type": "execute_result",
          "data": {
            "text/plain": [
              "Empty DataFrame\n",
              "Columns: [Identifier, Maturity, Physiological Condition, Tree Set To Be Removed, Removal Reason, Capital Asset Value For Amenity Trees, Carbon Storage In Kilograms, Gross Carbon Sequestration Per Year In Kilograms, Pollution Removal Per Year In Grams]\n",
              "Index: []"
            ],
            "text/html": [
              "\n",
              "  <div id=\"df-c9983500-0454-4f43-b891-5e184d481d09\">\n",
              "    <div class=\"colab-df-container\">\n",
              "      <div>\n",
              "<style scoped>\n",
              "    .dataframe tbody tr th:only-of-type {\n",
              "        vertical-align: middle;\n",
              "    }\n",
              "\n",
              "    .dataframe tbody tr th {\n",
              "        vertical-align: top;\n",
              "    }\n",
              "\n",
              "    .dataframe thead th {\n",
              "        text-align: right;\n",
              "    }\n",
              "</style>\n",
              "<table border=\"1\" class=\"dataframe\">\n",
              "  <thead>\n",
              "    <tr style=\"text-align: right;\">\n",
              "      <th></th>\n",
              "      <th>Identifier</th>\n",
              "      <th>Maturity</th>\n",
              "      <th>Physiological Condition</th>\n",
              "      <th>Tree Set To Be Removed</th>\n",
              "      <th>Removal Reason</th>\n",
              "      <th>Capital Asset Value For Amenity Trees</th>\n",
              "      <th>Carbon Storage In Kilograms</th>\n",
              "      <th>Gross Carbon Sequestration Per Year In Kilograms</th>\n",
              "      <th>Pollution Removal Per Year In Grams</th>\n",
              "    </tr>\n",
              "  </thead>\n",
              "  <tbody>\n",
              "  </tbody>\n",
              "</table>\n",
              "</div>\n",
              "      <button class=\"colab-df-convert\" onclick=\"convertToInteractive('df-c9983500-0454-4f43-b891-5e184d481d09')\"\n",
              "              title=\"Convert this dataframe to an interactive table.\"\n",
              "              style=\"display:none;\">\n",
              "        \n",
              "  <svg xmlns=\"http://www.w3.org/2000/svg\" height=\"24px\"viewBox=\"0 0 24 24\"\n",
              "       width=\"24px\">\n",
              "    <path d=\"M0 0h24v24H0V0z\" fill=\"none\"/>\n",
              "    <path d=\"M18.56 5.44l.94 2.06.94-2.06 2.06-.94-2.06-.94-.94-2.06-.94 2.06-2.06.94zm-11 1L8.5 8.5l.94-2.06 2.06-.94-2.06-.94L8.5 2.5l-.94 2.06-2.06.94zm10 10l.94 2.06.94-2.06 2.06-.94-2.06-.94-.94-2.06-.94 2.06-2.06.94z\"/><path d=\"M17.41 7.96l-1.37-1.37c-.4-.4-.92-.59-1.43-.59-.52 0-1.04.2-1.43.59L10.3 9.45l-7.72 7.72c-.78.78-.78 2.05 0 2.83L4 21.41c.39.39.9.59 1.41.59.51 0 1.02-.2 1.41-.59l7.78-7.78 2.81-2.81c.8-.78.8-2.07 0-2.86zM5.41 20L4 18.59l7.72-7.72 1.47 1.35L5.41 20z\"/>\n",
              "  </svg>\n",
              "      </button>\n",
              "      \n",
              "  <style>\n",
              "    .colab-df-container {\n",
              "      display:flex;\n",
              "      flex-wrap:wrap;\n",
              "      gap: 12px;\n",
              "    }\n",
              "\n",
              "    .colab-df-convert {\n",
              "      background-color: #E8F0FE;\n",
              "      border: none;\n",
              "      border-radius: 50%;\n",
              "      cursor: pointer;\n",
              "      display: none;\n",
              "      fill: #1967D2;\n",
              "      height: 32px;\n",
              "      padding: 0 0 0 0;\n",
              "      width: 32px;\n",
              "    }\n",
              "\n",
              "    .colab-df-convert:hover {\n",
              "      background-color: #E2EBFA;\n",
              "      box-shadow: 0px 1px 2px rgba(60, 64, 67, 0.3), 0px 1px 3px 1px rgba(60, 64, 67, 0.15);\n",
              "      fill: #174EA6;\n",
              "    }\n",
              "\n",
              "    [theme=dark] .colab-df-convert {\n",
              "      background-color: #3B4455;\n",
              "      fill: #D2E3FC;\n",
              "    }\n",
              "\n",
              "    [theme=dark] .colab-df-convert:hover {\n",
              "      background-color: #434B5C;\n",
              "      box-shadow: 0px 1px 3px 1px rgba(0, 0, 0, 0.15);\n",
              "      filter: drop-shadow(0px 1px 2px rgba(0, 0, 0, 0.3));\n",
              "      fill: #FFFFFF;\n",
              "    }\n",
              "  </style>\n",
              "\n",
              "      <script>\n",
              "        const buttonEl =\n",
              "          document.querySelector('#df-c9983500-0454-4f43-b891-5e184d481d09 button.colab-df-convert');\n",
              "        buttonEl.style.display =\n",
              "          google.colab.kernel.accessAllowed ? 'block' : 'none';\n",
              "\n",
              "        async function convertToInteractive(key) {\n",
              "          const element = document.querySelector('#df-c9983500-0454-4f43-b891-5e184d481d09');\n",
              "          const dataTable =\n",
              "            await google.colab.kernel.invokeFunction('convertToInteractive',\n",
              "                                                     [key], {});\n",
              "          if (!dataTable) return;\n",
              "\n",
              "          const docLinkHtml = 'Like what you see? Visit the ' +\n",
              "            '<a target=\"_blank\" href=https://colab.research.google.com/notebooks/data_table.ipynb>data table notebook</a>'\n",
              "            + ' to learn more about interactive tables.';\n",
              "          element.innerHTML = '';\n",
              "          dataTable['output_type'] = 'display_data';\n",
              "          await google.colab.output.renderOutput(dataTable, element);\n",
              "          const docLink = document.createElement('div');\n",
              "          docLink.innerHTML = docLinkHtml;\n",
              "          element.appendChild(docLink);\n",
              "        }\n",
              "      </script>\n",
              "    </div>\n",
              "  </div>\n",
              "  "
            ]
          },
          "metadata": {},
          "execution_count": 17
        }
      ],
      "source": [
        "mask = ~df2['Identifier'].isin(df3['Identifier'])\n",
        "df2[mask]"
      ]
    },
    {
      "cell_type": "code",
      "execution_count": null,
      "id": "7c562a4f-6a70-4e53-8dc5-c2ebd3a1417f",
      "metadata": {
        "id": "7c562a4f-6a70-4e53-8dc5-c2ebd3a1417f",
        "colab": {
          "base_uri": "https://localhost:8080/"
        },
        "outputId": "a9fa7392-2f0e-4d25-9d82-9b95a9d166df"
      },
      "outputs": [
        {
          "output_type": "execute_result",
          "data": {
            "text/plain": [
              "(0, 9)"
            ]
          },
          "metadata": {},
          "execution_count": 19
        }
      ],
      "source": [
        "df2[mask].shape"
      ]
    },
    {
      "cell_type": "markdown",
      "id": "ce4445b4-53db-4d95-82b6-4af1088046bf",
      "metadata": {
        "id": "ce4445b4-53db-4d95-82b6-4af1088046bf"
      },
      "source": [
        "### Finding Trees that Don't have Matching Common Names Data"
      ]
    },
    {
      "cell_type": "code",
      "execution_count": null,
      "id": "f66f9bfd-6bfc-4faf-946e-d5d8f6cbb4b6",
      "metadata": {
        "id": "f66f9bfd-6bfc-4faf-946e-d5d8f6cbb4b6",
        "colab": {
          "base_uri": "https://localhost:8080/",
          "height": 871
        },
        "outputId": "850ae232-5834-4b73-825f-0f456da32bb1"
      },
      "outputs": [
        {
          "output_type": "execute_result",
          "data": {
            "text/plain": [
              "      Identifier  Number Of Trees                             Site Name  \\\n",
              "151     00051832              1.0                           ARGYLE WALK   \n",
              "384     00053954              1.0                        CHURCHILL ROAD   \n",
              "495     00047497              1.0                        PATSHULL PLACE   \n",
              "611     00055434              1.0                  SHARPLES HALL STREET   \n",
              "653     00055289              1.0                      QUEEN'S CRESCENT   \n",
              "...          ...              ...                                   ...   \n",
              "21826   00050835              1.0                           INGESTRE RD   \n",
              "22948   00052341              1.0                    NEW COMPTON STREET   \n",
              "23266   00048846              1.0                           ASMARA ROAD   \n",
              "23335   00048705              1.0                     GOLDINGTON STREET   \n",
              "23372   00031627              1.0  ST. GEORGE THE MARTYR C OF E JMI (E)   \n",
              "\n",
              "      Contract Area                Scientific Name Inspection Date  \\\n",
              "151        Highways  Sorbus aucuparia 'Streetwise'      2019-02-10   \n",
              "384        Highways  Sorbus aucuparia 'Streetwise'      2017-10-07   \n",
              "495        Highways  Sorbus aucuparia 'Streetwise'      2017-06-22   \n",
              "611        Highways  Sorbus aucuparia 'Streetwise'      2019-09-30   \n",
              "653        Highways  Sorbus aucuparia 'Streetwise'      2017-07-08   \n",
              "...             ...                            ...             ...   \n",
              "21826      Highways  Sorbus aucuparia 'Streetwise'      2017-08-18   \n",
              "22948      Highways  Sorbus aucuparia 'Streetwise'      2019-07-08   \n",
              "23266      Highways  Sorbus aucuparia 'Streetwise'      2018-08-28   \n",
              "23335      Highways  Sorbus aucuparia 'Streetwise'      2019-10-23   \n",
              "23372     Education       Cotoneaster salicifolius      2018-07-23   \n",
              "\n",
              "      Inspection Due Date  Height In Metres  Spread In Metres  \\\n",
              "151             2022/2023               7.0               3.0   \n",
              "384             2020/2021               3.0               2.0   \n",
              "495             2020/2021               5.0               3.0   \n",
              "611             2022/2023               2.0               2.0   \n",
              "653             2020/2021               4.0               1.0   \n",
              "...                   ...               ...               ...   \n",
              "21826           2020/2021               3.0               1.0   \n",
              "22948           2022/2023               4.0               3.0   \n",
              "23266           2021/2022               5.0               3.0   \n",
              "23335           2022/2023               6.0               2.0   \n",
              "23372           2021/2022               5.0               5.0   \n",
              "\n",
              "       Diameter In Centimetres At Breast Height  Ward Code  \\\n",
              "151                                        12.0  E05000141   \n",
              "384                                         5.0  E05000139   \n",
              "495                                        11.0  E05000131   \n",
              "611                                         4.0  E05000130   \n",
              "653                                         7.0  E05000136   \n",
              "...                                         ...        ...   \n",
              "21826                                       7.0  E05000139   \n",
              "22948                                       6.0  E05000138   \n",
              "23266                                       8.0  E05000132   \n",
              "23335                                      12.0  E05000143   \n",
              "23372                                       8.0  E05000138   \n",
              "\n",
              "                            Ward Name  Easting  Northing  Longitude  \\\n",
              "151                      King's Cross   530227    182706  -0.124054   \n",
              "384                      Kentish Town   529007    185975  -0.140440   \n",
              "495                        Cantelowes   529202    184717  -0.138094   \n",
              "611    Camden Town with Primrose Hill   527962    184050  -0.156202   \n",
              "653                        Haverstock   528072    184723  -0.154369   \n",
              "...                               ...      ...       ...        ...   \n",
              "21826                    Kentish Town   528962    185826  -0.141137   \n",
              "22948       Holborn and Covent Garden   529976    181160  -0.128249   \n",
              "23266                   Fortune Green   524568    185347  -0.204661   \n",
              "23335      St Pancras and Somers Town   529662    183417  -0.131941   \n",
              "23372       Holborn and Covent Garden   530742    182119  -0.116856   \n",
              "\n",
              "        Latitude                Location  \n",
              "151    51.528257  (51.528257, -0.124054)  \n",
              "384    51.557913   (51.557913, -0.14044)  \n",
              "495    51.546569  (51.546569, -0.138094)  \n",
              "611    51.540853  (51.540853, -0.156202)  \n",
              "653    51.546881  (51.546881, -0.154369)  \n",
              "...          ...                     ...  \n",
              "21826  51.556589  (51.556589, -0.141137)  \n",
              "22948  51.514422  (51.514422, -0.128249)  \n",
              "23266  51.553268  (51.553268, -0.204661)  \n",
              "23335  51.534780   (51.53478, -0.131941)  \n",
              "23372  51.522865  (51.522865, -0.116856)  \n",
              "\n",
              "[76 rows x 17 columns]"
            ],
            "text/html": [
              "\n",
              "  <div id=\"df-145cd878-b418-4faf-8e88-e1815b0937d7\">\n",
              "    <div class=\"colab-df-container\">\n",
              "      <div>\n",
              "<style scoped>\n",
              "    .dataframe tbody tr th:only-of-type {\n",
              "        vertical-align: middle;\n",
              "    }\n",
              "\n",
              "    .dataframe tbody tr th {\n",
              "        vertical-align: top;\n",
              "    }\n",
              "\n",
              "    .dataframe thead th {\n",
              "        text-align: right;\n",
              "    }\n",
              "</style>\n",
              "<table border=\"1\" class=\"dataframe\">\n",
              "  <thead>\n",
              "    <tr style=\"text-align: right;\">\n",
              "      <th></th>\n",
              "      <th>Identifier</th>\n",
              "      <th>Number Of Trees</th>\n",
              "      <th>Site Name</th>\n",
              "      <th>Contract Area</th>\n",
              "      <th>Scientific Name</th>\n",
              "      <th>Inspection Date</th>\n",
              "      <th>Inspection Due Date</th>\n",
              "      <th>Height In Metres</th>\n",
              "      <th>Spread In Metres</th>\n",
              "      <th>Diameter In Centimetres At Breast Height</th>\n",
              "      <th>Ward Code</th>\n",
              "      <th>Ward Name</th>\n",
              "      <th>Easting</th>\n",
              "      <th>Northing</th>\n",
              "      <th>Longitude</th>\n",
              "      <th>Latitude</th>\n",
              "      <th>Location</th>\n",
              "    </tr>\n",
              "  </thead>\n",
              "  <tbody>\n",
              "    <tr>\n",
              "      <th>151</th>\n",
              "      <td>00051832</td>\n",
              "      <td>1.0</td>\n",
              "      <td>ARGYLE WALK</td>\n",
              "      <td>Highways</td>\n",
              "      <td>Sorbus aucuparia 'Streetwise'</td>\n",
              "      <td>2019-02-10</td>\n",
              "      <td>2022/2023</td>\n",
              "      <td>7.0</td>\n",
              "      <td>3.0</td>\n",
              "      <td>12.0</td>\n",
              "      <td>E05000141</td>\n",
              "      <td>King's Cross</td>\n",
              "      <td>530227</td>\n",
              "      <td>182706</td>\n",
              "      <td>-0.124054</td>\n",
              "      <td>51.528257</td>\n",
              "      <td>(51.528257, -0.124054)</td>\n",
              "    </tr>\n",
              "    <tr>\n",
              "      <th>384</th>\n",
              "      <td>00053954</td>\n",
              "      <td>1.0</td>\n",
              "      <td>CHURCHILL ROAD</td>\n",
              "      <td>Highways</td>\n",
              "      <td>Sorbus aucuparia 'Streetwise'</td>\n",
              "      <td>2017-10-07</td>\n",
              "      <td>2020/2021</td>\n",
              "      <td>3.0</td>\n",
              "      <td>2.0</td>\n",
              "      <td>5.0</td>\n",
              "      <td>E05000139</td>\n",
              "      <td>Kentish Town</td>\n",
              "      <td>529007</td>\n",
              "      <td>185975</td>\n",
              "      <td>-0.140440</td>\n",
              "      <td>51.557913</td>\n",
              "      <td>(51.557913, -0.14044)</td>\n",
              "    </tr>\n",
              "    <tr>\n",
              "      <th>495</th>\n",
              "      <td>00047497</td>\n",
              "      <td>1.0</td>\n",
              "      <td>PATSHULL PLACE</td>\n",
              "      <td>Highways</td>\n",
              "      <td>Sorbus aucuparia 'Streetwise'</td>\n",
              "      <td>2017-06-22</td>\n",
              "      <td>2020/2021</td>\n",
              "      <td>5.0</td>\n",
              "      <td>3.0</td>\n",
              "      <td>11.0</td>\n",
              "      <td>E05000131</td>\n",
              "      <td>Cantelowes</td>\n",
              "      <td>529202</td>\n",
              "      <td>184717</td>\n",
              "      <td>-0.138094</td>\n",
              "      <td>51.546569</td>\n",
              "      <td>(51.546569, -0.138094)</td>\n",
              "    </tr>\n",
              "    <tr>\n",
              "      <th>611</th>\n",
              "      <td>00055434</td>\n",
              "      <td>1.0</td>\n",
              "      <td>SHARPLES HALL STREET</td>\n",
              "      <td>Highways</td>\n",
              "      <td>Sorbus aucuparia 'Streetwise'</td>\n",
              "      <td>2019-09-30</td>\n",
              "      <td>2022/2023</td>\n",
              "      <td>2.0</td>\n",
              "      <td>2.0</td>\n",
              "      <td>4.0</td>\n",
              "      <td>E05000130</td>\n",
              "      <td>Camden Town with Primrose Hill</td>\n",
              "      <td>527962</td>\n",
              "      <td>184050</td>\n",
              "      <td>-0.156202</td>\n",
              "      <td>51.540853</td>\n",
              "      <td>(51.540853, -0.156202)</td>\n",
              "    </tr>\n",
              "    <tr>\n",
              "      <th>653</th>\n",
              "      <td>00055289</td>\n",
              "      <td>1.0</td>\n",
              "      <td>QUEEN'S CRESCENT</td>\n",
              "      <td>Highways</td>\n",
              "      <td>Sorbus aucuparia 'Streetwise'</td>\n",
              "      <td>2017-07-08</td>\n",
              "      <td>2020/2021</td>\n",
              "      <td>4.0</td>\n",
              "      <td>1.0</td>\n",
              "      <td>7.0</td>\n",
              "      <td>E05000136</td>\n",
              "      <td>Haverstock</td>\n",
              "      <td>528072</td>\n",
              "      <td>184723</td>\n",
              "      <td>-0.154369</td>\n",
              "      <td>51.546881</td>\n",
              "      <td>(51.546881, -0.154369)</td>\n",
              "    </tr>\n",
              "    <tr>\n",
              "      <th>...</th>\n",
              "      <td>...</td>\n",
              "      <td>...</td>\n",
              "      <td>...</td>\n",
              "      <td>...</td>\n",
              "      <td>...</td>\n",
              "      <td>...</td>\n",
              "      <td>...</td>\n",
              "      <td>...</td>\n",
              "      <td>...</td>\n",
              "      <td>...</td>\n",
              "      <td>...</td>\n",
              "      <td>...</td>\n",
              "      <td>...</td>\n",
              "      <td>...</td>\n",
              "      <td>...</td>\n",
              "      <td>...</td>\n",
              "      <td>...</td>\n",
              "    </tr>\n",
              "    <tr>\n",
              "      <th>21826</th>\n",
              "      <td>00050835</td>\n",
              "      <td>1.0</td>\n",
              "      <td>INGESTRE RD</td>\n",
              "      <td>Highways</td>\n",
              "      <td>Sorbus aucuparia 'Streetwise'</td>\n",
              "      <td>2017-08-18</td>\n",
              "      <td>2020/2021</td>\n",
              "      <td>3.0</td>\n",
              "      <td>1.0</td>\n",
              "      <td>7.0</td>\n",
              "      <td>E05000139</td>\n",
              "      <td>Kentish Town</td>\n",
              "      <td>528962</td>\n",
              "      <td>185826</td>\n",
              "      <td>-0.141137</td>\n",
              "      <td>51.556589</td>\n",
              "      <td>(51.556589, -0.141137)</td>\n",
              "    </tr>\n",
              "    <tr>\n",
              "      <th>22948</th>\n",
              "      <td>00052341</td>\n",
              "      <td>1.0</td>\n",
              "      <td>NEW COMPTON STREET</td>\n",
              "      <td>Highways</td>\n",
              "      <td>Sorbus aucuparia 'Streetwise'</td>\n",
              "      <td>2019-07-08</td>\n",
              "      <td>2022/2023</td>\n",
              "      <td>4.0</td>\n",
              "      <td>3.0</td>\n",
              "      <td>6.0</td>\n",
              "      <td>E05000138</td>\n",
              "      <td>Holborn and Covent Garden</td>\n",
              "      <td>529976</td>\n",
              "      <td>181160</td>\n",
              "      <td>-0.128249</td>\n",
              "      <td>51.514422</td>\n",
              "      <td>(51.514422, -0.128249)</td>\n",
              "    </tr>\n",
              "    <tr>\n",
              "      <th>23266</th>\n",
              "      <td>00048846</td>\n",
              "      <td>1.0</td>\n",
              "      <td>ASMARA ROAD</td>\n",
              "      <td>Highways</td>\n",
              "      <td>Sorbus aucuparia 'Streetwise'</td>\n",
              "      <td>2018-08-28</td>\n",
              "      <td>2021/2022</td>\n",
              "      <td>5.0</td>\n",
              "      <td>3.0</td>\n",
              "      <td>8.0</td>\n",
              "      <td>E05000132</td>\n",
              "      <td>Fortune Green</td>\n",
              "      <td>524568</td>\n",
              "      <td>185347</td>\n",
              "      <td>-0.204661</td>\n",
              "      <td>51.553268</td>\n",
              "      <td>(51.553268, -0.204661)</td>\n",
              "    </tr>\n",
              "    <tr>\n",
              "      <th>23335</th>\n",
              "      <td>00048705</td>\n",
              "      <td>1.0</td>\n",
              "      <td>GOLDINGTON STREET</td>\n",
              "      <td>Highways</td>\n",
              "      <td>Sorbus aucuparia 'Streetwise'</td>\n",
              "      <td>2019-10-23</td>\n",
              "      <td>2022/2023</td>\n",
              "      <td>6.0</td>\n",
              "      <td>2.0</td>\n",
              "      <td>12.0</td>\n",
              "      <td>E05000143</td>\n",
              "      <td>St Pancras and Somers Town</td>\n",
              "      <td>529662</td>\n",
              "      <td>183417</td>\n",
              "      <td>-0.131941</td>\n",
              "      <td>51.534780</td>\n",
              "      <td>(51.53478, -0.131941)</td>\n",
              "    </tr>\n",
              "    <tr>\n",
              "      <th>23372</th>\n",
              "      <td>00031627</td>\n",
              "      <td>1.0</td>\n",
              "      <td>ST. GEORGE THE MARTYR C OF E JMI (E)</td>\n",
              "      <td>Education</td>\n",
              "      <td>Cotoneaster salicifolius</td>\n",
              "      <td>2018-07-23</td>\n",
              "      <td>2021/2022</td>\n",
              "      <td>5.0</td>\n",
              "      <td>5.0</td>\n",
              "      <td>8.0</td>\n",
              "      <td>E05000138</td>\n",
              "      <td>Holborn and Covent Garden</td>\n",
              "      <td>530742</td>\n",
              "      <td>182119</td>\n",
              "      <td>-0.116856</td>\n",
              "      <td>51.522865</td>\n",
              "      <td>(51.522865, -0.116856)</td>\n",
              "    </tr>\n",
              "  </tbody>\n",
              "</table>\n",
              "<p>76 rows × 17 columns</p>\n",
              "</div>\n",
              "      <button class=\"colab-df-convert\" onclick=\"convertToInteractive('df-145cd878-b418-4faf-8e88-e1815b0937d7')\"\n",
              "              title=\"Convert this dataframe to an interactive table.\"\n",
              "              style=\"display:none;\">\n",
              "        \n",
              "  <svg xmlns=\"http://www.w3.org/2000/svg\" height=\"24px\"viewBox=\"0 0 24 24\"\n",
              "       width=\"24px\">\n",
              "    <path d=\"M0 0h24v24H0V0z\" fill=\"none\"/>\n",
              "    <path d=\"M18.56 5.44l.94 2.06.94-2.06 2.06-.94-2.06-.94-.94-2.06-.94 2.06-2.06.94zm-11 1L8.5 8.5l.94-2.06 2.06-.94-2.06-.94L8.5 2.5l-.94 2.06-2.06.94zm10 10l.94 2.06.94-2.06 2.06-.94-2.06-.94-.94-2.06-.94 2.06-2.06.94z\"/><path d=\"M17.41 7.96l-1.37-1.37c-.4-.4-.92-.59-1.43-.59-.52 0-1.04.2-1.43.59L10.3 9.45l-7.72 7.72c-.78.78-.78 2.05 0 2.83L4 21.41c.39.39.9.59 1.41.59.51 0 1.02-.2 1.41-.59l7.78-7.78 2.81-2.81c.8-.78.8-2.07 0-2.86zM5.41 20L4 18.59l7.72-7.72 1.47 1.35L5.41 20z\"/>\n",
              "  </svg>\n",
              "      </button>\n",
              "      \n",
              "  <style>\n",
              "    .colab-df-container {\n",
              "      display:flex;\n",
              "      flex-wrap:wrap;\n",
              "      gap: 12px;\n",
              "    }\n",
              "\n",
              "    .colab-df-convert {\n",
              "      background-color: #E8F0FE;\n",
              "      border: none;\n",
              "      border-radius: 50%;\n",
              "      cursor: pointer;\n",
              "      display: none;\n",
              "      fill: #1967D2;\n",
              "      height: 32px;\n",
              "      padding: 0 0 0 0;\n",
              "      width: 32px;\n",
              "    }\n",
              "\n",
              "    .colab-df-convert:hover {\n",
              "      background-color: #E2EBFA;\n",
              "      box-shadow: 0px 1px 2px rgba(60, 64, 67, 0.3), 0px 1px 3px 1px rgba(60, 64, 67, 0.15);\n",
              "      fill: #174EA6;\n",
              "    }\n",
              "\n",
              "    [theme=dark] .colab-df-convert {\n",
              "      background-color: #3B4455;\n",
              "      fill: #D2E3FC;\n",
              "    }\n",
              "\n",
              "    [theme=dark] .colab-df-convert:hover {\n",
              "      background-color: #434B5C;\n",
              "      box-shadow: 0px 1px 3px 1px rgba(0, 0, 0, 0.15);\n",
              "      filter: drop-shadow(0px 1px 2px rgba(0, 0, 0, 0.3));\n",
              "      fill: #FFFFFF;\n",
              "    }\n",
              "  </style>\n",
              "\n",
              "      <script>\n",
              "        const buttonEl =\n",
              "          document.querySelector('#df-145cd878-b418-4faf-8e88-e1815b0937d7 button.colab-df-convert');\n",
              "        buttonEl.style.display =\n",
              "          google.colab.kernel.accessAllowed ? 'block' : 'none';\n",
              "\n",
              "        async function convertToInteractive(key) {\n",
              "          const element = document.querySelector('#df-145cd878-b418-4faf-8e88-e1815b0937d7');\n",
              "          const dataTable =\n",
              "            await google.colab.kernel.invokeFunction('convertToInteractive',\n",
              "                                                     [key], {});\n",
              "          if (!dataTable) return;\n",
              "\n",
              "          const docLinkHtml = 'Like what you see? Visit the ' +\n",
              "            '<a target=\"_blank\" href=https://colab.research.google.com/notebooks/data_table.ipynb>data table notebook</a>'\n",
              "            + ' to learn more about interactive tables.';\n",
              "          element.innerHTML = '';\n",
              "          dataTable['output_type'] = 'display_data';\n",
              "          await google.colab.output.renderOutput(dataTable, element);\n",
              "          const docLink = document.createElement('div');\n",
              "          docLink.innerHTML = docLinkHtml;\n",
              "          element.appendChild(docLink);\n",
              "        }\n",
              "      </script>\n",
              "    </div>\n",
              "  </div>\n",
              "  "
            ]
          },
          "metadata": {},
          "execution_count": 20
        }
      ],
      "source": [
        "mask = ~df3['Scientific Name'].isin(df1['Scientific Name'])\n",
        "df3[mask]"
      ]
    },
    {
      "cell_type": "code",
      "execution_count": null,
      "id": "183f5951-2c4e-486a-beb9-68abc8be8674",
      "metadata": {
        "id": "183f5951-2c4e-486a-beb9-68abc8be8674",
        "colab": {
          "base_uri": "https://localhost:8080/"
        },
        "outputId": "cdb5f775-b16a-4af2-a275-634409ab4322"
      },
      "outputs": [
        {
          "output_type": "execute_result",
          "data": {
            "text/plain": [
              "(76, 17)"
            ]
          },
          "metadata": {},
          "execution_count": 22
        }
      ],
      "source": [
        "df3[mask].shape"
      ]
    },
    {
      "cell_type": "markdown",
      "id": "28a9ce1a-e0d6-42b2-b83a-bfb1c1a21f75",
      "metadata": {
        "id": "28a9ce1a-e0d6-42b2-b83a-bfb1c1a21f75"
      },
      "source": [
        "<hr/>\n",
        "\n",
        "### Observations\n"
      ]
    },
    {
      "cell_type": "markdown",
      "id": "80b550e2-3d7e-44af-990a-cc59b070c269",
      "metadata": {
        "id": "80b550e2-3d7e-44af-990a-cc59b070c269"
      },
      "source": [
        "- There's 23 values from Trees dataframe that are not matching in Environmental data.\n",
        "- Every value from Environmental data matches Tree data\n",
        "- There’s 76 values from Tree data that are not matching in Common Names data."
      ]
    },
    {
      "cell_type": "markdown",
      "id": "663f0130-1aee-4590-b6d3-ddc531035415",
      "metadata": {
        "id": "663f0130-1aee-4590-b6d3-ddc531035415"
      },
      "source": [
        "<hr/>"
      ]
    }
  ],
  "metadata": {
    "kernelspec": {
      "display_name": "Python 3 (ipykernel)",
      "language": "python",
      "name": "python3"
    },
    "language_info": {
      "codemirror_mode": {
        "name": "ipython",
        "version": 3
      },
      "file_extension": ".py",
      "mimetype": "text/x-python",
      "name": "python",
      "nbconvert_exporter": "python",
      "pygments_lexer": "ipython3",
      "version": "3.9.7"
    },
    "colab": {
      "provenance": [],
      "include_colab_link": true
    }
  },
  "nbformat": 4,
  "nbformat_minor": 5
}